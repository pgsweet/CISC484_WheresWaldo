{
 "cells": [
  {
   "cell_type": "code",
   "id": "initial_id",
   "metadata": {
    "ExecuteTime": {
     "end_time": "2025-05-12T02:12:13.881871Z",
     "start_time": "2025-05-12T02:12:11.774375Z"
    }
   },
   "source": "from ultralytics import YOLO",
   "outputs": [],
   "execution_count": 2
  },
  {
   "cell_type": "code",
   "id": "4973cdce0f9c7169",
   "metadata": {
    "ExecuteTime": {
     "end_time": "2025-05-12T03:46:50.087784Z",
     "start_time": "2025-05-12T03:22:50.546914Z"
    }
   },
   "source": [
    "# there are 5 total ranging from nano to XL (XL is yolov6x.yaml)\n",
    "model = YOLO('yolov6x.yaml')\n",
    "\n",
    "model.info()\n",
    "model.train(data='waldo.yaml', epochs=50, imgsz=192)"
   ],
   "outputs": [
    {
     "name": "stdout",
     "output_type": "stream",
     "text": [
      "YOLOv6x summary: 225 layers, 173,061,616 parameters, 173,061,600 gradients, 611.4 GFLOPs\n",
      "Ultralytics 8.3.131  Python-3.12.6 torch-2.7.0+cu128 CUDA:0 (NVIDIA GeForce RTX 3070 Ti, 8192MiB)\n",
      "\u001B[34m\u001B[1mengine\\trainer: \u001B[0magnostic_nms=False, amp=True, augment=False, auto_augment=randaugment, batch=16, bgr=0.0, box=7.5, cache=False, cfg=None, classes=None, close_mosaic=10, cls=0.5, conf=None, copy_paste=0.0, copy_paste_mode=flip, cos_lr=False, cutmix=0.0, data=waldo.yaml, degrees=0.0, deterministic=True, device=None, dfl=1.5, dnn=False, dropout=0.0, dynamic=False, embed=None, epochs=50, erasing=0.4, exist_ok=False, fliplr=0.5, flipud=0.0, format=torchscript, fraction=1.0, freeze=None, half=False, hsv_h=0.015, hsv_s=0.7, hsv_v=0.4, imgsz=192, int8=False, iou=0.7, keras=False, kobj=1.0, line_width=None, lr0=0.01, lrf=0.01, mask_ratio=4, max_det=300, mixup=0.0, mode=train, model=yolov6x.yaml, momentum=0.937, mosaic=1.0, multi_scale=False, name=train7, nbs=64, nms=False, opset=None, optimize=False, optimizer=auto, overlap_mask=True, patience=100, perspective=0.0, plots=True, pose=12.0, pretrained=True, profile=False, project=None, rect=False, resume=False, retina_masks=False, save=True, save_conf=False, save_crop=False, save_dir=runs\\detect\\train7, save_frames=False, save_json=False, save_period=-1, save_txt=False, scale=0.5, seed=0, shear=0.0, show=False, show_boxes=True, show_conf=True, show_labels=True, simplify=True, single_cls=False, source=None, split=val, stream_buffer=False, task=detect, time=None, tracker=botsort.yaml, translate=0.1, val=True, verbose=True, vid_stride=1, visualize=False, warmup_bias_lr=0.1, warmup_epochs=3.0, warmup_momentum=0.8, weight_decay=0.0005, workers=8, workspace=None\n",
      "Overriding model.yaml nc=80 with nc=1\n",
      "\u001B[34m\u001B[1mactivation:\u001B[0m torch.nn.ReLU()\n",
      "\n",
      "                   from  n    params  module                                       arguments                     \n",
      "  0                  -1  1      2320  ultralytics.nn.modules.conv.Conv             [3, 80, 3, 2]                 \n",
      "  1                  -1  1    115520  ultralytics.nn.modules.conv.Conv             [80, 160, 3, 2]               \n",
      "  2                  -1  6   1384320  ultralytics.nn.modules.conv.Conv             [160, 160, 3, 1]              \n",
      "  3                  -1  1    461440  ultralytics.nn.modules.conv.Conv             [160, 320, 3, 2]              \n",
      "  4                  -1 12  11066880  ultralytics.nn.modules.conv.Conv             [320, 320, 3, 1]              \n",
      "  5                  -1  1   1844480  ultralytics.nn.modules.conv.Conv             [320, 640, 3, 2]              \n",
      "  6                  -1 18  66378240  ultralytics.nn.modules.conv.Conv             [640, 640, 3, 1]              \n",
      "  7                  -1  1   3687680  ultralytics.nn.modules.conv.Conv             [640, 640, 3, 2]              \n",
      "  8                  -1  6  22126080  ultralytics.nn.modules.conv.Conv             [640, 640, 3, 1]              \n",
      "  9                  -1  1   1025920  ultralytics.nn.modules.block.SPPF            [640, 640, 5]                 \n",
      " 10                  -1  1    205440  ultralytics.nn.modules.conv.Conv             [640, 320, 1, 1]              \n",
      " 11                  -1  1    409920  torch.nn.modules.conv.ConvTranspose2d        [320, 320, 2, 2, 0]           \n",
      " 12             [-1, 6]  1         0  ultralytics.nn.modules.conv.Concat           [1]                           \n",
      " 13                  -1  1   2765440  ultralytics.nn.modules.conv.Conv             [960, 320, 3, 1]              \n",
      " 14                  -1  9   8300160  ultralytics.nn.modules.conv.Conv             [320, 320, 3, 1]              \n",
      " 15                  -1  1     51520  ultralytics.nn.modules.conv.Conv             [320, 160, 1, 1]              \n",
      " 16                  -1  1    102560  torch.nn.modules.conv.ConvTranspose2d        [160, 160, 2, 2, 0]           \n",
      " 17             [-1, 4]  1         0  ultralytics.nn.modules.conv.Concat           [1]                           \n",
      " 18                  -1  1    691520  ultralytics.nn.modules.conv.Conv             [480, 160, 3, 1]              \n",
      " 19                  -1  9   2076480  ultralytics.nn.modules.conv.Conv             [160, 160, 3, 1]              \n",
      " 20                  -1  1    230720  ultralytics.nn.modules.conv.Conv             [160, 160, 3, 2]              \n",
      " 21            [-1, 15]  1         0  ultralytics.nn.modules.conv.Concat           [1]                           \n",
      " 22                  -1  1    922240  ultralytics.nn.modules.conv.Conv             [320, 320, 3, 1]              \n",
      " 23                  -1  9   8300160  ultralytics.nn.modules.conv.Conv             [320, 320, 3, 1]              \n",
      " 24                  -1  1    922240  ultralytics.nn.modules.conv.Conv             [320, 320, 3, 2]              \n",
      " 25            [-1, 10]  1         0  ultralytics.nn.modules.conv.Concat           [1]                           \n",
      " 26                  -1  1   3687680  ultralytics.nn.modules.conv.Conv             [640, 640, 3, 1]              \n",
      " 27                  -1  9  33189120  ultralytics.nn.modules.conv.Conv             [640, 640, 3, 1]              \n",
      " 28        [19, 23, 27]  1   3075379  ultralytics.nn.modules.head.Detect           [1, [160, 320, 640]]          \n",
      "YOLOv6x summary: 225 layers, 173,023,459 parameters, 173,023,443 gradients, 611.1 GFLOPs\n",
      "\n",
      "Freezing layer 'model.28.dfl.conv.weight'\n",
      "\u001B[34m\u001B[1mAMP: \u001B[0mrunning Automatic Mixed Precision (AMP) checks...\n",
      "\u001B[34m\u001B[1mAMP: \u001B[0mchecks passed \n",
      "\u001B[34m\u001B[1mtrain: \u001B[0mFast image access  (ping: 0.10.0 ms, read: 121.429.5 MB/s, size: 28.0 KB)\n"
     ]
    },
    {
     "name": "stderr",
     "output_type": "stream",
     "text": [
      "\u001B[34m\u001B[1mtrain: \u001B[0mScanning C:\\Users\\patri\\Github\\CISC484_WheresWaldo\\datasets\\waldo\\labels\\train... 1700 images, 0 backgrounds, 0 corrupt: 100%|██████████| 1700/1700 [00:00<00:00, 2371.07it/s]\n"
     ]
    },
    {
     "name": "stdout",
     "output_type": "stream",
     "text": [
      "\u001B[34m\u001B[1mtrain: \u001B[0mNew cache created: C:\\Users\\patri\\Github\\CISC484_WheresWaldo\\datasets\\waldo\\labels\\train.cache\n",
      "\u001B[34m\u001B[1mval: \u001B[0mFast image access  (ping: 0.10.1 ms, read: 91.519.6 MB/s, size: 31.1 KB)\n"
     ]
    },
    {
     "name": "stderr",
     "output_type": "stream",
     "text": [
      "\u001B[34m\u001B[1mval: \u001B[0mScanning C:\\Users\\patri\\Github\\CISC484_WheresWaldo\\datasets\\waldo\\labels\\val... 340 images, 0 backgrounds, 0 corrupt: 100%|██████████| 340/340 [00:00<00:00, 1750.62it/s]"
     ]
    },
    {
     "name": "stdout",
     "output_type": "stream",
     "text": [
      "\u001B[34m\u001B[1mval: \u001B[0mNew cache created: C:\\Users\\patri\\Github\\CISC484_WheresWaldo\\datasets\\waldo\\labels\\val.cache\n"
     ]
    },
    {
     "name": "stderr",
     "output_type": "stream",
     "text": [
      "\n"
     ]
    },
    {
     "name": "stdout",
     "output_type": "stream",
     "text": [
      "Plotting labels to runs\\detect\\train7\\labels.jpg... \n",
      "\u001B[34m\u001B[1moptimizer:\u001B[0m 'optimizer=auto' found, ignoring 'lr0=0.01' and 'momentum=0.937' and determining best 'optimizer', 'lr0' and 'momentum' automatically... \n",
      "\u001B[34m\u001B[1moptimizer:\u001B[0m AdamW(lr=0.002, momentum=0.9) with parameter groups 105 weight(decay=0.0), 114 weight(decay=0.0005), 113 bias(decay=0.0)\n",
      "Image sizes 192 train, 192 val\n",
      "Using 8 dataloader workers\n",
      "Logging results to \u001B[1mruns\\detect\\train7\u001B[0m\n",
      "Starting training for 50 epochs...\n",
      "\n",
      "      Epoch    GPU_mem   box_loss   cls_loss   dfl_loss  Instances       Size\n"
     ]
    },
    {
     "name": "stderr",
     "output_type": "stream",
     "text": [
      "       1/50      5.29G      5.636      4.544      3.911          3        192: 100%|██████████| 107/107 [00:22<00:00,  4.83it/s]\n",
      "                 Class     Images  Instances      Box(P          R      mAP50  mAP50-95): 100%|██████████| 11/11 [00:02<00:00,  4.83it/s]"
     ]
    },
    {
     "name": "stdout",
     "output_type": "stream",
     "text": [
      "                   all        340        340    0.00114      0.156   0.000664   0.000282\n"
     ]
    },
    {
     "name": "stderr",
     "output_type": "stream",
     "text": [
      "\n"
     ]
    },
    {
     "name": "stdout",
     "output_type": "stream",
     "text": [
      "\n",
      "      Epoch    GPU_mem   box_loss   cls_loss   dfl_loss  Instances       Size\n"
     ]
    },
    {
     "name": "stderr",
     "output_type": "stream",
     "text": [
      "       2/50      4.99G      4.287      3.568      2.865          6        192: 100%|██████████| 107/107 [00:20<00:00,  5.22it/s]\n",
      "                 Class     Images  Instances      Box(P          R      mAP50  mAP50-95): 100%|██████████| 11/11 [00:02<00:00,  5.42it/s]"
     ]
    },
    {
     "name": "stdout",
     "output_type": "stream",
     "text": [
      "                   all        340        340          0          0          0          0\n"
     ]
    },
    {
     "name": "stderr",
     "output_type": "stream",
     "text": [
      "\n"
     ]
    },
    {
     "name": "stdout",
     "output_type": "stream",
     "text": [
      "\n",
      "      Epoch    GPU_mem   box_loss   cls_loss   dfl_loss  Instances       Size\n"
     ]
    },
    {
     "name": "stderr",
     "output_type": "stream",
     "text": [
      "       3/50      4.94G      3.984      3.533      2.541          6        192: 100%|██████████| 107/107 [00:20<00:00,  5.23it/s]\n",
      "                 Class     Images  Instances      Box(P          R      mAP50  mAP50-95): 100%|██████████| 11/11 [00:01<00:00,  6.15it/s]"
     ]
    },
    {
     "name": "stdout",
     "output_type": "stream",
     "text": [
      "                   all        340        340    0.00207    0.00588    0.00105   0.000314\n"
     ]
    },
    {
     "name": "stderr",
     "output_type": "stream",
     "text": [
      "\n"
     ]
    },
    {
     "name": "stdout",
     "output_type": "stream",
     "text": [
      "\n",
      "      Epoch    GPU_mem   box_loss   cls_loss   dfl_loss  Instances       Size\n"
     ]
    },
    {
     "name": "stderr",
     "output_type": "stream",
     "text": [
      "       4/50      4.97G      3.926      3.484      2.416          7        192: 100%|██████████| 107/107 [00:19<00:00,  5.39it/s]\n",
      "                 Class     Images  Instances      Box(P          R      mAP50  mAP50-95): 100%|██████████| 11/11 [00:02<00:00,  4.54it/s]"
     ]
    },
    {
     "name": "stdout",
     "output_type": "stream",
     "text": [
      "                   all        340        340    0.00841    0.00588    0.00185   0.000596\n"
     ]
    },
    {
     "name": "stderr",
     "output_type": "stream",
     "text": [
      "\n"
     ]
    },
    {
     "name": "stdout",
     "output_type": "stream",
     "text": [
      "\n",
      "      Epoch    GPU_mem   box_loss   cls_loss   dfl_loss  Instances       Size\n"
     ]
    },
    {
     "name": "stderr",
     "output_type": "stream",
     "text": [
      "       5/50      4.96G      3.888      3.476      2.392          6        192: 100%|██████████| 107/107 [00:19<00:00,  5.54it/s]\n",
      "                 Class     Images  Instances      Box(P          R      mAP50  mAP50-95): 100%|██████████| 11/11 [00:02<00:00,  4.65it/s]\n"
     ]
    },
    {
     "name": "stdout",
     "output_type": "stream",
     "text": [
      "                   all        340        340    0.00125      0.376    0.00113   0.000344\n",
      "\n",
      "      Epoch    GPU_mem   box_loss   cls_loss   dfl_loss  Instances       Size\n"
     ]
    },
    {
     "name": "stderr",
     "output_type": "stream",
     "text": [
      "       6/50       4.9G      3.865      3.451      2.352          4        192: 100%|██████████| 107/107 [00:20<00:00,  5.31it/s]\n",
      "                 Class     Images  Instances      Box(P          R      mAP50  mAP50-95): 100%|██████████| 11/11 [00:02<00:00,  4.46it/s]\n"
     ]
    },
    {
     "name": "stdout",
     "output_type": "stream",
     "text": [
      "                   all        340        340    0.00125      0.374   0.000926   0.000273\n",
      "\n",
      "      Epoch    GPU_mem   box_loss   cls_loss   dfl_loss  Instances       Size\n"
     ]
    },
    {
     "name": "stderr",
     "output_type": "stream",
     "text": [
      "       7/50      4.89G      3.835      3.456      2.309          6        192: 100%|██████████| 107/107 [00:20<00:00,  5.20it/s]\n",
      "                 Class     Images  Instances      Box(P          R      mAP50  mAP50-95): 100%|██████████| 11/11 [00:02<00:00,  3.99it/s]\n"
     ]
    },
    {
     "name": "stdout",
     "output_type": "stream",
     "text": [
      "                   all        340        340     0.0019      0.544    0.00272   0.000795\n",
      "\n",
      "      Epoch    GPU_mem   box_loss   cls_loss   dfl_loss  Instances       Size\n"
     ]
    },
    {
     "name": "stderr",
     "output_type": "stream",
     "text": [
      "       8/50         5G        3.8      3.443      2.327          5        192: 100%|██████████| 107/107 [00:20<00:00,  5.26it/s]\n",
      "                 Class     Images  Instances      Box(P          R      mAP50  mAP50-95): 100%|██████████| 11/11 [00:02<00:00,  4.10it/s]\n"
     ]
    },
    {
     "name": "stdout",
     "output_type": "stream",
     "text": [
      "                   all        340        340    0.00139      0.418    0.00147   0.000418\n",
      "\n",
      "      Epoch    GPU_mem   box_loss   cls_loss   dfl_loss  Instances       Size\n"
     ]
    },
    {
     "name": "stderr",
     "output_type": "stream",
     "text": [
      "       9/50      4.91G      3.787      3.449      2.315          4        192: 100%|██████████| 107/107 [00:19<00:00,  5.41it/s]\n",
      "                 Class     Images  Instances      Box(P          R      mAP50  mAP50-95): 100%|██████████| 11/11 [00:02<00:00,  4.46it/s]"
     ]
    },
    {
     "name": "stdout",
     "output_type": "stream",
     "text": [
      "                   all        340        340    0.00191      0.574    0.00217    0.00065\n"
     ]
    },
    {
     "name": "stderr",
     "output_type": "stream",
     "text": [
      "\n"
     ]
    },
    {
     "name": "stdout",
     "output_type": "stream",
     "text": [
      "\n",
      "      Epoch    GPU_mem   box_loss   cls_loss   dfl_loss  Instances       Size\n"
     ]
    },
    {
     "name": "stderr",
     "output_type": "stream",
     "text": [
      "      10/50       4.9G      3.787      3.489      2.257          7        192: 100%|██████████| 107/107 [00:20<00:00,  5.26it/s]\n",
      "                 Class     Images  Instances      Box(P          R      mAP50  mAP50-95): 100%|██████████| 11/11 [00:02<00:00,  4.38it/s]\n"
     ]
    },
    {
     "name": "stdout",
     "output_type": "stream",
     "text": [
      "                   all        340        340    0.00125      0.374   0.000932   0.000297\n",
      "\n",
      "      Epoch    GPU_mem   box_loss   cls_loss   dfl_loss  Instances       Size\n"
     ]
    },
    {
     "name": "stderr",
     "output_type": "stream",
     "text": [
      "      11/50      4.88G      3.768      3.476       2.27          3        192: 100%|██████████| 107/107 [00:20<00:00,  5.21it/s]\n",
      "                 Class     Images  Instances      Box(P          R      mAP50  mAP50-95): 100%|██████████| 11/11 [00:02<00:00,  4.50it/s]\n"
     ]
    },
    {
     "name": "stdout",
     "output_type": "stream",
     "text": [
      "                   all        340        340    0.00142      0.426    0.00135   0.000434\n",
      "\n",
      "      Epoch    GPU_mem   box_loss   cls_loss   dfl_loss  Instances       Size\n"
     ]
    },
    {
     "name": "stderr",
     "output_type": "stream",
     "text": [
      "      12/50      4.99G      3.708      3.481      2.254          6        192: 100%|██████████| 107/107 [00:20<00:00,  5.20it/s]\n",
      "                 Class     Images  Instances      Box(P          R      mAP50  mAP50-95): 100%|██████████| 11/11 [00:02<00:00,  4.17it/s]\n"
     ]
    },
    {
     "name": "stdout",
     "output_type": "stream",
     "text": [
      "                   all        340        340    0.00177      0.532    0.00199   0.000594\n",
      "\n",
      "      Epoch    GPU_mem   box_loss   cls_loss   dfl_loss  Instances       Size\n"
     ]
    },
    {
     "name": "stderr",
     "output_type": "stream",
     "text": [
      "      13/50      4.94G       3.74      3.476      2.261          6        192: 100%|██████████| 107/107 [00:20<00:00,  5.29it/s]\n",
      "                 Class     Images  Instances      Box(P          R      mAP50  mAP50-95): 100%|██████████| 11/11 [00:02<00:00,  4.35it/s]\n"
     ]
    },
    {
     "name": "stdout",
     "output_type": "stream",
     "text": [
      "                   all        340        340    0.00148      0.444    0.00128   0.000418\n",
      "\n",
      "      Epoch    GPU_mem   box_loss   cls_loss   dfl_loss  Instances       Size\n"
     ]
    },
    {
     "name": "stderr",
     "output_type": "stream",
     "text": [
      "      14/50      4.93G      3.693      3.502      2.242          4        192: 100%|██████████| 107/107 [00:20<00:00,  5.13it/s]\n",
      "                 Class     Images  Instances      Box(P          R      mAP50  mAP50-95): 100%|██████████| 11/11 [00:02<00:00,  4.11it/s]\n"
     ]
    },
    {
     "name": "stdout",
     "output_type": "stream",
     "text": [
      "                   all        340        340     0.0014      0.421     0.0012   0.000388\n",
      "\n",
      "      Epoch    GPU_mem   box_loss   cls_loss   dfl_loss  Instances       Size\n"
     ]
    },
    {
     "name": "stderr",
     "output_type": "stream",
     "text": [
      "      15/50      4.88G      3.672      3.511       2.18          5        192: 100%|██████████| 107/107 [00:20<00:00,  5.26it/s]\n",
      "                 Class     Images  Instances      Box(P          R      mAP50  mAP50-95): 100%|██████████| 11/11 [00:02<00:00,  4.00it/s]\n"
     ]
    },
    {
     "name": "stdout",
     "output_type": "stream",
     "text": [
      "                   all        340        340    0.00184      0.553    0.00468    0.00109\n",
      "\n",
      "      Epoch    GPU_mem   box_loss   cls_loss   dfl_loss  Instances       Size\n"
     ]
    },
    {
     "name": "stderr",
     "output_type": "stream",
     "text": [
      "      16/50      4.97G      3.665      3.507      2.179          8        192: 100%|██████████| 107/107 [00:19<00:00,  5.39it/s]\n",
      "                 Class     Images  Instances      Box(P          R      mAP50  mAP50-95): 100%|██████████| 11/11 [00:02<00:00,  4.43it/s]\n"
     ]
    },
    {
     "name": "stdout",
     "output_type": "stream",
     "text": [
      "                   all        340        340    0.00183       0.55    0.00231   0.000659\n",
      "\n",
      "      Epoch    GPU_mem   box_loss   cls_loss   dfl_loss  Instances       Size\n"
     ]
    },
    {
     "name": "stderr",
     "output_type": "stream",
     "text": [
      "      17/50      4.96G      3.608      3.548      2.138          4        192: 100%|██████████| 107/107 [00:20<00:00,  5.33it/s]\n",
      "                 Class     Images  Instances      Box(P          R      mAP50  mAP50-95): 100%|██████████| 11/11 [00:02<00:00,  3.78it/s]"
     ]
    },
    {
     "name": "stdout",
     "output_type": "stream",
     "text": [
      "                   all        340        340    0.00212      0.635    0.00289   0.000834\n"
     ]
    },
    {
     "name": "stderr",
     "output_type": "stream",
     "text": [
      "\n"
     ]
    },
    {
     "name": "stdout",
     "output_type": "stream",
     "text": [
      "\n",
      "      Epoch    GPU_mem   box_loss   cls_loss   dfl_loss  Instances       Size\n"
     ]
    },
    {
     "name": "stderr",
     "output_type": "stream",
     "text": [
      "      18/50      4.91G      3.575      3.498      2.131          9        192: 100%|██████████| 107/107 [00:20<00:00,  5.34it/s]\n",
      "                 Class     Images  Instances      Box(P          R      mAP50  mAP50-95): 100%|██████████| 11/11 [00:02<00:00,  4.35it/s]\n"
     ]
    },
    {
     "name": "stdout",
     "output_type": "stream",
     "text": [
      "                   all        340        340    0.00153      0.459     0.0018   0.000498\n",
      "\n",
      "      Epoch    GPU_mem   box_loss   cls_loss   dfl_loss  Instances       Size\n"
     ]
    },
    {
     "name": "stderr",
     "output_type": "stream",
     "text": [
      "      19/50      4.88G        3.5      3.511      2.039          8        192: 100%|██████████| 107/107 [00:20<00:00,  5.26it/s]\n",
      "                 Class     Images  Instances      Box(P          R      mAP50  mAP50-95): 100%|██████████| 11/11 [00:02<00:00,  3.98it/s]\n"
     ]
    },
    {
     "name": "stdout",
     "output_type": "stream",
     "text": [
      "                   all        340        340    0.00182      0.547    0.00237   0.000797\n",
      "\n",
      "      Epoch    GPU_mem   box_loss   cls_loss   dfl_loss  Instances       Size\n"
     ]
    },
    {
     "name": "stderr",
     "output_type": "stream",
     "text": [
      "      20/50         5G      3.536      3.546      2.022          4        192: 100%|██████████| 107/107 [00:20<00:00,  5.34it/s]\n",
      "                 Class     Images  Instances      Box(P          R      mAP50  mAP50-95): 100%|██████████| 11/11 [00:02<00:00,  4.29it/s]"
     ]
    },
    {
     "name": "stdout",
     "output_type": "stream",
     "text": [
      "                   all        340        340    0.00224      0.671    0.00312    0.00101\n"
     ]
    },
    {
     "name": "stderr",
     "output_type": "stream",
     "text": [
      "\n"
     ]
    },
    {
     "name": "stdout",
     "output_type": "stream",
     "text": [
      "\n",
      "      Epoch    GPU_mem   box_loss   cls_loss   dfl_loss  Instances       Size\n"
     ]
    },
    {
     "name": "stderr",
     "output_type": "stream",
     "text": [
      "      21/50      4.95G      3.451      3.526      2.001          3        192: 100%|██████████| 107/107 [00:20<00:00,  5.20it/s]\n",
      "                 Class     Images  Instances      Box(P          R      mAP50  mAP50-95): 100%|██████████| 11/11 [00:02<00:00,  4.00it/s]"
     ]
    },
    {
     "name": "stdout",
     "output_type": "stream",
     "text": [
      "                   all        340        340    0.00205      0.615    0.00344   0.000984\n"
     ]
    },
    {
     "name": "stderr",
     "output_type": "stream",
     "text": [
      "\n"
     ]
    },
    {
     "name": "stdout",
     "output_type": "stream",
     "text": [
      "\n",
      "      Epoch    GPU_mem   box_loss   cls_loss   dfl_loss  Instances       Size\n"
     ]
    },
    {
     "name": "stderr",
     "output_type": "stream",
     "text": [
      "      22/50      4.93G       3.49      3.507      1.985          6        192: 100%|██████████| 107/107 [00:20<00:00,  5.32it/s]\n",
      "                 Class     Images  Instances      Box(P          R      mAP50  mAP50-95): 100%|██████████| 11/11 [00:02<00:00,  4.27it/s]\n"
     ]
    },
    {
     "name": "stdout",
     "output_type": "stream",
     "text": [
      "                   all        340        340    0.00216      0.647    0.00419    0.00121\n",
      "\n",
      "      Epoch    GPU_mem   box_loss   cls_loss   dfl_loss  Instances       Size\n"
     ]
    },
    {
     "name": "stderr",
     "output_type": "stream",
     "text": [
      "      23/50      4.89G      3.499      3.475      1.996          3        192: 100%|██████████| 107/107 [00:20<00:00,  5.15it/s]\n",
      "                 Class     Images  Instances      Box(P          R      mAP50  mAP50-95): 100%|██████████| 11/11 [00:02<00:00,  4.29it/s]"
     ]
    },
    {
     "name": "stdout",
     "output_type": "stream",
     "text": [
      "                   all        340        340    0.00256      0.768    0.00541    0.00154\n"
     ]
    },
    {
     "name": "stderr",
     "output_type": "stream",
     "text": [
      "\n"
     ]
    },
    {
     "name": "stdout",
     "output_type": "stream",
     "text": [
      "\n",
      "      Epoch    GPU_mem   box_loss   cls_loss   dfl_loss  Instances       Size\n"
     ]
    },
    {
     "name": "stderr",
     "output_type": "stream",
     "text": [
      "      24/50      4.99G      3.483       3.46      1.975          8        192: 100%|██████████| 107/107 [00:21<00:00,  5.08it/s]\n",
      "                 Class     Images  Instances      Box(P          R      mAP50  mAP50-95): 100%|██████████| 11/11 [00:02<00:00,  4.29it/s]\n"
     ]
    },
    {
     "name": "stdout",
     "output_type": "stream",
     "text": [
      "                   all        340        340    0.00234      0.703     0.0042     0.0012\n",
      "\n",
      "      Epoch    GPU_mem   box_loss   cls_loss   dfl_loss  Instances       Size\n"
     ]
    },
    {
     "name": "stderr",
     "output_type": "stream",
     "text": [
      "      25/50      4.93G       3.47       3.43      1.999          6        192: 100%|██████████| 107/107 [00:19<00:00,  5.38it/s]\n",
      "                 Class     Images  Instances      Box(P          R      mAP50  mAP50-95): 100%|██████████| 11/11 [00:02<00:00,  4.48it/s]\n"
     ]
    },
    {
     "name": "stdout",
     "output_type": "stream",
     "text": [
      "                   all        340        340    0.00231      0.694    0.00518    0.00157\n",
      "\n",
      "      Epoch    GPU_mem   box_loss   cls_loss   dfl_loss  Instances       Size\n"
     ]
    },
    {
     "name": "stderr",
     "output_type": "stream",
     "text": [
      "      26/50      4.92G       3.45      3.354       2.01          6        192: 100%|██████████| 107/107 [00:21<00:00,  5.09it/s]\n",
      "                 Class     Images  Instances      Box(P          R      mAP50  mAP50-95): 100%|██████████| 11/11 [00:02<00:00,  4.03it/s]"
     ]
    },
    {
     "name": "stdout",
     "output_type": "stream",
     "text": [
      "                   all        340        340    0.00239      0.718    0.00889    0.00273\n"
     ]
    },
    {
     "name": "stderr",
     "output_type": "stream",
     "text": [
      "\n"
     ]
    },
    {
     "name": "stdout",
     "output_type": "stream",
     "text": [
      "\n",
      "      Epoch    GPU_mem   box_loss   cls_loss   dfl_loss  Instances       Size\n"
     ]
    },
    {
     "name": "stderr",
     "output_type": "stream",
     "text": [
      "      27/50      4.89G      3.376       3.31      1.955          7        192: 100%|██████████| 107/107 [00:20<00:00,  5.31it/s]\n",
      "                 Class     Images  Instances      Box(P          R      mAP50  mAP50-95): 100%|██████████| 11/11 [00:02<00:00,  4.41it/s]\n"
     ]
    },
    {
     "name": "stdout",
     "output_type": "stream",
     "text": [
      "                   all        340        340    0.00241      0.688     0.0118    0.00336\n",
      "\n",
      "      Epoch    GPU_mem   box_loss   cls_loss   dfl_loss  Instances       Size\n"
     ]
    },
    {
     "name": "stderr",
     "output_type": "stream",
     "text": [
      "      28/50      4.99G      3.326      3.331      1.935          2        192: 100%|██████████| 107/107 [00:20<00:00,  5.33it/s]\n",
      "                 Class     Images  Instances      Box(P          R      mAP50  mAP50-95): 100%|██████████| 11/11 [00:02<00:00,  3.80it/s]\n"
     ]
    },
    {
     "name": "stdout",
     "output_type": "stream",
     "text": [
      "                   all        340        340    0.00213      0.638     0.0149    0.00368\n",
      "\n",
      "      Epoch    GPU_mem   box_loss   cls_loss   dfl_loss  Instances       Size\n"
     ]
    },
    {
     "name": "stderr",
     "output_type": "stream",
     "text": [
      "      29/50      4.94G      3.332      3.201      1.977          5        192: 100%|██████████| 107/107 [00:19<00:00,  5.42it/s]\n",
      "                 Class     Images  Instances      Box(P          R      mAP50  mAP50-95): 100%|██████████| 11/11 [00:02<00:00,  4.32it/s]\n"
     ]
    },
    {
     "name": "stdout",
     "output_type": "stream",
     "text": [
      "                   all        340        340     0.0618      0.109     0.0204    0.00746\n",
      "\n",
      "      Epoch    GPU_mem   box_loss   cls_loss   dfl_loss  Instances       Size\n"
     ]
    },
    {
     "name": "stderr",
     "output_type": "stream",
     "text": [
      "      30/50      4.91G      3.296      3.125      1.969          4        192: 100%|██████████| 107/107 [00:20<00:00,  5.17it/s]\n",
      "                 Class     Images  Instances      Box(P          R      mAP50  mAP50-95): 100%|██████████| 11/11 [00:03<00:00,  3.62it/s]\n"
     ]
    },
    {
     "name": "stdout",
     "output_type": "stream",
     "text": [
      "                   all        340        340     0.0249      0.324     0.0572     0.0208\n",
      "\n",
      "      Epoch    GPU_mem   box_loss   cls_loss   dfl_loss  Instances       Size\n"
     ]
    },
    {
     "name": "stderr",
     "output_type": "stream",
     "text": [
      "      31/50      4.88G       3.25      3.038      1.949          5        192: 100%|██████████| 107/107 [00:20<00:00,  5.35it/s]\n",
      "                 Class     Images  Instances      Box(P          R      mAP50  mAP50-95): 100%|██████████| 11/11 [00:02<00:00,  4.57it/s]"
     ]
    },
    {
     "name": "stdout",
     "output_type": "stream",
     "text": [
      "                   all        340        340      0.197     0.0882     0.0719     0.0237\n"
     ]
    },
    {
     "name": "stderr",
     "output_type": "stream",
     "text": [
      "\n"
     ]
    },
    {
     "name": "stdout",
     "output_type": "stream",
     "text": [
      "\n",
      "      Epoch    GPU_mem   box_loss   cls_loss   dfl_loss  Instances       Size\n"
     ]
    },
    {
     "name": "stderr",
     "output_type": "stream",
     "text": [
      "      32/50      4.99G      3.101      2.899      1.912          4        192: 100%|██████████| 107/107 [00:20<00:00,  5.27it/s]\n",
      "                 Class     Images  Instances      Box(P          R      mAP50  mAP50-95): 100%|██████████| 11/11 [00:02<00:00,  4.39it/s]"
     ]
    },
    {
     "name": "stdout",
     "output_type": "stream",
     "text": [
      "                   all        340        340      0.347      0.265      0.194     0.0688\n"
     ]
    },
    {
     "name": "stderr",
     "output_type": "stream",
     "text": [
      "\n"
     ]
    },
    {
     "name": "stdout",
     "output_type": "stream",
     "text": [
      "\n",
      "      Epoch    GPU_mem   box_loss   cls_loss   dfl_loss  Instances       Size\n"
     ]
    },
    {
     "name": "stderr",
     "output_type": "stream",
     "text": [
      "      33/50      4.95G      3.004      2.648      1.864          5        192: 100%|██████████| 107/107 [00:19<00:00,  5.39it/s]\n",
      "                 Class     Images  Instances      Box(P          R      mAP50  mAP50-95): 100%|██████████| 11/11 [00:02<00:00,  4.43it/s]\n"
     ]
    },
    {
     "name": "stdout",
     "output_type": "stream",
     "text": [
      "                   all        340        340      0.135        0.2     0.0677     0.0273\n",
      "\n",
      "      Epoch    GPU_mem   box_loss   cls_loss   dfl_loss  Instances       Size\n"
     ]
    },
    {
     "name": "stderr",
     "output_type": "stream",
     "text": [
      "      34/50      4.93G      2.953      2.525      1.844         10        192: 100%|██████████| 107/107 [00:20<00:00,  5.13it/s]\n",
      "                 Class     Images  Instances      Box(P          R      mAP50  mAP50-95): 100%|██████████| 11/11 [00:02<00:00,  4.46it/s]"
     ]
    },
    {
     "name": "stdout",
     "output_type": "stream",
     "text": [
      "                   all        340        340      0.615      0.361      0.434      0.161\n"
     ]
    },
    {
     "name": "stderr",
     "output_type": "stream",
     "text": [
      "\n"
     ]
    },
    {
     "name": "stdout",
     "output_type": "stream",
     "text": [
      "\n",
      "      Epoch    GPU_mem   box_loss   cls_loss   dfl_loss  Instances       Size\n"
     ]
    },
    {
     "name": "stderr",
     "output_type": "stream",
     "text": [
      "      35/50      4.89G      2.812      2.353      1.796          8        192: 100%|██████████| 107/107 [00:20<00:00,  5.24it/s]\n",
      "                 Class     Images  Instances      Box(P          R      mAP50  mAP50-95): 100%|██████████| 11/11 [00:02<00:00,  4.26it/s]"
     ]
    },
    {
     "name": "stdout",
     "output_type": "stream",
     "text": [
      "                   all        340        340       0.67      0.526      0.556      0.215\n"
     ]
    },
    {
     "name": "stderr",
     "output_type": "stream",
     "text": [
      "\n"
     ]
    },
    {
     "name": "stdout",
     "output_type": "stream",
     "text": [
      "\n",
      "      Epoch    GPU_mem   box_loss   cls_loss   dfl_loss  Instances       Size\n"
     ]
    },
    {
     "name": "stderr",
     "output_type": "stream",
     "text": [
      "      36/50      4.99G      2.725      2.175      1.706          7        192: 100%|██████████| 107/107 [00:20<00:00,  5.15it/s]\n",
      "                 Class     Images  Instances      Box(P          R      mAP50  mAP50-95): 100%|██████████| 11/11 [00:02<00:00,  4.26it/s]\n"
     ]
    },
    {
     "name": "stdout",
     "output_type": "stream",
     "text": [
      "                   all        340        340      0.677      0.578      0.562      0.252\n",
      "\n",
      "      Epoch    GPU_mem   box_loss   cls_loss   dfl_loss  Instances       Size\n"
     ]
    },
    {
     "name": "stderr",
     "output_type": "stream",
     "text": [
      "      37/50      4.95G      2.694      2.162       1.72          5        192: 100%|██████████| 107/107 [00:20<00:00,  5.24it/s]\n",
      "                 Class     Images  Instances      Box(P          R      mAP50  mAP50-95): 100%|██████████| 11/11 [00:02<00:00,  4.29it/s]"
     ]
    },
    {
     "name": "stdout",
     "output_type": "stream",
     "text": [
      "                   all        340        340      0.694      0.559      0.554      0.187\n"
     ]
    },
    {
     "name": "stderr",
     "output_type": "stream",
     "text": [
      "\n"
     ]
    },
    {
     "name": "stdout",
     "output_type": "stream",
     "text": [
      "\n",
      "      Epoch    GPU_mem   box_loss   cls_loss   dfl_loss  Instances       Size\n"
     ]
    },
    {
     "name": "stderr",
     "output_type": "stream",
     "text": [
      "      38/50      4.92G      2.545      2.014      1.646          7        192: 100%|██████████| 107/107 [00:19<00:00,  5.41it/s]\n",
      "                 Class     Images  Instances      Box(P          R      mAP50  mAP50-95): 100%|██████████| 11/11 [00:02<00:00,  4.48it/s]"
     ]
    },
    {
     "name": "stdout",
     "output_type": "stream",
     "text": [
      "                   all        340        340      0.708       0.55      0.526      0.179\n"
     ]
    },
    {
     "name": "stderr",
     "output_type": "stream",
     "text": [
      "\n"
     ]
    },
    {
     "name": "stdout",
     "output_type": "stream",
     "text": [
      "\n",
      "      Epoch    GPU_mem   box_loss   cls_loss   dfl_loss  Instances       Size\n"
     ]
    },
    {
     "name": "stderr",
     "output_type": "stream",
     "text": [
      "      39/50      4.91G      2.436      1.937      1.584          7        192: 100%|██████████| 107/107 [00:20<00:00,  5.27it/s]\n",
      "                 Class     Images  Instances      Box(P          R      mAP50  mAP50-95): 100%|██████████| 11/11 [00:02<00:00,  4.21it/s]\n"
     ]
    },
    {
     "name": "stdout",
     "output_type": "stream",
     "text": [
      "                   all        340        340      0.796      0.621      0.652       0.34\n",
      "\n",
      "      Epoch    GPU_mem   box_loss   cls_loss   dfl_loss  Instances       Size\n"
     ]
    },
    {
     "name": "stderr",
     "output_type": "stream",
     "text": [
      "      40/50      4.99G      2.455      1.868      1.605          3        192: 100%|██████████| 107/107 [00:20<00:00,  5.28it/s]\n",
      "                 Class     Images  Instances      Box(P          R      mAP50  mAP50-95): 100%|██████████| 11/11 [00:02<00:00,  4.35it/s]"
     ]
    },
    {
     "name": "stdout",
     "output_type": "stream",
     "text": [
      "                   all        340        340      0.737      0.521      0.605      0.302\n"
     ]
    },
    {
     "name": "stderr",
     "output_type": "stream",
     "text": [
      "\n"
     ]
    },
    {
     "name": "stdout",
     "output_type": "stream",
     "text": [
      "Closing dataloader mosaic\n",
      "\n",
      "      Epoch    GPU_mem   box_loss   cls_loss   dfl_loss  Instances       Size\n"
     ]
    },
    {
     "name": "stderr",
     "output_type": "stream",
     "text": [
      "      41/50      4.96G      2.184      1.769      1.542          3        192: 100%|██████████| 107/107 [00:20<00:00,  5.25it/s]\n",
      "                 Class     Images  Instances      Box(P          R      mAP50  mAP50-95): 100%|██████████| 11/11 [00:02<00:00,  4.40it/s]\n"
     ]
    },
    {
     "name": "stdout",
     "output_type": "stream",
     "text": [
      "                   all        340        340      0.779      0.603      0.637      0.306\n",
      "\n",
      "      Epoch    GPU_mem   box_loss   cls_loss   dfl_loss  Instances       Size\n"
     ]
    },
    {
     "name": "stderr",
     "output_type": "stream",
     "text": [
      "      42/50      4.91G      2.113      1.653      1.519          3        192: 100%|██████████| 107/107 [00:19<00:00,  5.43it/s]\n",
      "                 Class     Images  Instances      Box(P          R      mAP50  mAP50-95): 100%|██████████| 11/11 [00:02<00:00,  3.90it/s]"
     ]
    },
    {
     "name": "stdout",
     "output_type": "stream",
     "text": [
      "                   all        340        340      0.884      0.656       0.69      0.396\n"
     ]
    },
    {
     "name": "stderr",
     "output_type": "stream",
     "text": [
      "\n"
     ]
    },
    {
     "name": "stdout",
     "output_type": "stream",
     "text": [
      "\n",
      "      Epoch    GPU_mem   box_loss   cls_loss   dfl_loss  Instances       Size\n"
     ]
    },
    {
     "name": "stderr",
     "output_type": "stream",
     "text": [
      "      43/50      4.88G      2.084      1.575      1.503          3        192: 100%|██████████| 107/107 [00:20<00:00,  5.10it/s]\n",
      "                 Class     Images  Instances      Box(P          R      mAP50  mAP50-95): 100%|██████████| 11/11 [00:02<00:00,  4.21it/s]"
     ]
    },
    {
     "name": "stdout",
     "output_type": "stream",
     "text": [
      "                   all        340        340      0.891      0.644      0.685      0.385\n"
     ]
    },
    {
     "name": "stderr",
     "output_type": "stream",
     "text": [
      "\n"
     ]
    },
    {
     "name": "stdout",
     "output_type": "stream",
     "text": [
      "\n",
      "      Epoch    GPU_mem   box_loss   cls_loss   dfl_loss  Instances       Size\n"
     ]
    },
    {
     "name": "stderr",
     "output_type": "stream",
     "text": [
      "      44/50      4.98G      2.027      1.539      1.479          2        192: 100%|██████████| 107/107 [00:20<00:00,  5.30it/s]\n",
      "                 Class     Images  Instances      Box(P          R      mAP50  mAP50-95): 100%|██████████| 11/11 [00:02<00:00,  4.50it/s]"
     ]
    },
    {
     "name": "stdout",
     "output_type": "stream",
     "text": [
      "                   all        340        340      0.888      0.651      0.689       0.37\n"
     ]
    },
    {
     "name": "stderr",
     "output_type": "stream",
     "text": [
      "\n"
     ]
    },
    {
     "name": "stdout",
     "output_type": "stream",
     "text": [
      "\n",
      "      Epoch    GPU_mem   box_loss   cls_loss   dfl_loss  Instances       Size\n"
     ]
    },
    {
     "name": "stderr",
     "output_type": "stream",
     "text": [
      "      45/50      4.95G      2.002      1.472      1.473          4        192: 100%|██████████| 107/107 [00:19<00:00,  5.38it/s]\n",
      "                 Class     Images  Instances      Box(P          R      mAP50  mAP50-95): 100%|██████████| 11/11 [00:02<00:00,  4.25it/s]"
     ]
    },
    {
     "name": "stdout",
     "output_type": "stream",
     "text": [
      "                   all        340        340      0.783      0.665      0.664      0.396\n"
     ]
    },
    {
     "name": "stderr",
     "output_type": "stream",
     "text": [
      "\n"
     ]
    },
    {
     "name": "stdout",
     "output_type": "stream",
     "text": [
      "\n",
      "      Epoch    GPU_mem   box_loss   cls_loss   dfl_loss  Instances       Size\n"
     ]
    },
    {
     "name": "stderr",
     "output_type": "stream",
     "text": [
      "      46/50      4.92G      1.917      1.419      1.423          2        192: 100%|██████████| 107/107 [00:20<00:00,  5.16it/s]\n",
      "                 Class     Images  Instances      Box(P          R      mAP50  mAP50-95): 100%|██████████| 11/11 [00:02<00:00,  4.05it/s]"
     ]
    },
    {
     "name": "stdout",
     "output_type": "stream",
     "text": [
      "                   all        340        340      0.878      0.636      0.673      0.405\n"
     ]
    },
    {
     "name": "stderr",
     "output_type": "stream",
     "text": [
      "\n"
     ]
    },
    {
     "name": "stdout",
     "output_type": "stream",
     "text": [
      "\n",
      "      Epoch    GPU_mem   box_loss   cls_loss   dfl_loss  Instances       Size\n"
     ]
    },
    {
     "name": "stderr",
     "output_type": "stream",
     "text": [
      "      47/50       4.9G      1.893       1.38      1.421          4        192: 100%|██████████| 107/107 [00:19<00:00,  5.41it/s]\n",
      "                 Class     Images  Instances      Box(P          R      mAP50  mAP50-95): 100%|██████████| 11/11 [00:02<00:00,  4.23it/s]"
     ]
    },
    {
     "name": "stdout",
     "output_type": "stream",
     "text": [
      "                   all        340        340      0.898      0.675      0.703      0.434\n"
     ]
    },
    {
     "name": "stderr",
     "output_type": "stream",
     "text": [
      "\n"
     ]
    },
    {
     "name": "stdout",
     "output_type": "stream",
     "text": [
      "\n",
      "      Epoch    GPU_mem   box_loss   cls_loss   dfl_loss  Instances       Size\n"
     ]
    },
    {
     "name": "stderr",
     "output_type": "stream",
     "text": [
      "      48/50      4.99G      1.837      1.329      1.398          3        192: 100%|██████████| 107/107 [00:20<00:00,  5.21it/s]\n",
      "                 Class     Images  Instances      Box(P          R      mAP50  mAP50-95): 100%|██████████| 11/11 [00:02<00:00,  4.57it/s]"
     ]
    },
    {
     "name": "stdout",
     "output_type": "stream",
     "text": [
      "                   all        340        340      0.885      0.656      0.678      0.412\n"
     ]
    },
    {
     "name": "stderr",
     "output_type": "stream",
     "text": [
      "\n"
     ]
    },
    {
     "name": "stdout",
     "output_type": "stream",
     "text": [
      "\n",
      "      Epoch    GPU_mem   box_loss   cls_loss   dfl_loss  Instances       Size\n"
     ]
    },
    {
     "name": "stderr",
     "output_type": "stream",
     "text": [
      "      49/50      4.96G       1.88       1.39      1.426          4        192: 100%|██████████| 107/107 [00:19<00:00,  5.41it/s]\n",
      "                 Class     Images  Instances      Box(P          R      mAP50  mAP50-95): 100%|██████████| 11/11 [00:02<00:00,  4.55it/s]"
     ]
    },
    {
     "name": "stdout",
     "output_type": "stream",
     "text": [
      "                   all        340        340      0.873      0.647      0.692      0.435\n"
     ]
    },
    {
     "name": "stderr",
     "output_type": "stream",
     "text": [
      "\n"
     ]
    },
    {
     "name": "stdout",
     "output_type": "stream",
     "text": [
      "\n",
      "      Epoch    GPU_mem   box_loss   cls_loss   dfl_loss  Instances       Size\n"
     ]
    },
    {
     "name": "stderr",
     "output_type": "stream",
     "text": [
      "      50/50      4.92G      1.805      1.368      1.383          1        192: 100%|██████████| 107/107 [00:20<00:00,  5.35it/s]\n",
      "                 Class     Images  Instances      Box(P          R      mAP50  mAP50-95): 100%|██████████| 11/11 [00:02<00:00,  4.44it/s]"
     ]
    },
    {
     "name": "stdout",
     "output_type": "stream",
     "text": [
      "                   all        340        340      0.882      0.656      0.698      0.447\n"
     ]
    },
    {
     "name": "stderr",
     "output_type": "stream",
     "text": [
      "\n"
     ]
    },
    {
     "name": "stdout",
     "output_type": "stream",
     "text": [
      "\n",
      "50 epochs completed in 0.382 hours.\n",
      "Optimizer stripped from runs\\detect\\train7\\weights\\last.pt, 346.5MB\n",
      "Optimizer stripped from runs\\detect\\train7\\weights\\best.pt, 346.5MB\n",
      "\n",
      "Validating runs\\detect\\train7\\weights\\best.pt...\n",
      "Ultralytics 8.3.131  Python-3.12.6 torch-2.7.0+cu128 CUDA:0 (NVIDIA GeForce RTX 3070 Ti, 8192MiB)\n",
      "YOLOv6x summary (fused): 120 layers, 172,983,795 parameters, 0 gradients, 610.2 GFLOPs\n"
     ]
    },
    {
     "name": "stderr",
     "output_type": "stream",
     "text": [
      "                 Class     Images  Instances      Box(P          R      mAP50  mAP50-95): 100%|██████████| 11/11 [00:02<00:00,  4.17it/s]\n"
     ]
    },
    {
     "name": "stdout",
     "output_type": "stream",
     "text": [
      "                   all        340        340      0.882      0.656      0.698      0.447\n",
      "Speed: 0.1ms preprocess, 2.9ms inference, 0.0ms loss, 1.5ms postprocess per image\n",
      "Results saved to \u001B[1mruns\\detect\\train7\u001B[0m\n"
     ]
    },
    {
     "data": {
      "text/plain": [
       "ultralytics.utils.metrics.DetMetrics object with attributes:\n",
       "\n",
       "ap_class_index: array([0])\n",
       "box: ultralytics.utils.metrics.Metric object\n",
       "confusion_matrix: <ultralytics.utils.metrics.ConfusionMatrix object at 0x000001C51881DE50>\n",
       "curves: ['Precision-Recall(B)', 'F1-Confidence(B)', 'Precision-Confidence(B)', 'Recall-Confidence(B)']\n",
       "curves_results: [[array([          0,    0.001001,    0.002002,    0.003003,    0.004004,    0.005005,    0.006006,    0.007007,    0.008008,    0.009009,     0.01001,    0.011011,    0.012012,    0.013013,    0.014014,    0.015015,    0.016016,    0.017017,    0.018018,    0.019019,     0.02002,    0.021021,    0.022022,    0.023023,\n",
       "          0.024024,    0.025025,    0.026026,    0.027027,    0.028028,    0.029029,     0.03003,    0.031031,    0.032032,    0.033033,    0.034034,    0.035035,    0.036036,    0.037037,    0.038038,    0.039039,     0.04004,    0.041041,    0.042042,    0.043043,    0.044044,    0.045045,    0.046046,    0.047047,\n",
       "          0.048048,    0.049049,     0.05005,    0.051051,    0.052052,    0.053053,    0.054054,    0.055055,    0.056056,    0.057057,    0.058058,    0.059059,     0.06006,    0.061061,    0.062062,    0.063063,    0.064064,    0.065065,    0.066066,    0.067067,    0.068068,    0.069069,     0.07007,    0.071071,\n",
       "          0.072072,    0.073073,    0.074074,    0.075075,    0.076076,    0.077077,    0.078078,    0.079079,     0.08008,    0.081081,    0.082082,    0.083083,    0.084084,    0.085085,    0.086086,    0.087087,    0.088088,    0.089089,     0.09009,    0.091091,    0.092092,    0.093093,    0.094094,    0.095095,\n",
       "          0.096096,    0.097097,    0.098098,    0.099099,      0.1001,      0.1011,      0.1021,      0.1031,      0.1041,     0.10511,     0.10611,     0.10711,     0.10811,     0.10911,     0.11011,     0.11111,     0.11211,     0.11311,     0.11411,     0.11512,     0.11612,     0.11712,     0.11812,     0.11912,\n",
       "           0.12012,     0.12112,     0.12212,     0.12312,     0.12412,     0.12513,     0.12613,     0.12713,     0.12813,     0.12913,     0.13013,     0.13113,     0.13213,     0.13313,     0.13413,     0.13514,     0.13614,     0.13714,     0.13814,     0.13914,     0.14014,     0.14114,     0.14214,     0.14314,\n",
       "           0.14414,     0.14515,     0.14615,     0.14715,     0.14815,     0.14915,     0.15015,     0.15115,     0.15215,     0.15315,     0.15415,     0.15516,     0.15616,     0.15716,     0.15816,     0.15916,     0.16016,     0.16116,     0.16216,     0.16316,     0.16416,     0.16517,     0.16617,     0.16717,\n",
       "           0.16817,     0.16917,     0.17017,     0.17117,     0.17217,     0.17317,     0.17417,     0.17518,     0.17618,     0.17718,     0.17818,     0.17918,     0.18018,     0.18118,     0.18218,     0.18318,     0.18418,     0.18519,     0.18619,     0.18719,     0.18819,     0.18919,     0.19019,     0.19119,\n",
       "           0.19219,     0.19319,     0.19419,      0.1952,      0.1962,      0.1972,      0.1982,      0.1992,      0.2002,      0.2012,      0.2022,      0.2032,      0.2042,     0.20521,     0.20621,     0.20721,     0.20821,     0.20921,     0.21021,     0.21121,     0.21221,     0.21321,     0.21421,     0.21522,\n",
       "           0.21622,     0.21722,     0.21822,     0.21922,     0.22022,     0.22122,     0.22222,     0.22322,     0.22422,     0.22523,     0.22623,     0.22723,     0.22823,     0.22923,     0.23023,     0.23123,     0.23223,     0.23323,     0.23423,     0.23524,     0.23624,     0.23724,     0.23824,     0.23924,\n",
       "           0.24024,     0.24124,     0.24224,     0.24324,     0.24424,     0.24525,     0.24625,     0.24725,     0.24825,     0.24925,     0.25025,     0.25125,     0.25225,     0.25325,     0.25425,     0.25526,     0.25626,     0.25726,     0.25826,     0.25926,     0.26026,     0.26126,     0.26226,     0.26326,\n",
       "           0.26426,     0.26527,     0.26627,     0.26727,     0.26827,     0.26927,     0.27027,     0.27127,     0.27227,     0.27327,     0.27427,     0.27528,     0.27628,     0.27728,     0.27828,     0.27928,     0.28028,     0.28128,     0.28228,     0.28328,     0.28428,     0.28529,     0.28629,     0.28729,\n",
       "           0.28829,     0.28929,     0.29029,     0.29129,     0.29229,     0.29329,     0.29429,      0.2953,      0.2963,      0.2973,      0.2983,      0.2993,      0.3003,      0.3013,      0.3023,      0.3033,      0.3043,     0.30531,     0.30631,     0.30731,     0.30831,     0.30931,     0.31031,     0.31131,\n",
       "           0.31231,     0.31331,     0.31431,     0.31532,     0.31632,     0.31732,     0.31832,     0.31932,     0.32032,     0.32132,     0.32232,     0.32332,     0.32432,     0.32533,     0.32633,     0.32733,     0.32833,     0.32933,     0.33033,     0.33133,     0.33233,     0.33333,     0.33433,     0.33534,\n",
       "           0.33634,     0.33734,     0.33834,     0.33934,     0.34034,     0.34134,     0.34234,     0.34334,     0.34434,     0.34535,     0.34635,     0.34735,     0.34835,     0.34935,     0.35035,     0.35135,     0.35235,     0.35335,     0.35435,     0.35536,     0.35636,     0.35736,     0.35836,     0.35936,\n",
       "           0.36036,     0.36136,     0.36236,     0.36336,     0.36436,     0.36537,     0.36637,     0.36737,     0.36837,     0.36937,     0.37037,     0.37137,     0.37237,     0.37337,     0.37437,     0.37538,     0.37638,     0.37738,     0.37838,     0.37938,     0.38038,     0.38138,     0.38238,     0.38338,\n",
       "           0.38438,     0.38539,     0.38639,     0.38739,     0.38839,     0.38939,     0.39039,     0.39139,     0.39239,     0.39339,     0.39439,      0.3954,      0.3964,      0.3974,      0.3984,      0.3994,      0.4004,      0.4014,      0.4024,      0.4034,      0.4044,     0.40541,     0.40641,     0.40741,\n",
       "           0.40841,     0.40941,     0.41041,     0.41141,     0.41241,     0.41341,     0.41441,     0.41542,     0.41642,     0.41742,     0.41842,     0.41942,     0.42042,     0.42142,     0.42242,     0.42342,     0.42442,     0.42543,     0.42643,     0.42743,     0.42843,     0.42943,     0.43043,     0.43143,\n",
       "           0.43243,     0.43343,     0.43443,     0.43544,     0.43644,     0.43744,     0.43844,     0.43944,     0.44044,     0.44144,     0.44244,     0.44344,     0.44444,     0.44545,     0.44645,     0.44745,     0.44845,     0.44945,     0.45045,     0.45145,     0.45245,     0.45345,     0.45445,     0.45546,\n",
       "           0.45646,     0.45746,     0.45846,     0.45946,     0.46046,     0.46146,     0.46246,     0.46346,     0.46446,     0.46547,     0.46647,     0.46747,     0.46847,     0.46947,     0.47047,     0.47147,     0.47247,     0.47347,     0.47447,     0.47548,     0.47648,     0.47748,     0.47848,     0.47948,\n",
       "           0.48048,     0.48148,     0.48248,     0.48348,     0.48448,     0.48549,     0.48649,     0.48749,     0.48849,     0.48949,     0.49049,     0.49149,     0.49249,     0.49349,     0.49449,      0.4955,      0.4965,      0.4975,      0.4985,      0.4995,      0.5005,      0.5015,      0.5025,      0.5035,\n",
       "            0.5045,     0.50551,     0.50651,     0.50751,     0.50851,     0.50951,     0.51051,     0.51151,     0.51251,     0.51351,     0.51451,     0.51552,     0.51652,     0.51752,     0.51852,     0.51952,     0.52052,     0.52152,     0.52252,     0.52352,     0.52452,     0.52553,     0.52653,     0.52753,\n",
       "           0.52853,     0.52953,     0.53053,     0.53153,     0.53253,     0.53353,     0.53453,     0.53554,     0.53654,     0.53754,     0.53854,     0.53954,     0.54054,     0.54154,     0.54254,     0.54354,     0.54454,     0.54555,     0.54655,     0.54755,     0.54855,     0.54955,     0.55055,     0.55155,\n",
       "           0.55255,     0.55355,     0.55455,     0.55556,     0.55656,     0.55756,     0.55856,     0.55956,     0.56056,     0.56156,     0.56256,     0.56356,     0.56456,     0.56557,     0.56657,     0.56757,     0.56857,     0.56957,     0.57057,     0.57157,     0.57257,     0.57357,     0.57457,     0.57558,\n",
       "           0.57658,     0.57758,     0.57858,     0.57958,     0.58058,     0.58158,     0.58258,     0.58358,     0.58458,     0.58559,     0.58659,     0.58759,     0.58859,     0.58959,     0.59059,     0.59159,     0.59259,     0.59359,     0.59459,      0.5956,      0.5966,      0.5976,      0.5986,      0.5996,\n",
       "            0.6006,      0.6016,      0.6026,      0.6036,      0.6046,     0.60561,     0.60661,     0.60761,     0.60861,     0.60961,     0.61061,     0.61161,     0.61261,     0.61361,     0.61461,     0.61562,     0.61662,     0.61762,     0.61862,     0.61962,     0.62062,     0.62162,     0.62262,     0.62362,\n",
       "           0.62462,     0.62563,     0.62663,     0.62763,     0.62863,     0.62963,     0.63063,     0.63163,     0.63263,     0.63363,     0.63463,     0.63564,     0.63664,     0.63764,     0.63864,     0.63964,     0.64064,     0.64164,     0.64264,     0.64364,     0.64464,     0.64565,     0.64665,     0.64765,\n",
       "           0.64865,     0.64965,     0.65065,     0.65165,     0.65265,     0.65365,     0.65465,     0.65566,     0.65666,     0.65766,     0.65866,     0.65966,     0.66066,     0.66166,     0.66266,     0.66366,     0.66466,     0.66567,     0.66667,     0.66767,     0.66867,     0.66967,     0.67067,     0.67167,\n",
       "           0.67267,     0.67367,     0.67467,     0.67568,     0.67668,     0.67768,     0.67868,     0.67968,     0.68068,     0.68168,     0.68268,     0.68368,     0.68468,     0.68569,     0.68669,     0.68769,     0.68869,     0.68969,     0.69069,     0.69169,     0.69269,     0.69369,     0.69469,      0.6957,\n",
       "            0.6967,      0.6977,      0.6987,      0.6997,      0.7007,      0.7017,      0.7027,      0.7037,      0.7047,     0.70571,     0.70671,     0.70771,     0.70871,     0.70971,     0.71071,     0.71171,     0.71271,     0.71371,     0.71471,     0.71572,     0.71672,     0.71772,     0.71872,     0.71972,\n",
       "           0.72072,     0.72172,     0.72272,     0.72372,     0.72472,     0.72573,     0.72673,     0.72773,     0.72873,     0.72973,     0.73073,     0.73173,     0.73273,     0.73373,     0.73473,     0.73574,     0.73674,     0.73774,     0.73874,     0.73974,     0.74074,     0.74174,     0.74274,     0.74374,\n",
       "           0.74474,     0.74575,     0.74675,     0.74775,     0.74875,     0.74975,     0.75075,     0.75175,     0.75275,     0.75375,     0.75475,     0.75576,     0.75676,     0.75776,     0.75876,     0.75976,     0.76076,     0.76176,     0.76276,     0.76376,     0.76476,     0.76577,     0.76677,     0.76777,\n",
       "           0.76877,     0.76977,     0.77077,     0.77177,     0.77277,     0.77377,     0.77477,     0.77578,     0.77678,     0.77778,     0.77878,     0.77978,     0.78078,     0.78178,     0.78278,     0.78378,     0.78478,     0.78579,     0.78679,     0.78779,     0.78879,     0.78979,     0.79079,     0.79179,\n",
       "           0.79279,     0.79379,     0.79479,      0.7958,      0.7968,      0.7978,      0.7988,      0.7998,      0.8008,      0.8018,      0.8028,      0.8038,      0.8048,     0.80581,     0.80681,     0.80781,     0.80881,     0.80981,     0.81081,     0.81181,     0.81281,     0.81381,     0.81481,     0.81582,\n",
       "           0.81682,     0.81782,     0.81882,     0.81982,     0.82082,     0.82182,     0.82282,     0.82382,     0.82482,     0.82583,     0.82683,     0.82783,     0.82883,     0.82983,     0.83083,     0.83183,     0.83283,     0.83383,     0.83483,     0.83584,     0.83684,     0.83784,     0.83884,     0.83984,\n",
       "           0.84084,     0.84184,     0.84284,     0.84384,     0.84484,     0.84585,     0.84685,     0.84785,     0.84885,     0.84985,     0.85085,     0.85185,     0.85285,     0.85385,     0.85485,     0.85586,     0.85686,     0.85786,     0.85886,     0.85986,     0.86086,     0.86186,     0.86286,     0.86386,\n",
       "           0.86486,     0.86587,     0.86687,     0.86787,     0.86887,     0.86987,     0.87087,     0.87187,     0.87287,     0.87387,     0.87487,     0.87588,     0.87688,     0.87788,     0.87888,     0.87988,     0.88088,     0.88188,     0.88288,     0.88388,     0.88488,     0.88589,     0.88689,     0.88789,\n",
       "           0.88889,     0.88989,     0.89089,     0.89189,     0.89289,     0.89389,     0.89489,      0.8959,      0.8969,      0.8979,      0.8989,      0.8999,      0.9009,      0.9019,      0.9029,      0.9039,      0.9049,     0.90591,     0.90691,     0.90791,     0.90891,     0.90991,     0.91091,     0.91191,\n",
       "           0.91291,     0.91391,     0.91491,     0.91592,     0.91692,     0.91792,     0.91892,     0.91992,     0.92092,     0.92192,     0.92292,     0.92392,     0.92492,     0.92593,     0.92693,     0.92793,     0.92893,     0.92993,     0.93093,     0.93193,     0.93293,     0.93393,     0.93493,     0.93594,\n",
       "           0.93694,     0.93794,     0.93894,     0.93994,     0.94094,     0.94194,     0.94294,     0.94394,     0.94494,     0.94595,     0.94695,     0.94795,     0.94895,     0.94995,     0.95095,     0.95195,     0.95295,     0.95395,     0.95495,     0.95596,     0.95696,     0.95796,     0.95896,     0.95996,\n",
       "           0.96096,     0.96196,     0.96296,     0.96396,     0.96496,     0.96597,     0.96697,     0.96797,     0.96897,     0.96997,     0.97097,     0.97197,     0.97297,     0.97397,     0.97497,     0.97598,     0.97698,     0.97798,     0.97898,     0.97998,     0.98098,     0.98198,     0.98298,     0.98398,\n",
       "           0.98498,     0.98599,     0.98699,     0.98799,     0.98899,     0.98999,     0.99099,     0.99199,     0.99299,     0.99399,     0.99499,       0.996,       0.997,       0.998,       0.999,           1]), array([[          1,           1,           1,           1,           1,           1,           1,           1,           1,           1,           1,           1,           1,           1,           1,           1,           1,           1,           1,           1,           1,           1,           1,\n",
       "                  1,           1,           1,           1,           1,           1,           1,           1,           1,           1,           1,           1,           1,           1,           1,           1,           1,           1,           1,           1,           1,           1,           1,\n",
       "                  1,           1,           1,           1,           1,           1,           1,           1,           1,           1,           1,           1,           1,           1,           1,           1,           1,           1,           1,           1,           1,           1,           1,\n",
       "                  1,           1,           1,           1,           1,           1,           1,           1,           1,           1,           1,           1,           1,           1,           1,           1,           1,           1,           1,           1,           1,           1,           1,\n",
       "                  1,           1,           1,           1,           1,           1,           1,           1,           1,           1,           1,           1,           1,           1,           1,           1,           1,           1,           1,           1,           1,           1,           1,\n",
       "                  1,           1,           1,           1,           1,           1,           1,           1,           1,           1,           1,           1,           1,           1,           1,           1,           1,           1,           1,           1,           1,           1,           1,\n",
       "                  1,           1,           1,           1,           1,           1,           1,           1,           1,           1,           1,           1,           1,           1,           1,           1,           1,           1,           1,           1,           1,           1,           1,\n",
       "                  1,           1,           1,           1,           1,           1,           1,           1,           1,           1,           1,           1,           1,           1,           1,           1,           1,           1,           1,           1,           1,           1,           1,\n",
       "                  1,           1,           1,           1,           1,           1,           1,           1,           1,           1,           1,           1,           1,           1,           1,           1,           1,           1,           1,           1,           1,           1,           1,\n",
       "                  1,           1,           1,           1,           1,     0.99115,     0.99115,     0.99115,     0.99115,     0.99115,     0.99115,     0.99115,     0.99115,     0.99115,     0.99115,     0.99115,     0.99115,     0.99115,     0.99115,     0.99115,     0.99115,     0.99115,     0.99115,\n",
       "            0.99115,     0.99115,     0.99115,     0.99115,     0.99115,     0.99115,     0.99115,     0.99115,     0.99115,     0.99115,     0.99115,     0.99115,     0.99115,     0.99115,     0.99115,     0.99115,     0.99115,     0.99115,     0.99115,     0.99115,     0.99115,     0.99115,     0.99115,\n",
       "            0.99115,     0.99115,     0.99115,     0.99115,     0.99115,     0.99115,     0.99115,     0.99115,     0.99115,     0.99115,     0.99115,     0.99115,     0.99115,     0.99115,     0.99115,     0.99115,     0.99115,     0.99115,     0.99115,     0.99115,     0.99115,     0.99115,     0.99115,\n",
       "            0.99115,     0.99115,     0.99115,     0.99115,     0.99115,     0.99115,     0.99115,     0.99115,     0.99115,     0.99115,     0.99115,     0.99115,     0.99115,     0.99115,     0.99115,     0.99115,     0.99115,     0.99115,     0.99115,     0.99115,     0.99115,     0.99115,     0.99115,\n",
       "            0.99115,     0.99115,     0.99115,     0.99115,     0.99115,     0.99115,     0.99115,     0.99115,     0.99115,     0.99115,     0.99115,     0.99115,     0.99115,     0.99115,     0.99115,     0.99115,     0.99115,     0.99115,     0.99115,     0.99115,     0.99115,     0.99115,     0.99115,\n",
       "            0.99115,     0.99115,     0.99115,     0.99115,     0.99115,     0.99115,     0.99115,     0.99115,       0.984,       0.984,       0.984,       0.984,       0.984,       0.984,       0.984,       0.984,       0.984,       0.984,       0.984,       0.984,       0.984,       0.984,       0.984,\n",
       "              0.984,       0.984,       0.984,       0.984,       0.984,       0.984,       0.984,       0.984,       0.984,       0.984,       0.984,       0.984,       0.984,       0.984,       0.984,       0.984,       0.984,      0.9771,      0.9771,      0.9771,      0.9771,      0.9771,      0.9771,\n",
       "             0.9771,      0.9771,      0.9771,      0.9771,      0.9771,      0.9771,      0.9771,      0.9771,      0.9771,      0.9708,      0.9708,      0.9708,      0.9708,      0.9708,      0.9708,      0.9708,      0.9708,      0.9708,      0.9708,      0.9708,      0.9708,      0.9708,      0.9708,\n",
       "            0.96622,     0.96622,     0.96622,     0.96622,     0.96622,     0.96622,     0.96622,     0.96622,     0.96622,     0.96622,     0.96622,     0.96622,     0.96622,     0.96622,     0.96622,     0.96622,     0.96622,     0.96622,     0.96622,     0.96622,     0.96622,     0.96622,     0.96622,\n",
       "            0.96622,     0.96622,     0.96622,     0.96622,     0.96622,     0.96622,     0.96622,     0.96226,     0.96226,     0.96226,     0.96226,     0.96226,     0.96226,     0.96226,     0.96226,     0.96226,     0.96226,     0.96226,     0.96226,     0.96226,     0.96226,     0.96226,     0.96226,\n",
       "            0.96226,     0.96226,     0.96226,     0.96226,     0.96226,     0.96226,     0.96226,     0.96226,     0.96226,     0.96226,     0.96226,     0.96226,     0.96226,     0.95977,     0.95977,     0.95977,     0.95977,     0.95977,     0.95977,     0.95977,     0.95977,     0.95977,     0.95977,\n",
       "            0.95977,     0.95977,     0.95977,     0.95977,     0.95977,     0.95977,     0.95977,     0.95977,     0.95977,     0.95977,     0.95977,     0.95977,     0.95977,     0.95977,     0.95977,     0.95977,     0.95977,     0.95977,     0.95977,     0.95977,     0.95977,     0.95977,     0.95977,\n",
       "            0.95977,     0.95977,     0.95977,     0.95977,     0.95977,     0.95977,     0.95977,     0.95977,     0.95604,     0.95604,     0.95604,     0.95604,     0.95604,     0.95604,     0.95604,     0.95604,     0.95604,     0.95604,     0.95604,     0.95604,     0.95604,     0.95604,     0.95604,\n",
       "            0.95604,     0.95604,     0.95604,     0.95604,     0.95604,     0.95604,     0.95312,     0.95312,     0.95312,     0.95312,     0.95312,     0.95312,     0.95312,     0.95312,     0.95312,     0.95312,     0.95312,     0.95312,     0.95312,     0.95312,     0.95312,     0.95312,     0.95312,\n",
       "            0.95312,     0.95312,     0.95312,     0.95312,     0.95312,     0.95312,     0.95312,     0.95312,     0.95312,     0.94924,     0.94924,     0.94924,     0.94924,     0.94924,     0.94924,     0.94924,     0.94924,     0.94924,     0.94924,     0.94924,     0.94924,        0.94,        0.94,\n",
       "               0.94,     0.93839,     0.93839,     0.93839,     0.93839,     0.93839,     0.93839,     0.93839,     0.93839,     0.93839,     0.93839,     0.93839,     0.93839,     0.93839,     0.93839,     0.93839,     0.93839,     0.93839,     0.93839,     0.93839,     0.93839,     0.93839,     0.93839,\n",
       "            0.93839,     0.93839,     0.93839,     0.93839,     0.93839,     0.93839,     0.93839,     0.93519,     0.93519,     0.93519,     0.93519,     0.93519,     0.93519,     0.93519,     0.93519,     0.93519,     0.93519,     0.93519,     0.93519,     0.93119,     0.93119,     0.93119,     0.92889,\n",
       "            0.92889,     0.92889,     0.92889,     0.92889,     0.92889,     0.92889,     0.92889,     0.92889,     0.92889,     0.92889,     0.92889,     0.92889,     0.92889,     0.92889,     0.92889,     0.92889,     0.92889,      0.9214,      0.9214,      0.9214,      0.9214,      0.9214,     0.91453,\n",
       "            0.91453,     0.91453,     0.91453,     0.91453,     0.91453,     0.91453,     0.91453,     0.91453,     0.90717,     0.90717,     0.90717,     0.90123,     0.90123,     0.90123,     0.90123,     0.90123,     0.90123,     0.90123,     0.90123,     0.90123,     0.90123,     0.90123,     0.90123,\n",
       "            0.89431,     0.89431,     0.89431,       0.892,       0.892,       0.892,       0.892,       0.892,       0.892,       0.892,       0.892,       0.892,       0.875,       0.875,       0.875,     0.87209,     0.87209,     0.87209,      0.8659,      0.8659,      0.8659,     0.86312,     0.86312,\n",
       "            0.85393,     0.85393,     0.85393,     0.83577,     0.83577,     0.83577,     0.83333,     0.83333,     0.83333,       0.825,       0.825,       0.825,     0.81119,     0.81119,     0.81119,     0.79252,     0.79252,     0.79252,     0.79054,     0.79054,     0.79054,     0.77815,     0.77815,\n",
       "            0.77815,     0.72171,     0.72171,     0.72171,     0.68497,     0.68497,     0.68497,     0.68195,     0.68195,     0.68195,      0.6224,      0.6224,      0.6224,     0.61381,     0.61381,     0.61381,     0.61323,     0.61323,     0.61323,     0.59606,     0.59606,     0.59606,     0.59413,\n",
       "            0.59413,     0.59367,     0.59367,     0.59367,     0.42169,     0.42169,     0.42169,     0.41137,     0.41137,     0.41137,     0.37143,     0.37143,     0.37143,      0.3685,      0.3685,      0.3685,     0.36457,     0.36457,     0.36457,     0.25773,     0.25773,     0.25773,     0.21075,\n",
       "            0.21075,     0.21075,     0.20673,     0.20673,     0.20673,       0.174,       0.174,       0.174,     0.12095,     0.12095,     0.12095,     0.11795,     0.11795,     0.11795,     0.11337,     0.11337,     0.11337,     0.11044,     0.11044,     0.11044,     0.08931,     0.08931,     0.08931,\n",
       "            0.08931,     0.08931,     0.08931,    0.082252,    0.082252,     0.07967,     0.07967,     0.07967,    0.059804,    0.059804,    0.059804,    0.044774,    0.044774,    0.044774,     0.04147,     0.04147,     0.04147,    0.034326,    0.034326,    0.034326,    0.026313,    0.026313,    0.026313,\n",
       "           0.025518,    0.025518,    0.025518,    0.023652,    0.023652,    0.023652,    0.022447,    0.022447,    0.022447,    0.020882,    0.020882,    0.020882,    0.020805,    0.020805,    0.020805,    0.019248,    0.019248,    0.019248,     0.01666,     0.01666,     0.01666,     0.01468,    0.014605,\n",
       "            0.01453,    0.014456,    0.014381,    0.014306,    0.014231,    0.014156,    0.014081,    0.014006,    0.013931,    0.013856,    0.013781,    0.013707,    0.013632,    0.013557,    0.013482,    0.013407,    0.013332,    0.013257,    0.013182,    0.013107,    0.013032,    0.012958,    0.012883,\n",
       "           0.012808,    0.012733,    0.012658,    0.012583,    0.012508,    0.012433,    0.012358,    0.012283,    0.012209,    0.012134,    0.012059,    0.011984,    0.011909,    0.011834,    0.011759,    0.011684,    0.011609,    0.011534,     0.01146,    0.011385,     0.01131,    0.011235,     0.01116,\n",
       "           0.011085,     0.01101,    0.010935,     0.01086,    0.010785,    0.010711,    0.010636,    0.010561,    0.010486,    0.010411,    0.010336,    0.010261,    0.010186,    0.010111,    0.010037,   0.0099616,   0.0098867,   0.0098118,   0.0097369,    0.009662,   0.0095871,   0.0095122,   0.0094373,\n",
       "          0.0093624,   0.0092875,   0.0092126,   0.0091377,   0.0090628,   0.0089879,    0.008913,   0.0088381,   0.0087632,   0.0086883,   0.0086134,   0.0085385,   0.0084636,   0.0083887,   0.0083138,   0.0082389,    0.008164,   0.0080891,   0.0080142,   0.0079393,   0.0078644,   0.0077895,   0.0077146,\n",
       "          0.0076397,   0.0075648,   0.0074899,    0.007415,   0.0073401,   0.0072652,   0.0071903,   0.0071154,   0.0070405,   0.0069656,   0.0068907,   0.0068158,   0.0067409,    0.006666,   0.0065911,   0.0065162,   0.0064413,   0.0063664,   0.0062915,   0.0062166,   0.0061417,   0.0060668,   0.0059919,\n",
       "           0.005917,   0.0058421,   0.0057672,   0.0056923,   0.0056174,   0.0055425,   0.0054676,   0.0053927,   0.0053178,   0.0052429,    0.005168,   0.0050932,   0.0050183,   0.0049434,   0.0048685,   0.0047936,   0.0047187,   0.0046438,   0.0045689,    0.004494,   0.0044191,   0.0043442,   0.0042693,\n",
       "          0.0041944,   0.0041195,   0.0040446,   0.0039697,   0.0038948,   0.0038199,    0.003745,   0.0036701,   0.0035952,   0.0035203,   0.0034454,   0.0033705,   0.0032956,   0.0032207,   0.0031458,   0.0030709,    0.002996,   0.0029211,   0.0028462,   0.0027713,   0.0026964,   0.0026215,   0.0025466,\n",
       "          0.0024717,   0.0023968,   0.0023219,    0.002247,   0.0021721,   0.0020972,   0.0020223,   0.0019474,   0.0018725,   0.0017976,   0.0017227,   0.0016478,   0.0015729,    0.001498,   0.0014231,   0.0013482,   0.0012733,   0.0011984,   0.0011235,   0.0010486,  0.00097369,  0.00089879,  0.00082389,\n",
       "         0.00074899,  0.00067409,  0.00059919,  0.00052429,   0.0004494,   0.0003745,   0.0002996,   0.0002247,   0.0001498,  7.4899e-05,           0]]), 'Recall', 'Precision'], [array([          0,    0.001001,    0.002002,    0.003003,    0.004004,    0.005005,    0.006006,    0.007007,    0.008008,    0.009009,     0.01001,    0.011011,    0.012012,    0.013013,    0.014014,    0.015015,    0.016016,    0.017017,    0.018018,    0.019019,     0.02002,    0.021021,    0.022022,    0.023023,\n",
       "          0.024024,    0.025025,    0.026026,    0.027027,    0.028028,    0.029029,     0.03003,    0.031031,    0.032032,    0.033033,    0.034034,    0.035035,    0.036036,    0.037037,    0.038038,    0.039039,     0.04004,    0.041041,    0.042042,    0.043043,    0.044044,    0.045045,    0.046046,    0.047047,\n",
       "          0.048048,    0.049049,     0.05005,    0.051051,    0.052052,    0.053053,    0.054054,    0.055055,    0.056056,    0.057057,    0.058058,    0.059059,     0.06006,    0.061061,    0.062062,    0.063063,    0.064064,    0.065065,    0.066066,    0.067067,    0.068068,    0.069069,     0.07007,    0.071071,\n",
       "          0.072072,    0.073073,    0.074074,    0.075075,    0.076076,    0.077077,    0.078078,    0.079079,     0.08008,    0.081081,    0.082082,    0.083083,    0.084084,    0.085085,    0.086086,    0.087087,    0.088088,    0.089089,     0.09009,    0.091091,    0.092092,    0.093093,    0.094094,    0.095095,\n",
       "          0.096096,    0.097097,    0.098098,    0.099099,      0.1001,      0.1011,      0.1021,      0.1031,      0.1041,     0.10511,     0.10611,     0.10711,     0.10811,     0.10911,     0.11011,     0.11111,     0.11211,     0.11311,     0.11411,     0.11512,     0.11612,     0.11712,     0.11812,     0.11912,\n",
       "           0.12012,     0.12112,     0.12212,     0.12312,     0.12412,     0.12513,     0.12613,     0.12713,     0.12813,     0.12913,     0.13013,     0.13113,     0.13213,     0.13313,     0.13413,     0.13514,     0.13614,     0.13714,     0.13814,     0.13914,     0.14014,     0.14114,     0.14214,     0.14314,\n",
       "           0.14414,     0.14515,     0.14615,     0.14715,     0.14815,     0.14915,     0.15015,     0.15115,     0.15215,     0.15315,     0.15415,     0.15516,     0.15616,     0.15716,     0.15816,     0.15916,     0.16016,     0.16116,     0.16216,     0.16316,     0.16416,     0.16517,     0.16617,     0.16717,\n",
       "           0.16817,     0.16917,     0.17017,     0.17117,     0.17217,     0.17317,     0.17417,     0.17518,     0.17618,     0.17718,     0.17818,     0.17918,     0.18018,     0.18118,     0.18218,     0.18318,     0.18418,     0.18519,     0.18619,     0.18719,     0.18819,     0.18919,     0.19019,     0.19119,\n",
       "           0.19219,     0.19319,     0.19419,      0.1952,      0.1962,      0.1972,      0.1982,      0.1992,      0.2002,      0.2012,      0.2022,      0.2032,      0.2042,     0.20521,     0.20621,     0.20721,     0.20821,     0.20921,     0.21021,     0.21121,     0.21221,     0.21321,     0.21421,     0.21522,\n",
       "           0.21622,     0.21722,     0.21822,     0.21922,     0.22022,     0.22122,     0.22222,     0.22322,     0.22422,     0.22523,     0.22623,     0.22723,     0.22823,     0.22923,     0.23023,     0.23123,     0.23223,     0.23323,     0.23423,     0.23524,     0.23624,     0.23724,     0.23824,     0.23924,\n",
       "           0.24024,     0.24124,     0.24224,     0.24324,     0.24424,     0.24525,     0.24625,     0.24725,     0.24825,     0.24925,     0.25025,     0.25125,     0.25225,     0.25325,     0.25425,     0.25526,     0.25626,     0.25726,     0.25826,     0.25926,     0.26026,     0.26126,     0.26226,     0.26326,\n",
       "           0.26426,     0.26527,     0.26627,     0.26727,     0.26827,     0.26927,     0.27027,     0.27127,     0.27227,     0.27327,     0.27427,     0.27528,     0.27628,     0.27728,     0.27828,     0.27928,     0.28028,     0.28128,     0.28228,     0.28328,     0.28428,     0.28529,     0.28629,     0.28729,\n",
       "           0.28829,     0.28929,     0.29029,     0.29129,     0.29229,     0.29329,     0.29429,      0.2953,      0.2963,      0.2973,      0.2983,      0.2993,      0.3003,      0.3013,      0.3023,      0.3033,      0.3043,     0.30531,     0.30631,     0.30731,     0.30831,     0.30931,     0.31031,     0.31131,\n",
       "           0.31231,     0.31331,     0.31431,     0.31532,     0.31632,     0.31732,     0.31832,     0.31932,     0.32032,     0.32132,     0.32232,     0.32332,     0.32432,     0.32533,     0.32633,     0.32733,     0.32833,     0.32933,     0.33033,     0.33133,     0.33233,     0.33333,     0.33433,     0.33534,\n",
       "           0.33634,     0.33734,     0.33834,     0.33934,     0.34034,     0.34134,     0.34234,     0.34334,     0.34434,     0.34535,     0.34635,     0.34735,     0.34835,     0.34935,     0.35035,     0.35135,     0.35235,     0.35335,     0.35435,     0.35536,     0.35636,     0.35736,     0.35836,     0.35936,\n",
       "           0.36036,     0.36136,     0.36236,     0.36336,     0.36436,     0.36537,     0.36637,     0.36737,     0.36837,     0.36937,     0.37037,     0.37137,     0.37237,     0.37337,     0.37437,     0.37538,     0.37638,     0.37738,     0.37838,     0.37938,     0.38038,     0.38138,     0.38238,     0.38338,\n",
       "           0.38438,     0.38539,     0.38639,     0.38739,     0.38839,     0.38939,     0.39039,     0.39139,     0.39239,     0.39339,     0.39439,      0.3954,      0.3964,      0.3974,      0.3984,      0.3994,      0.4004,      0.4014,      0.4024,      0.4034,      0.4044,     0.40541,     0.40641,     0.40741,\n",
       "           0.40841,     0.40941,     0.41041,     0.41141,     0.41241,     0.41341,     0.41441,     0.41542,     0.41642,     0.41742,     0.41842,     0.41942,     0.42042,     0.42142,     0.42242,     0.42342,     0.42442,     0.42543,     0.42643,     0.42743,     0.42843,     0.42943,     0.43043,     0.43143,\n",
       "           0.43243,     0.43343,     0.43443,     0.43544,     0.43644,     0.43744,     0.43844,     0.43944,     0.44044,     0.44144,     0.44244,     0.44344,     0.44444,     0.44545,     0.44645,     0.44745,     0.44845,     0.44945,     0.45045,     0.45145,     0.45245,     0.45345,     0.45445,     0.45546,\n",
       "           0.45646,     0.45746,     0.45846,     0.45946,     0.46046,     0.46146,     0.46246,     0.46346,     0.46446,     0.46547,     0.46647,     0.46747,     0.46847,     0.46947,     0.47047,     0.47147,     0.47247,     0.47347,     0.47447,     0.47548,     0.47648,     0.47748,     0.47848,     0.47948,\n",
       "           0.48048,     0.48148,     0.48248,     0.48348,     0.48448,     0.48549,     0.48649,     0.48749,     0.48849,     0.48949,     0.49049,     0.49149,     0.49249,     0.49349,     0.49449,      0.4955,      0.4965,      0.4975,      0.4985,      0.4995,      0.5005,      0.5015,      0.5025,      0.5035,\n",
       "            0.5045,     0.50551,     0.50651,     0.50751,     0.50851,     0.50951,     0.51051,     0.51151,     0.51251,     0.51351,     0.51451,     0.51552,     0.51652,     0.51752,     0.51852,     0.51952,     0.52052,     0.52152,     0.52252,     0.52352,     0.52452,     0.52553,     0.52653,     0.52753,\n",
       "           0.52853,     0.52953,     0.53053,     0.53153,     0.53253,     0.53353,     0.53453,     0.53554,     0.53654,     0.53754,     0.53854,     0.53954,     0.54054,     0.54154,     0.54254,     0.54354,     0.54454,     0.54555,     0.54655,     0.54755,     0.54855,     0.54955,     0.55055,     0.55155,\n",
       "           0.55255,     0.55355,     0.55455,     0.55556,     0.55656,     0.55756,     0.55856,     0.55956,     0.56056,     0.56156,     0.56256,     0.56356,     0.56456,     0.56557,     0.56657,     0.56757,     0.56857,     0.56957,     0.57057,     0.57157,     0.57257,     0.57357,     0.57457,     0.57558,\n",
       "           0.57658,     0.57758,     0.57858,     0.57958,     0.58058,     0.58158,     0.58258,     0.58358,     0.58458,     0.58559,     0.58659,     0.58759,     0.58859,     0.58959,     0.59059,     0.59159,     0.59259,     0.59359,     0.59459,      0.5956,      0.5966,      0.5976,      0.5986,      0.5996,\n",
       "            0.6006,      0.6016,      0.6026,      0.6036,      0.6046,     0.60561,     0.60661,     0.60761,     0.60861,     0.60961,     0.61061,     0.61161,     0.61261,     0.61361,     0.61461,     0.61562,     0.61662,     0.61762,     0.61862,     0.61962,     0.62062,     0.62162,     0.62262,     0.62362,\n",
       "           0.62462,     0.62563,     0.62663,     0.62763,     0.62863,     0.62963,     0.63063,     0.63163,     0.63263,     0.63363,     0.63463,     0.63564,     0.63664,     0.63764,     0.63864,     0.63964,     0.64064,     0.64164,     0.64264,     0.64364,     0.64464,     0.64565,     0.64665,     0.64765,\n",
       "           0.64865,     0.64965,     0.65065,     0.65165,     0.65265,     0.65365,     0.65465,     0.65566,     0.65666,     0.65766,     0.65866,     0.65966,     0.66066,     0.66166,     0.66266,     0.66366,     0.66466,     0.66567,     0.66667,     0.66767,     0.66867,     0.66967,     0.67067,     0.67167,\n",
       "           0.67267,     0.67367,     0.67467,     0.67568,     0.67668,     0.67768,     0.67868,     0.67968,     0.68068,     0.68168,     0.68268,     0.68368,     0.68468,     0.68569,     0.68669,     0.68769,     0.68869,     0.68969,     0.69069,     0.69169,     0.69269,     0.69369,     0.69469,      0.6957,\n",
       "            0.6967,      0.6977,      0.6987,      0.6997,      0.7007,      0.7017,      0.7027,      0.7037,      0.7047,     0.70571,     0.70671,     0.70771,     0.70871,     0.70971,     0.71071,     0.71171,     0.71271,     0.71371,     0.71471,     0.71572,     0.71672,     0.71772,     0.71872,     0.71972,\n",
       "           0.72072,     0.72172,     0.72272,     0.72372,     0.72472,     0.72573,     0.72673,     0.72773,     0.72873,     0.72973,     0.73073,     0.73173,     0.73273,     0.73373,     0.73473,     0.73574,     0.73674,     0.73774,     0.73874,     0.73974,     0.74074,     0.74174,     0.74274,     0.74374,\n",
       "           0.74474,     0.74575,     0.74675,     0.74775,     0.74875,     0.74975,     0.75075,     0.75175,     0.75275,     0.75375,     0.75475,     0.75576,     0.75676,     0.75776,     0.75876,     0.75976,     0.76076,     0.76176,     0.76276,     0.76376,     0.76476,     0.76577,     0.76677,     0.76777,\n",
       "           0.76877,     0.76977,     0.77077,     0.77177,     0.77277,     0.77377,     0.77477,     0.77578,     0.77678,     0.77778,     0.77878,     0.77978,     0.78078,     0.78178,     0.78278,     0.78378,     0.78478,     0.78579,     0.78679,     0.78779,     0.78879,     0.78979,     0.79079,     0.79179,\n",
       "           0.79279,     0.79379,     0.79479,      0.7958,      0.7968,      0.7978,      0.7988,      0.7998,      0.8008,      0.8018,      0.8028,      0.8038,      0.8048,     0.80581,     0.80681,     0.80781,     0.80881,     0.80981,     0.81081,     0.81181,     0.81281,     0.81381,     0.81481,     0.81582,\n",
       "           0.81682,     0.81782,     0.81882,     0.81982,     0.82082,     0.82182,     0.82282,     0.82382,     0.82482,     0.82583,     0.82683,     0.82783,     0.82883,     0.82983,     0.83083,     0.83183,     0.83283,     0.83383,     0.83483,     0.83584,     0.83684,     0.83784,     0.83884,     0.83984,\n",
       "           0.84084,     0.84184,     0.84284,     0.84384,     0.84484,     0.84585,     0.84685,     0.84785,     0.84885,     0.84985,     0.85085,     0.85185,     0.85285,     0.85385,     0.85485,     0.85586,     0.85686,     0.85786,     0.85886,     0.85986,     0.86086,     0.86186,     0.86286,     0.86386,\n",
       "           0.86486,     0.86587,     0.86687,     0.86787,     0.86887,     0.86987,     0.87087,     0.87187,     0.87287,     0.87387,     0.87487,     0.87588,     0.87688,     0.87788,     0.87888,     0.87988,     0.88088,     0.88188,     0.88288,     0.88388,     0.88488,     0.88589,     0.88689,     0.88789,\n",
       "           0.88889,     0.88989,     0.89089,     0.89189,     0.89289,     0.89389,     0.89489,      0.8959,      0.8969,      0.8979,      0.8989,      0.8999,      0.9009,      0.9019,      0.9029,      0.9039,      0.9049,     0.90591,     0.90691,     0.90791,     0.90891,     0.90991,     0.91091,     0.91191,\n",
       "           0.91291,     0.91391,     0.91491,     0.91592,     0.91692,     0.91792,     0.91892,     0.91992,     0.92092,     0.92192,     0.92292,     0.92392,     0.92492,     0.92593,     0.92693,     0.92793,     0.92893,     0.92993,     0.93093,     0.93193,     0.93293,     0.93393,     0.93493,     0.93594,\n",
       "           0.93694,     0.93794,     0.93894,     0.93994,     0.94094,     0.94194,     0.94294,     0.94394,     0.94494,     0.94595,     0.94695,     0.94795,     0.94895,     0.94995,     0.95095,     0.95195,     0.95295,     0.95395,     0.95495,     0.95596,     0.95696,     0.95796,     0.95896,     0.95996,\n",
       "           0.96096,     0.96196,     0.96296,     0.96396,     0.96496,     0.96597,     0.96697,     0.96797,     0.96897,     0.96997,     0.97097,     0.97197,     0.97297,     0.97397,     0.97497,     0.97598,     0.97698,     0.97798,     0.97898,     0.97998,     0.98098,     0.98198,     0.98298,     0.98398,\n",
       "           0.98498,     0.98599,     0.98699,     0.98799,     0.98899,     0.98999,     0.99099,     0.99199,     0.99299,     0.99399,     0.99499,       0.996,       0.997,       0.998,       0.999,           1]), array([[   0.028958,    0.028958,    0.058145,    0.083438,      0.1065,     0.12826,     0.14794,     0.16384,     0.18087,     0.19675,      0.2104,     0.22524,     0.23959,     0.25172,      0.2637,     0.27772,      0.2857,     0.29587,     0.30655,     0.31608,     0.32471,     0.33185,     0.33892,\n",
       "            0.34891,     0.35836,     0.36514,     0.37225,      0.3813,     0.38897,      0.3974,     0.40218,     0.41061,     0.41636,     0.42369,      0.4297,     0.43666,     0.44392,      0.4494,     0.45458,      0.4585,     0.46052,     0.46612,     0.47165,     0.47612,     0.47894,     0.48358,\n",
       "            0.48682,     0.49094,     0.49355,     0.49522,     0.49773,     0.50225,     0.50569,      0.5105,     0.51473,     0.51743,     0.52125,     0.52303,     0.52545,      0.5282,     0.53054,     0.53375,     0.53798,     0.54044,     0.54325,     0.54571,     0.55159,     0.55452,     0.55633,\n",
       "            0.56043,     0.56157,     0.56422,     0.56772,     0.56996,     0.57216,     0.57287,     0.57732,     0.58079,     0.58307,     0.58468,     0.58503,      0.5883,     0.59078,     0.59408,     0.59466,     0.59682,      0.5983,     0.59995,     0.60295,     0.60691,     0.60924,     0.61116,\n",
       "            0.61275,     0.61502,     0.62044,     0.62225,     0.62389,     0.62585,     0.62615,     0.62644,     0.62828,     0.62933,     0.63068,       0.633,     0.63375,     0.63432,     0.63498,     0.63656,      0.6377,     0.64187,     0.64722,     0.64828,     0.64916,     0.64845,     0.64717,\n",
       "            0.64738,     0.64976,     0.65121,     0.65236,     0.65276,     0.65338,     0.65437,     0.65489,     0.65604,     0.65636,     0.65668,     0.65725,     0.65515,     0.65663,     0.65713,     0.65763,     0.65816,     0.66018,     0.65933,     0.65849,     0.65917,     0.66062,     0.66162,\n",
       "            0.66425,     0.66709,     0.66862,     0.66896,     0.66929,     0.66976,     0.67041,     0.67264,     0.67332,     0.67617,     0.67683,     0.67923,     0.68122,      0.6852,     0.68802,     0.68989,     0.69041,     0.69074,     0.68982,     0.68904,     0.69087,     0.68909,     0.68967,\n",
       "            0.69042,     0.69169,     0.69362,     0.69449,     0.69571,      0.6965,     0.69715,      0.6978,     0.69843,     0.69904,     0.70034,     0.70065,     0.70095,     0.70126,     0.70283,     0.70346,     0.70441,     0.70505,     0.70669,     0.70715,      0.7076,     0.70695,     0.70758,\n",
       "            0.70835,     0.71079,     0.71344,     0.71438,     0.71617,     0.71871,     0.71898,     0.71925,     0.71951,     0.71983,     0.72073,     0.72275,     0.72424,     0.72608,      0.7277,     0.72897,     0.72959,     0.73104,     0.73117,     0.73131,     0.73145,     0.73159,     0.73172,\n",
       "            0.73186,       0.732,     0.73096,     0.73054,     0.73112,     0.73192,     0.73323,      0.7337,      0.7339,     0.73409,     0.73428,     0.73447,     0.73467,     0.73543,     0.73508,     0.73419,     0.73478,     0.73436,     0.73394,     0.73352,      0.7331,     0.73315,     0.73332,\n",
       "            0.73349,     0.73365,     0.73382,     0.73399,     0.73415,     0.73554,     0.73658,     0.73677,     0.73695,     0.73714,     0.73732,      0.7375,     0.73894,     0.74077,     0.73939,      0.7416,     0.74178,     0.74196,     0.74214,     0.74232,      0.7425,     0.74268,     0.74365,\n",
       "            0.74415,     0.74439,     0.74462,     0.74485,     0.74509,     0.74468,     0.74399,      0.7433,     0.74367,     0.74443,     0.74608,     0.74511,     0.74581,     0.74488,     0.74394,     0.74435,     0.74485,      0.7453,     0.74572,     0.74614,     0.74826,     0.74977,     0.75007,\n",
       "            0.75015,     0.75022,      0.7503,     0.75038,     0.75046,     0.75054,     0.75061,     0.75069,     0.75077,     0.75085,     0.75092,       0.751,     0.75108,     0.75116,     0.75123,     0.75058,     0.74993,     0.74928,     0.74988,     0.75089,     0.75174,     0.75197,     0.75219,\n",
       "            0.75241,     0.75263,     0.75286,     0.75195,     0.75089,     0.75162,     0.75189,     0.75139,     0.75089,     0.75039,     0.75039,      0.7514,     0.75171,     0.75201,     0.75231,     0.75234,     0.75187,     0.75139,     0.75091,     0.75044,     0.75091,     0.75143,     0.75136,\n",
       "            0.75074,     0.75013,     0.74963,      0.7501,     0.75057,     0.75106,     0.75158,      0.7521,     0.75221,     0.75231,     0.75242,     0.75252,     0.75263,     0.75273,     0.75284,     0.75294,     0.75304,     0.75315,     0.75325,     0.75336,     0.75375,     0.75423,     0.75466,\n",
       "            0.75473,      0.7548,     0.75487,     0.75493,       0.755,     0.75507,     0.75514,     0.75521,     0.75527,     0.75534,     0.75541,     0.75548,     0.75555,     0.75561,     0.75568,     0.75575,     0.75582,     0.75589,      0.7513,     0.75005,     0.74975,     0.75002,      0.7503,\n",
       "            0.75057,     0.75085,     0.75046,     0.75006,     0.74967,     0.74927,     0.74887,     0.75082,     0.75121,     0.75109,     0.75096,     0.75084,     0.75072,      0.7506,     0.75048,     0.75035,     0.75023,     0.75011,     0.74999,     0.74986,     0.74974,     0.74962,      0.7495,\n",
       "            0.74938,     0.74925,     0.74896,     0.74474,     0.74393,     0.74313,     0.74294,      0.7436,     0.74457,     0.74315,     0.74335,     0.74355,     0.74374,     0.74394,     0.74413,     0.74433,     0.74524,     0.74322,      0.7421,     0.74112,     0.74055,     0.73999,     0.73942,\n",
       "            0.73914,     0.73937,      0.7396,     0.73983,     0.74006,     0.74029,     0.74134,     0.74078,     0.73965,     0.73916,     0.73882,     0.73849,     0.73815,     0.73781,     0.73747,     0.73732,     0.73776,     0.73821,     0.73872,     0.73939,     0.73936,     0.73805,     0.73386,\n",
       "            0.73232,     0.73116,        0.73,     0.72884,     0.72768,     0.72651,     0.72648,      0.7267,     0.72692,     0.72715,     0.72737,     0.72759,     0.72715,     0.72668,     0.72621,     0.72574,     0.72543,     0.72628,     0.72388,      0.7227,     0.72195,     0.72178,     0.72161,\n",
       "            0.72144,     0.72127,      0.7211,     0.72094,     0.72077,      0.7206,     0.72043,     0.72026,     0.72009,     0.71992,     0.71975,     0.71951,     0.71924,     0.71898,     0.71872,     0.71845,     0.71819,     0.71792,     0.71766,     0.71739,     0.71758,     0.71777,     0.71796,\n",
       "            0.71815,     0.71834,     0.71853,     0.71867,      0.7185,     0.71833,     0.71816,     0.71798,     0.71781,     0.71764,     0.71747,      0.7173,     0.71713,     0.71696,     0.71679,     0.71662,     0.71645,     0.71606,     0.71547,     0.71487,     0.71427,     0.71259,     0.71155,\n",
       "            0.71135,     0.71115,     0.71095,     0.71075,     0.71055,     0.71035,     0.71015,     0.70994,     0.70974,     0.70954,     0.70934,     0.70888,      0.7084,     0.70791,     0.70743,     0.70691,      0.7057,     0.70438,     0.70194,     0.69948,     0.69522,     0.69625,     0.69603,\n",
       "             0.6958,     0.69558,     0.69535,     0.69513,      0.6949,     0.69468,     0.69445,     0.69423,       0.694,     0.69418,     0.69484,     0.69526,     0.69545,     0.69564,     0.69583,     0.69602,     0.69621,      0.6964,     0.69479,     0.69229,     0.69114,     0.69051,     0.68988,\n",
       "            0.68925,     0.68776,      0.6878,      0.6876,     0.68739,     0.68719,     0.68699,     0.68679,     0.68658,     0.68638,     0.68618,     0.68598,     0.68577,     0.68557,     0.68495,      0.6841,     0.68326,     0.68118,     0.68005,     0.67941,     0.67877,     0.67813,     0.67695,\n",
       "            0.67566,     0.67476,     0.67389,     0.67303,      0.6705,      0.6699,     0.66933,     0.66875,     0.66817,     0.66784,     0.66767,      0.6675,     0.66733,     0.66717,       0.667,     0.66683,     0.66666,     0.66649,     0.66632,     0.66615,     0.66599,     0.66582,     0.66565,\n",
       "            0.66548,     0.66571,     0.66636,     0.66529,     0.66382,     0.66329,     0.66276,     0.66224,     0.66171,     0.65777,     0.65321,     0.65053,     0.64871,     0.64936,     0.64939,     0.64804,     0.64679,     0.64571,     0.64462,     0.64391,     0.64323,     0.64255,     0.64187,\n",
       "            0.64159,      0.6413,     0.64101,     0.64073,     0.64044,     0.64015,     0.63986,     0.63958,     0.63929,     0.63717,     0.63569,     0.63459,      0.6334,     0.63202,     0.63011,     0.62801,     0.62689,     0.62578,     0.62484,     0.62391,     0.62296,     0.62156,     0.62018,\n",
       "            0.61905,     0.61793,     0.61712,     0.61649,     0.61587,     0.61524,     0.61403,     0.61218,     0.61281,     0.60853,     0.60684,     0.60588,     0.60492,     0.60219,     0.60157,     0.60108,      0.6006,     0.60012,     0.59963,     0.59906,     0.59761,     0.59608,     0.59413,\n",
       "            0.59319,     0.59274,     0.59229,     0.59184,     0.59139,     0.59093,     0.58998,     0.58801,     0.58647,     0.58499,     0.58587,     0.58541,     0.58495,      0.5845,     0.58404,     0.58358,     0.58298,     0.58099,     0.57837,     0.57601,     0.57425,     0.57358,     0.57291,\n",
       "            0.57224,     0.57157,     0.56603,     0.56381,     0.55906,     0.55782,     0.55659,     0.55759,     0.55668,     0.55564,     0.55457,     0.55149,     0.54941,       0.548,     0.54711,     0.54621,     0.54511,     0.54301,      0.5427,     0.54318,     0.54029,     0.53976,     0.53922,\n",
       "            0.53869,     0.53816,     0.53763,     0.53688,     0.53581,     0.53474,     0.53027,     0.52866,     0.52831,       0.529,     0.52846,     0.52791,     0.52737,     0.52683,     0.52629,     0.52233,     0.52069,     0.51919,      0.5181,       0.517,     0.51553,     0.51333,      0.5124,\n",
       "            0.51166,     0.51093,     0.51019,     0.50873,     0.50326,     0.50231,     0.50134,     0.50038,     0.49864,     0.49655,     0.49542,     0.49428,     0.49066,     0.48838,     0.48608,     0.48426,     0.48364,     0.48301,     0.48238,     0.48175,     0.48112,     0.48036,     0.47959,\n",
       "            0.47881,     0.47804,     0.46961,     0.46726,      0.4649,     0.46253,     0.46041,     0.45976,     0.45911,     0.45846,     0.45781,     0.45716,     0.45609,     0.45489,      0.4537,     0.45148,     0.44629,     0.44584,     0.44539,     0.44493,     0.44448,     0.44402,     0.44357,\n",
       "            0.44311,     0.43794,      0.4319,     0.42943,     0.42614,     0.42326,     0.42098,     0.41947,     0.41797,      0.4169,     0.41596,     0.41502,     0.41407,     0.41175,      0.4087,     0.40544,     0.40289,     0.39656,     0.39473,     0.39363,     0.39252,     0.38756,       0.386,\n",
       "            0.38443,     0.37902,     0.37743,     0.37174,     0.36908,     0.36541,     0.36326,     0.36165,     0.35921,     0.35565,     0.35293,     0.35161,     0.35044,     0.34927,     0.34909,     0.34104,     0.34021,     0.33938,     0.33855,     0.33772,     0.33478,     0.32235,     0.32016,\n",
       "            0.31895,     0.31773,     0.30828,     0.30762,     0.30695,     0.30629,     0.30562,     0.30496,     0.30429,     0.30351,     0.30272,     0.30193,     0.30114,     0.30035,     0.29452,     0.29232,     0.28447,     0.28203,     0.28076,     0.27948,     0.27314,     0.26936,     0.26785,\n",
       "            0.26634,     0.26388,     0.26036,     0.25883,     0.25731,     0.25003,      0.2454,     0.24075,     0.23607,     0.23308,     0.23174,     0.23039,      0.2241,     0.21961,     0.21722,     0.21442,     0.20991,     0.20668,     0.20226,     0.20024,     0.19916,     0.19807,     0.19698,\n",
       "             0.1951,     0.19182,     0.18704,     0.18437,     0.18189,     0.17499,     0.17298,     0.17025,     0.16206,      0.1606,     0.15915,     0.15768,     0.15606,     0.15435,     0.15264,      0.1462,      0.1449,      0.1436,      0.1423,     0.13068,     0.12716,     0.12518,     0.12341,\n",
       "            0.12164,     0.11649,     0.11287,     0.10837,     0.10469,     0.10252,     0.10035,    0.098173,     0.09599,    0.092842,    0.087764,    0.083392,    0.081809,    0.080223,    0.077479,    0.072773,     0.06997,    0.067158,    0.064338,    0.057998,    0.056265,    0.055316,    0.054365,\n",
       "           0.053414,    0.052461,    0.051168,    0.045757,    0.043451,     0.04114,    0.032713,    0.027389,     0.02504,     0.02315,    0.022714,    0.022277,     0.02184,    0.021403,    0.020966,    0.020529,    0.020091,    0.019653,    0.019215,    0.018777,    0.018339,      0.0179,    0.017209,\n",
       "            0.01325,    0.011519,    0.011228,    0.010937,    0.010646,    0.010355,    0.010064,    0.009773,   0.0094817,   0.0091903,   0.0088989,   0.0086073,   0.0083157,   0.0080239,   0.0077321,   0.0074402,   0.0071482,   0.0068562,    0.006564,   0.0062718,   0.0059795,           0,           0,\n",
       "                  0,           0,           0,           0,           0,           0,           0,           0,           0,           0,           0,           0,           0,           0,           0,           0,           0,           0,           0,           0,           0,           0,           0,\n",
       "                  0,           0,           0,           0,           0,           0,           0,           0,           0,           0,           0]]), 'Confidence', 'F1'], [array([          0,    0.001001,    0.002002,    0.003003,    0.004004,    0.005005,    0.006006,    0.007007,    0.008008,    0.009009,     0.01001,    0.011011,    0.012012,    0.013013,    0.014014,    0.015015,    0.016016,    0.017017,    0.018018,    0.019019,     0.02002,    0.021021,    0.022022,    0.023023,\n",
       "          0.024024,    0.025025,    0.026026,    0.027027,    0.028028,    0.029029,     0.03003,    0.031031,    0.032032,    0.033033,    0.034034,    0.035035,    0.036036,    0.037037,    0.038038,    0.039039,     0.04004,    0.041041,    0.042042,    0.043043,    0.044044,    0.045045,    0.046046,    0.047047,\n",
       "          0.048048,    0.049049,     0.05005,    0.051051,    0.052052,    0.053053,    0.054054,    0.055055,    0.056056,    0.057057,    0.058058,    0.059059,     0.06006,    0.061061,    0.062062,    0.063063,    0.064064,    0.065065,    0.066066,    0.067067,    0.068068,    0.069069,     0.07007,    0.071071,\n",
       "          0.072072,    0.073073,    0.074074,    0.075075,    0.076076,    0.077077,    0.078078,    0.079079,     0.08008,    0.081081,    0.082082,    0.083083,    0.084084,    0.085085,    0.086086,    0.087087,    0.088088,    0.089089,     0.09009,    0.091091,    0.092092,    0.093093,    0.094094,    0.095095,\n",
       "          0.096096,    0.097097,    0.098098,    0.099099,      0.1001,      0.1011,      0.1021,      0.1031,      0.1041,     0.10511,     0.10611,     0.10711,     0.10811,     0.10911,     0.11011,     0.11111,     0.11211,     0.11311,     0.11411,     0.11512,     0.11612,     0.11712,     0.11812,     0.11912,\n",
       "           0.12012,     0.12112,     0.12212,     0.12312,     0.12412,     0.12513,     0.12613,     0.12713,     0.12813,     0.12913,     0.13013,     0.13113,     0.13213,     0.13313,     0.13413,     0.13514,     0.13614,     0.13714,     0.13814,     0.13914,     0.14014,     0.14114,     0.14214,     0.14314,\n",
       "           0.14414,     0.14515,     0.14615,     0.14715,     0.14815,     0.14915,     0.15015,     0.15115,     0.15215,     0.15315,     0.15415,     0.15516,     0.15616,     0.15716,     0.15816,     0.15916,     0.16016,     0.16116,     0.16216,     0.16316,     0.16416,     0.16517,     0.16617,     0.16717,\n",
       "           0.16817,     0.16917,     0.17017,     0.17117,     0.17217,     0.17317,     0.17417,     0.17518,     0.17618,     0.17718,     0.17818,     0.17918,     0.18018,     0.18118,     0.18218,     0.18318,     0.18418,     0.18519,     0.18619,     0.18719,     0.18819,     0.18919,     0.19019,     0.19119,\n",
       "           0.19219,     0.19319,     0.19419,      0.1952,      0.1962,      0.1972,      0.1982,      0.1992,      0.2002,      0.2012,      0.2022,      0.2032,      0.2042,     0.20521,     0.20621,     0.20721,     0.20821,     0.20921,     0.21021,     0.21121,     0.21221,     0.21321,     0.21421,     0.21522,\n",
       "           0.21622,     0.21722,     0.21822,     0.21922,     0.22022,     0.22122,     0.22222,     0.22322,     0.22422,     0.22523,     0.22623,     0.22723,     0.22823,     0.22923,     0.23023,     0.23123,     0.23223,     0.23323,     0.23423,     0.23524,     0.23624,     0.23724,     0.23824,     0.23924,\n",
       "           0.24024,     0.24124,     0.24224,     0.24324,     0.24424,     0.24525,     0.24625,     0.24725,     0.24825,     0.24925,     0.25025,     0.25125,     0.25225,     0.25325,     0.25425,     0.25526,     0.25626,     0.25726,     0.25826,     0.25926,     0.26026,     0.26126,     0.26226,     0.26326,\n",
       "           0.26426,     0.26527,     0.26627,     0.26727,     0.26827,     0.26927,     0.27027,     0.27127,     0.27227,     0.27327,     0.27427,     0.27528,     0.27628,     0.27728,     0.27828,     0.27928,     0.28028,     0.28128,     0.28228,     0.28328,     0.28428,     0.28529,     0.28629,     0.28729,\n",
       "           0.28829,     0.28929,     0.29029,     0.29129,     0.29229,     0.29329,     0.29429,      0.2953,      0.2963,      0.2973,      0.2983,      0.2993,      0.3003,      0.3013,      0.3023,      0.3033,      0.3043,     0.30531,     0.30631,     0.30731,     0.30831,     0.30931,     0.31031,     0.31131,\n",
       "           0.31231,     0.31331,     0.31431,     0.31532,     0.31632,     0.31732,     0.31832,     0.31932,     0.32032,     0.32132,     0.32232,     0.32332,     0.32432,     0.32533,     0.32633,     0.32733,     0.32833,     0.32933,     0.33033,     0.33133,     0.33233,     0.33333,     0.33433,     0.33534,\n",
       "           0.33634,     0.33734,     0.33834,     0.33934,     0.34034,     0.34134,     0.34234,     0.34334,     0.34434,     0.34535,     0.34635,     0.34735,     0.34835,     0.34935,     0.35035,     0.35135,     0.35235,     0.35335,     0.35435,     0.35536,     0.35636,     0.35736,     0.35836,     0.35936,\n",
       "           0.36036,     0.36136,     0.36236,     0.36336,     0.36436,     0.36537,     0.36637,     0.36737,     0.36837,     0.36937,     0.37037,     0.37137,     0.37237,     0.37337,     0.37437,     0.37538,     0.37638,     0.37738,     0.37838,     0.37938,     0.38038,     0.38138,     0.38238,     0.38338,\n",
       "           0.38438,     0.38539,     0.38639,     0.38739,     0.38839,     0.38939,     0.39039,     0.39139,     0.39239,     0.39339,     0.39439,      0.3954,      0.3964,      0.3974,      0.3984,      0.3994,      0.4004,      0.4014,      0.4024,      0.4034,      0.4044,     0.40541,     0.40641,     0.40741,\n",
       "           0.40841,     0.40941,     0.41041,     0.41141,     0.41241,     0.41341,     0.41441,     0.41542,     0.41642,     0.41742,     0.41842,     0.41942,     0.42042,     0.42142,     0.42242,     0.42342,     0.42442,     0.42543,     0.42643,     0.42743,     0.42843,     0.42943,     0.43043,     0.43143,\n",
       "           0.43243,     0.43343,     0.43443,     0.43544,     0.43644,     0.43744,     0.43844,     0.43944,     0.44044,     0.44144,     0.44244,     0.44344,     0.44444,     0.44545,     0.44645,     0.44745,     0.44845,     0.44945,     0.45045,     0.45145,     0.45245,     0.45345,     0.45445,     0.45546,\n",
       "           0.45646,     0.45746,     0.45846,     0.45946,     0.46046,     0.46146,     0.46246,     0.46346,     0.46446,     0.46547,     0.46647,     0.46747,     0.46847,     0.46947,     0.47047,     0.47147,     0.47247,     0.47347,     0.47447,     0.47548,     0.47648,     0.47748,     0.47848,     0.47948,\n",
       "           0.48048,     0.48148,     0.48248,     0.48348,     0.48448,     0.48549,     0.48649,     0.48749,     0.48849,     0.48949,     0.49049,     0.49149,     0.49249,     0.49349,     0.49449,      0.4955,      0.4965,      0.4975,      0.4985,      0.4995,      0.5005,      0.5015,      0.5025,      0.5035,\n",
       "            0.5045,     0.50551,     0.50651,     0.50751,     0.50851,     0.50951,     0.51051,     0.51151,     0.51251,     0.51351,     0.51451,     0.51552,     0.51652,     0.51752,     0.51852,     0.51952,     0.52052,     0.52152,     0.52252,     0.52352,     0.52452,     0.52553,     0.52653,     0.52753,\n",
       "           0.52853,     0.52953,     0.53053,     0.53153,     0.53253,     0.53353,     0.53453,     0.53554,     0.53654,     0.53754,     0.53854,     0.53954,     0.54054,     0.54154,     0.54254,     0.54354,     0.54454,     0.54555,     0.54655,     0.54755,     0.54855,     0.54955,     0.55055,     0.55155,\n",
       "           0.55255,     0.55355,     0.55455,     0.55556,     0.55656,     0.55756,     0.55856,     0.55956,     0.56056,     0.56156,     0.56256,     0.56356,     0.56456,     0.56557,     0.56657,     0.56757,     0.56857,     0.56957,     0.57057,     0.57157,     0.57257,     0.57357,     0.57457,     0.57558,\n",
       "           0.57658,     0.57758,     0.57858,     0.57958,     0.58058,     0.58158,     0.58258,     0.58358,     0.58458,     0.58559,     0.58659,     0.58759,     0.58859,     0.58959,     0.59059,     0.59159,     0.59259,     0.59359,     0.59459,      0.5956,      0.5966,      0.5976,      0.5986,      0.5996,\n",
       "            0.6006,      0.6016,      0.6026,      0.6036,      0.6046,     0.60561,     0.60661,     0.60761,     0.60861,     0.60961,     0.61061,     0.61161,     0.61261,     0.61361,     0.61461,     0.61562,     0.61662,     0.61762,     0.61862,     0.61962,     0.62062,     0.62162,     0.62262,     0.62362,\n",
       "           0.62462,     0.62563,     0.62663,     0.62763,     0.62863,     0.62963,     0.63063,     0.63163,     0.63263,     0.63363,     0.63463,     0.63564,     0.63664,     0.63764,     0.63864,     0.63964,     0.64064,     0.64164,     0.64264,     0.64364,     0.64464,     0.64565,     0.64665,     0.64765,\n",
       "           0.64865,     0.64965,     0.65065,     0.65165,     0.65265,     0.65365,     0.65465,     0.65566,     0.65666,     0.65766,     0.65866,     0.65966,     0.66066,     0.66166,     0.66266,     0.66366,     0.66466,     0.66567,     0.66667,     0.66767,     0.66867,     0.66967,     0.67067,     0.67167,\n",
       "           0.67267,     0.67367,     0.67467,     0.67568,     0.67668,     0.67768,     0.67868,     0.67968,     0.68068,     0.68168,     0.68268,     0.68368,     0.68468,     0.68569,     0.68669,     0.68769,     0.68869,     0.68969,     0.69069,     0.69169,     0.69269,     0.69369,     0.69469,      0.6957,\n",
       "            0.6967,      0.6977,      0.6987,      0.6997,      0.7007,      0.7017,      0.7027,      0.7037,      0.7047,     0.70571,     0.70671,     0.70771,     0.70871,     0.70971,     0.71071,     0.71171,     0.71271,     0.71371,     0.71471,     0.71572,     0.71672,     0.71772,     0.71872,     0.71972,\n",
       "           0.72072,     0.72172,     0.72272,     0.72372,     0.72472,     0.72573,     0.72673,     0.72773,     0.72873,     0.72973,     0.73073,     0.73173,     0.73273,     0.73373,     0.73473,     0.73574,     0.73674,     0.73774,     0.73874,     0.73974,     0.74074,     0.74174,     0.74274,     0.74374,\n",
       "           0.74474,     0.74575,     0.74675,     0.74775,     0.74875,     0.74975,     0.75075,     0.75175,     0.75275,     0.75375,     0.75475,     0.75576,     0.75676,     0.75776,     0.75876,     0.75976,     0.76076,     0.76176,     0.76276,     0.76376,     0.76476,     0.76577,     0.76677,     0.76777,\n",
       "           0.76877,     0.76977,     0.77077,     0.77177,     0.77277,     0.77377,     0.77477,     0.77578,     0.77678,     0.77778,     0.77878,     0.77978,     0.78078,     0.78178,     0.78278,     0.78378,     0.78478,     0.78579,     0.78679,     0.78779,     0.78879,     0.78979,     0.79079,     0.79179,\n",
       "           0.79279,     0.79379,     0.79479,      0.7958,      0.7968,      0.7978,      0.7988,      0.7998,      0.8008,      0.8018,      0.8028,      0.8038,      0.8048,     0.80581,     0.80681,     0.80781,     0.80881,     0.80981,     0.81081,     0.81181,     0.81281,     0.81381,     0.81481,     0.81582,\n",
       "           0.81682,     0.81782,     0.81882,     0.81982,     0.82082,     0.82182,     0.82282,     0.82382,     0.82482,     0.82583,     0.82683,     0.82783,     0.82883,     0.82983,     0.83083,     0.83183,     0.83283,     0.83383,     0.83483,     0.83584,     0.83684,     0.83784,     0.83884,     0.83984,\n",
       "           0.84084,     0.84184,     0.84284,     0.84384,     0.84484,     0.84585,     0.84685,     0.84785,     0.84885,     0.84985,     0.85085,     0.85185,     0.85285,     0.85385,     0.85485,     0.85586,     0.85686,     0.85786,     0.85886,     0.85986,     0.86086,     0.86186,     0.86286,     0.86386,\n",
       "           0.86486,     0.86587,     0.86687,     0.86787,     0.86887,     0.86987,     0.87087,     0.87187,     0.87287,     0.87387,     0.87487,     0.87588,     0.87688,     0.87788,     0.87888,     0.87988,     0.88088,     0.88188,     0.88288,     0.88388,     0.88488,     0.88589,     0.88689,     0.88789,\n",
       "           0.88889,     0.88989,     0.89089,     0.89189,     0.89289,     0.89389,     0.89489,      0.8959,      0.8969,      0.8979,      0.8989,      0.8999,      0.9009,      0.9019,      0.9029,      0.9039,      0.9049,     0.90591,     0.90691,     0.90791,     0.90891,     0.90991,     0.91091,     0.91191,\n",
       "           0.91291,     0.91391,     0.91491,     0.91592,     0.91692,     0.91792,     0.91892,     0.91992,     0.92092,     0.92192,     0.92292,     0.92392,     0.92492,     0.92593,     0.92693,     0.92793,     0.92893,     0.92993,     0.93093,     0.93193,     0.93293,     0.93393,     0.93493,     0.93594,\n",
       "           0.93694,     0.93794,     0.93894,     0.93994,     0.94094,     0.94194,     0.94294,     0.94394,     0.94494,     0.94595,     0.94695,     0.94795,     0.94895,     0.94995,     0.95095,     0.95195,     0.95295,     0.95395,     0.95495,     0.95596,     0.95696,     0.95796,     0.95896,     0.95996,\n",
       "           0.96096,     0.96196,     0.96296,     0.96396,     0.96496,     0.96597,     0.96697,     0.96797,     0.96897,     0.96997,     0.97097,     0.97197,     0.97297,     0.97397,     0.97497,     0.97598,     0.97698,     0.97798,     0.97898,     0.97998,     0.98098,     0.98198,     0.98298,     0.98398,\n",
       "           0.98498,     0.98599,     0.98699,     0.98799,     0.98899,     0.98999,     0.99099,     0.99199,     0.99299,     0.99399,     0.99499,       0.996,       0.997,       0.998,       0.999,           1]), array([[   0.014745,    0.014745,    0.030199,    0.044097,    0.057204,    0.069977,    0.081892,    0.091879,     0.10272,     0.11316,     0.12252,     0.13271,     0.14278,     0.15148,     0.16024,     0.17072,     0.17695,     0.18483,     0.19324,     0.20087,     0.20813,     0.21428,     0.22021,\n",
       "            0.22872,     0.23691,     0.24288,     0.24921,     0.25749,     0.26481,     0.27269,     0.27721,     0.28528,     0.29086,     0.29806,     0.30405,     0.31106,     0.31848,     0.32416,     0.32958,     0.33371,     0.33586,     0.34185,     0.34783,     0.35272,     0.35582,     0.36096,\n",
       "            0.36532,     0.37074,     0.37451,     0.37644,     0.37934,     0.38462,     0.38867,     0.39438,     0.39945,     0.40272,     0.40737,     0.41044,     0.41348,     0.41689,     0.42076,     0.42487,     0.43027,     0.43342,     0.43704,     0.44024,     0.44794,     0.45182,     0.45423,\n",
       "            0.45972,     0.46125,     0.46484,     0.46962,     0.47269,     0.47572,      0.4767,      0.4829,     0.48777,     0.49099,     0.49328,     0.49378,     0.49845,     0.50202,     0.50681,     0.50766,     0.51082,     0.51299,     0.51543,     0.51987,     0.52578,     0.52929,     0.53219,\n",
       "             0.5346,     0.53807,     0.54642,     0.54924,     0.55179,     0.55488,     0.55534,      0.5558,     0.55871,     0.56037,     0.56252,     0.56622,     0.56742,     0.56833,     0.56939,     0.57194,     0.57378,     0.58057,     0.58938,     0.59113,     0.59261,     0.59391,      0.5932,\n",
       "            0.59575,     0.59978,     0.60225,     0.60423,     0.60492,     0.60597,     0.60768,     0.60858,     0.61057,     0.61112,     0.61168,     0.61306,     0.61301,     0.61605,     0.61692,      0.6178,     0.61874,     0.62237,     0.62192,     0.62147,     0.62284,     0.62543,     0.62723,\n",
       "            0.63198,     0.63714,     0.63994,     0.64055,     0.64117,     0.64203,     0.64322,     0.64733,      0.6486,     0.65391,     0.65514,     0.65966,     0.66343,     0.67101,     0.67644,     0.68008,     0.68108,     0.68189,     0.68145,      0.6812,     0.68479,     0.68408,     0.68529,\n",
       "            0.68676,     0.68927,     0.69312,     0.69487,     0.69732,      0.6989,     0.70021,     0.70152,     0.70281,     0.70403,     0.70668,      0.7073,     0.70792,     0.70854,     0.71177,     0.71305,     0.71502,     0.71634,     0.71972,     0.72067,     0.72162,     0.72347,     0.72477,\n",
       "            0.72639,     0.73154,      0.7372,      0.7392,     0.74303,     0.74854,     0.74911,     0.74969,     0.75027,     0.75095,     0.75293,     0.75734,     0.76064,      0.7647,      0.7683,     0.77114,     0.77253,     0.77578,     0.77609,     0.77639,      0.7767,     0.77701,     0.77732,\n",
       "            0.77763,     0.77794,     0.77773,     0.77839,     0.77972,     0.78153,     0.78452,      0.7856,     0.78605,     0.78649,     0.78693,     0.78737,     0.78782,     0.78958,     0.79027,     0.79061,     0.79243,     0.79228,     0.79213,     0.79199,     0.79184,     0.79213,     0.79252,\n",
       "            0.79291,      0.7933,     0.79369,     0.79408,     0.79447,     0.79773,     0.80017,     0.80061,     0.80105,     0.80148,     0.80192,     0.80236,     0.80577,     0.81104,     0.81059,     0.81631,     0.81675,     0.81719,     0.81763,     0.81807,     0.81851,     0.81895,     0.82131,\n",
       "            0.82253,      0.8231,     0.82368,     0.82425,     0.82482,     0.82485,     0.82464,     0.82442,      0.8257,     0.82756,     0.83165,     0.83284,     0.83573,     0.83546,     0.83518,     0.83634,      0.8376,     0.83876,     0.83981,     0.84087,     0.84627,     0.85014,     0.85092,\n",
       "            0.85112,     0.85132,     0.85152,     0.85172,     0.85192,     0.85213,     0.85233,     0.85253,     0.85273,     0.85293,     0.85313,     0.85333,     0.85353,     0.85373,     0.85393,     0.85376,     0.85358,     0.85341,     0.85522,     0.85784,     0.86008,     0.86066,     0.86125,\n",
       "            0.86183,     0.86241,     0.86299,     0.86288,     0.86275,     0.86469,     0.86585,     0.86573,     0.86561,     0.86548,     0.86642,     0.86913,     0.86994,     0.87075,     0.87156,     0.87205,     0.87194,     0.87183,     0.87171,      0.8716,     0.87293,     0.87433,     0.87493,\n",
       "            0.87478,     0.87464,     0.87465,     0.87593,     0.87721,     0.87855,     0.87998,      0.8814,     0.88171,     0.88199,     0.88228,     0.88257,     0.88285,     0.88314,     0.88343,     0.88371,       0.884,     0.88429,     0.88457,     0.88486,     0.88596,     0.88727,     0.88847,\n",
       "            0.88866,     0.88884,     0.88903,     0.88922,     0.88941,      0.8896,     0.88979,     0.88998,     0.89017,     0.89036,     0.89055,     0.89074,     0.89093,     0.89112,      0.8913,     0.89149,     0.89168,     0.89187,     0.89104,     0.89079,     0.89117,     0.89195,     0.89273,\n",
       "            0.89352,      0.8943,     0.89423,     0.89415,     0.89407,     0.89399,     0.89391,     0.89988,     0.90122,      0.9012,     0.90117,     0.90115,     0.90113,      0.9011,     0.90108,     0.90106,     0.90103,     0.90101,     0.90099,     0.90096,     0.90094,     0.90092,     0.90089,\n",
       "            0.90087,     0.90085,     0.90079,     0.89998,     0.89983,     0.89967,      0.9004,     0.90234,     0.90521,     0.90707,     0.90766,     0.90824,     0.90883,     0.90942,        0.91,     0.91059,     0.91446,     0.91412,     0.91393,     0.91377,     0.91367,     0.91358,     0.91348,\n",
       "            0.91367,     0.91438,     0.91508,     0.91579,      0.9165,     0.91721,     0.92044,     0.92126,     0.92109,     0.92101,     0.92096,      0.9209,     0.92085,      0.9208,     0.92075,     0.92102,     0.92242,     0.92381,     0.92542,     0.92752,     0.92882,     0.92864,     0.92804,\n",
       "            0.92782,     0.92765,     0.92748,     0.92731,     0.92714,     0.92697,     0.92753,     0.92826,     0.92899,     0.92971,     0.93044,     0.93117,     0.93113,     0.93107,       0.931,     0.93094,     0.93125,     0.93514,     0.93482,     0.93467,     0.93457,     0.93455,     0.93452,\n",
       "             0.9345,     0.93448,     0.93446,     0.93443,     0.93441,     0.93439,     0.93437,     0.93434,     0.93432,      0.9343,     0.93428,     0.93425,     0.93421,     0.93417,     0.93414,      0.9341,     0.93407,     0.93403,       0.934,     0.93396,      0.9346,     0.93525,      0.9359,\n",
       "            0.93655,     0.93719,     0.93784,     0.93839,     0.93836,     0.93834,     0.93832,      0.9383,     0.93828,     0.93826,     0.93823,     0.93821,     0.93819,     0.93817,     0.93815,     0.93813,     0.93811,     0.93806,     0.93798,     0.93791,     0.93783,     0.93762,     0.93748,\n",
       "            0.93746,     0.93743,     0.93741,     0.93738,     0.93736,     0.93733,      0.9373,     0.93728,     0.93725,     0.93723,      0.9372,     0.93714,     0.93708,     0.93702,     0.93695,     0.93689,     0.93673,     0.93656,     0.93624,     0.93592,     0.93609,     0.93999,     0.93997,\n",
       "            0.93994,     0.93991,     0.93988,     0.93985,     0.93983,      0.9398,     0.93977,     0.93974,     0.93971,      0.9408,     0.94323,      0.9448,      0.9455,      0.9462,      0.9469,      0.9476,     0.94831,     0.94901,     0.94906,     0.94879,     0.94867,      0.9486,     0.94853,\n",
       "            0.94847,     0.95233,     0.95311,     0.95309,     0.95307,     0.95305,     0.95303,     0.95301,     0.95299,     0.95297,     0.95295,     0.95293,     0.95291,     0.95289,     0.95282,     0.95274,     0.95266,     0.95245,     0.95233,     0.95227,      0.9522,     0.95214,     0.95202,\n",
       "            0.95189,     0.95179,      0.9517,     0.95162,     0.95135,     0.95129,     0.95123,     0.95117,     0.95111,     0.95108,     0.95106,     0.95104,     0.95102,     0.95101,     0.95099,     0.95097,     0.95095,     0.95093,     0.95092,      0.9509,     0.95088,     0.95086,     0.95085,\n",
       "            0.95083,      0.9521,     0.95478,     0.95591,     0.95577,     0.95572,     0.95567,     0.95562,     0.95557,     0.95519,     0.95475,     0.95448,     0.95501,     0.95782,     0.95973,     0.95961,      0.9595,     0.95941,     0.95931,     0.95925,     0.95919,     0.95912,     0.95906,\n",
       "            0.95904,     0.95901,     0.95899,     0.95896,     0.95893,     0.95891,     0.95888,     0.95886,     0.95883,     0.95864,      0.9585,      0.9584,     0.95829,     0.95816,     0.95799,     0.95779,     0.95768,     0.95758,     0.95749,      0.9574,     0.95731,     0.95718,     0.95705,\n",
       "            0.95694,     0.95683,     0.95675,     0.95669,     0.95663,     0.95657,     0.95645,     0.95713,     0.96021,     0.96186,     0.96171,     0.96163,     0.96155,      0.9613,     0.96125,     0.96121,     0.96116,     0.96112,     0.96108,     0.96103,      0.9609,     0.96076,     0.96058,\n",
       "             0.9605,     0.96046,     0.96042,     0.96037,     0.96033,     0.96029,      0.9602,     0.96002,     0.95988,     0.95974,      0.9662,     0.96616,     0.96613,     0.96609,     0.96606,     0.96602,     0.96597,     0.96581,      0.9656,     0.96541,     0.96527,     0.96521,     0.96516,\n",
       "             0.9651,     0.96505,     0.96458,      0.9644,     0.96399,     0.96388,     0.96378,      0.9704,     0.97073,     0.97066,     0.97058,     0.97036,     0.97021,     0.97011,     0.97005,     0.96998,      0.9699,     0.96974,     0.97182,     0.97486,     0.97692,     0.97688,     0.97685,\n",
       "            0.97682,     0.97679,     0.97676,     0.97672,     0.97666,     0.97659,     0.97633,     0.97624,     0.97902,       0.984,     0.98398,     0.98395,     0.98393,     0.98391,     0.98389,     0.98373,     0.98366,     0.98359,     0.98355,      0.9835,     0.98344,     0.98335,     0.98331,\n",
       "            0.98327,     0.98324,     0.98321,     0.98315,     0.98291,     0.98286,     0.98282,     0.98278,      0.9827,      0.9826,     0.98255,      0.9825,     0.99106,       0.991,     0.99095,      0.9909,     0.99089,     0.99087,     0.99086,     0.99084,     0.99083,     0.99081,     0.99079,\n",
       "            0.99077,     0.99075,     0.99053,     0.99047,     0.99041,     0.99035,     0.99029,     0.99027,     0.99025,     0.99024,     0.99022,      0.9902,     0.99017,     0.99014,      0.9901,     0.99004,     0.98989,     0.98988,     0.98987,     0.98985,     0.98984,     0.98983,     0.98981,\n",
       "             0.9898,     0.98965,     0.98946,     0.98939,     0.98929,     0.98919,     0.98912,     0.98907,     0.98902,     0.98899,     0.98896,     0.98892,     0.98889,     0.98881,     0.98871,      0.9886,     0.98851,     0.98828,     0.98821,     0.98817,     0.98813,     0.98795,     0.98789,\n",
       "            0.98783,     0.98761,     0.98755,     0.98732,     0.98721,     0.98705,     0.98696,     0.98689,     0.98678,     0.98662,      0.9865,     0.98644,     0.98638,     0.98633,     0.99309,           1,           1,           1,           1,           1,           1,           1,           1,\n",
       "                  1,           1,           1,           1,           1,           1,           1,           1,           1,           1,           1,           1,           1,           1,           1,           1,           1,           1,           1,           1,           1,           1,           1,\n",
       "                  1,           1,           1,           1,           1,           1,           1,           1,           1,           1,           1,           1,           1,           1,           1,           1,           1,           1,           1,           1,           1,           1,           1,\n",
       "                  1,           1,           1,           1,           1,           1,           1,           1,           1,           1,           1,           1,           1,           1,           1,           1,           1,           1,           1,           1,           1,           1,           1,\n",
       "                  1,           1,           1,           1,           1,           1,           1,           1,           1,           1,           1,           1,           1,           1,           1,           1,           1,           1,           1,           1,           1,           1,           1,\n",
       "                  1,           1,           1,           1,           1,           1,           1,           1,           1,           1,           1,           1,           1,           1,           1,           1,           1,           1,           1,           1,           1,           1,           1,\n",
       "                  1,           1,           1,           1,           1,           1,           1,           1,           1,           1,           1,           1,           1,           1,           1,           1,           1,           1,           1,           1,           1,           1,           1,\n",
       "                  1,           1,           1,           1,           1,           1,           1,           1,           1,           1,           1,           1,           1,           1,           1,           1,           1,           1,           1,           1,           1,           1,           1,\n",
       "                  1,           1,           1,           1,           1,           1,           1,           1,           1,           1,           1]]), 'Confidence', 'Precision'], [array([          0,    0.001001,    0.002002,    0.003003,    0.004004,    0.005005,    0.006006,    0.007007,    0.008008,    0.009009,     0.01001,    0.011011,    0.012012,    0.013013,    0.014014,    0.015015,    0.016016,    0.017017,    0.018018,    0.019019,     0.02002,    0.021021,    0.022022,    0.023023,\n",
       "          0.024024,    0.025025,    0.026026,    0.027027,    0.028028,    0.029029,     0.03003,    0.031031,    0.032032,    0.033033,    0.034034,    0.035035,    0.036036,    0.037037,    0.038038,    0.039039,     0.04004,    0.041041,    0.042042,    0.043043,    0.044044,    0.045045,    0.046046,    0.047047,\n",
       "          0.048048,    0.049049,     0.05005,    0.051051,    0.052052,    0.053053,    0.054054,    0.055055,    0.056056,    0.057057,    0.058058,    0.059059,     0.06006,    0.061061,    0.062062,    0.063063,    0.064064,    0.065065,    0.066066,    0.067067,    0.068068,    0.069069,     0.07007,    0.071071,\n",
       "          0.072072,    0.073073,    0.074074,    0.075075,    0.076076,    0.077077,    0.078078,    0.079079,     0.08008,    0.081081,    0.082082,    0.083083,    0.084084,    0.085085,    0.086086,    0.087087,    0.088088,    0.089089,     0.09009,    0.091091,    0.092092,    0.093093,    0.094094,    0.095095,\n",
       "          0.096096,    0.097097,    0.098098,    0.099099,      0.1001,      0.1011,      0.1021,      0.1031,      0.1041,     0.10511,     0.10611,     0.10711,     0.10811,     0.10911,     0.11011,     0.11111,     0.11211,     0.11311,     0.11411,     0.11512,     0.11612,     0.11712,     0.11812,     0.11912,\n",
       "           0.12012,     0.12112,     0.12212,     0.12312,     0.12412,     0.12513,     0.12613,     0.12713,     0.12813,     0.12913,     0.13013,     0.13113,     0.13213,     0.13313,     0.13413,     0.13514,     0.13614,     0.13714,     0.13814,     0.13914,     0.14014,     0.14114,     0.14214,     0.14314,\n",
       "           0.14414,     0.14515,     0.14615,     0.14715,     0.14815,     0.14915,     0.15015,     0.15115,     0.15215,     0.15315,     0.15415,     0.15516,     0.15616,     0.15716,     0.15816,     0.15916,     0.16016,     0.16116,     0.16216,     0.16316,     0.16416,     0.16517,     0.16617,     0.16717,\n",
       "           0.16817,     0.16917,     0.17017,     0.17117,     0.17217,     0.17317,     0.17417,     0.17518,     0.17618,     0.17718,     0.17818,     0.17918,     0.18018,     0.18118,     0.18218,     0.18318,     0.18418,     0.18519,     0.18619,     0.18719,     0.18819,     0.18919,     0.19019,     0.19119,\n",
       "           0.19219,     0.19319,     0.19419,      0.1952,      0.1962,      0.1972,      0.1982,      0.1992,      0.2002,      0.2012,      0.2022,      0.2032,      0.2042,     0.20521,     0.20621,     0.20721,     0.20821,     0.20921,     0.21021,     0.21121,     0.21221,     0.21321,     0.21421,     0.21522,\n",
       "           0.21622,     0.21722,     0.21822,     0.21922,     0.22022,     0.22122,     0.22222,     0.22322,     0.22422,     0.22523,     0.22623,     0.22723,     0.22823,     0.22923,     0.23023,     0.23123,     0.23223,     0.23323,     0.23423,     0.23524,     0.23624,     0.23724,     0.23824,     0.23924,\n",
       "           0.24024,     0.24124,     0.24224,     0.24324,     0.24424,     0.24525,     0.24625,     0.24725,     0.24825,     0.24925,     0.25025,     0.25125,     0.25225,     0.25325,     0.25425,     0.25526,     0.25626,     0.25726,     0.25826,     0.25926,     0.26026,     0.26126,     0.26226,     0.26326,\n",
       "           0.26426,     0.26527,     0.26627,     0.26727,     0.26827,     0.26927,     0.27027,     0.27127,     0.27227,     0.27327,     0.27427,     0.27528,     0.27628,     0.27728,     0.27828,     0.27928,     0.28028,     0.28128,     0.28228,     0.28328,     0.28428,     0.28529,     0.28629,     0.28729,\n",
       "           0.28829,     0.28929,     0.29029,     0.29129,     0.29229,     0.29329,     0.29429,      0.2953,      0.2963,      0.2973,      0.2983,      0.2993,      0.3003,      0.3013,      0.3023,      0.3033,      0.3043,     0.30531,     0.30631,     0.30731,     0.30831,     0.30931,     0.31031,     0.31131,\n",
       "           0.31231,     0.31331,     0.31431,     0.31532,     0.31632,     0.31732,     0.31832,     0.31932,     0.32032,     0.32132,     0.32232,     0.32332,     0.32432,     0.32533,     0.32633,     0.32733,     0.32833,     0.32933,     0.33033,     0.33133,     0.33233,     0.33333,     0.33433,     0.33534,\n",
       "           0.33634,     0.33734,     0.33834,     0.33934,     0.34034,     0.34134,     0.34234,     0.34334,     0.34434,     0.34535,     0.34635,     0.34735,     0.34835,     0.34935,     0.35035,     0.35135,     0.35235,     0.35335,     0.35435,     0.35536,     0.35636,     0.35736,     0.35836,     0.35936,\n",
       "           0.36036,     0.36136,     0.36236,     0.36336,     0.36436,     0.36537,     0.36637,     0.36737,     0.36837,     0.36937,     0.37037,     0.37137,     0.37237,     0.37337,     0.37437,     0.37538,     0.37638,     0.37738,     0.37838,     0.37938,     0.38038,     0.38138,     0.38238,     0.38338,\n",
       "           0.38438,     0.38539,     0.38639,     0.38739,     0.38839,     0.38939,     0.39039,     0.39139,     0.39239,     0.39339,     0.39439,      0.3954,      0.3964,      0.3974,      0.3984,      0.3994,      0.4004,      0.4014,      0.4024,      0.4034,      0.4044,     0.40541,     0.40641,     0.40741,\n",
       "           0.40841,     0.40941,     0.41041,     0.41141,     0.41241,     0.41341,     0.41441,     0.41542,     0.41642,     0.41742,     0.41842,     0.41942,     0.42042,     0.42142,     0.42242,     0.42342,     0.42442,     0.42543,     0.42643,     0.42743,     0.42843,     0.42943,     0.43043,     0.43143,\n",
       "           0.43243,     0.43343,     0.43443,     0.43544,     0.43644,     0.43744,     0.43844,     0.43944,     0.44044,     0.44144,     0.44244,     0.44344,     0.44444,     0.44545,     0.44645,     0.44745,     0.44845,     0.44945,     0.45045,     0.45145,     0.45245,     0.45345,     0.45445,     0.45546,\n",
       "           0.45646,     0.45746,     0.45846,     0.45946,     0.46046,     0.46146,     0.46246,     0.46346,     0.46446,     0.46547,     0.46647,     0.46747,     0.46847,     0.46947,     0.47047,     0.47147,     0.47247,     0.47347,     0.47447,     0.47548,     0.47648,     0.47748,     0.47848,     0.47948,\n",
       "           0.48048,     0.48148,     0.48248,     0.48348,     0.48448,     0.48549,     0.48649,     0.48749,     0.48849,     0.48949,     0.49049,     0.49149,     0.49249,     0.49349,     0.49449,      0.4955,      0.4965,      0.4975,      0.4985,      0.4995,      0.5005,      0.5015,      0.5025,      0.5035,\n",
       "            0.5045,     0.50551,     0.50651,     0.50751,     0.50851,     0.50951,     0.51051,     0.51151,     0.51251,     0.51351,     0.51451,     0.51552,     0.51652,     0.51752,     0.51852,     0.51952,     0.52052,     0.52152,     0.52252,     0.52352,     0.52452,     0.52553,     0.52653,     0.52753,\n",
       "           0.52853,     0.52953,     0.53053,     0.53153,     0.53253,     0.53353,     0.53453,     0.53554,     0.53654,     0.53754,     0.53854,     0.53954,     0.54054,     0.54154,     0.54254,     0.54354,     0.54454,     0.54555,     0.54655,     0.54755,     0.54855,     0.54955,     0.55055,     0.55155,\n",
       "           0.55255,     0.55355,     0.55455,     0.55556,     0.55656,     0.55756,     0.55856,     0.55956,     0.56056,     0.56156,     0.56256,     0.56356,     0.56456,     0.56557,     0.56657,     0.56757,     0.56857,     0.56957,     0.57057,     0.57157,     0.57257,     0.57357,     0.57457,     0.57558,\n",
       "           0.57658,     0.57758,     0.57858,     0.57958,     0.58058,     0.58158,     0.58258,     0.58358,     0.58458,     0.58559,     0.58659,     0.58759,     0.58859,     0.58959,     0.59059,     0.59159,     0.59259,     0.59359,     0.59459,      0.5956,      0.5966,      0.5976,      0.5986,      0.5996,\n",
       "            0.6006,      0.6016,      0.6026,      0.6036,      0.6046,     0.60561,     0.60661,     0.60761,     0.60861,     0.60961,     0.61061,     0.61161,     0.61261,     0.61361,     0.61461,     0.61562,     0.61662,     0.61762,     0.61862,     0.61962,     0.62062,     0.62162,     0.62262,     0.62362,\n",
       "           0.62462,     0.62563,     0.62663,     0.62763,     0.62863,     0.62963,     0.63063,     0.63163,     0.63263,     0.63363,     0.63463,     0.63564,     0.63664,     0.63764,     0.63864,     0.63964,     0.64064,     0.64164,     0.64264,     0.64364,     0.64464,     0.64565,     0.64665,     0.64765,\n",
       "           0.64865,     0.64965,     0.65065,     0.65165,     0.65265,     0.65365,     0.65465,     0.65566,     0.65666,     0.65766,     0.65866,     0.65966,     0.66066,     0.66166,     0.66266,     0.66366,     0.66466,     0.66567,     0.66667,     0.66767,     0.66867,     0.66967,     0.67067,     0.67167,\n",
       "           0.67267,     0.67367,     0.67467,     0.67568,     0.67668,     0.67768,     0.67868,     0.67968,     0.68068,     0.68168,     0.68268,     0.68368,     0.68468,     0.68569,     0.68669,     0.68769,     0.68869,     0.68969,     0.69069,     0.69169,     0.69269,     0.69369,     0.69469,      0.6957,\n",
       "            0.6967,      0.6977,      0.6987,      0.6997,      0.7007,      0.7017,      0.7027,      0.7037,      0.7047,     0.70571,     0.70671,     0.70771,     0.70871,     0.70971,     0.71071,     0.71171,     0.71271,     0.71371,     0.71471,     0.71572,     0.71672,     0.71772,     0.71872,     0.71972,\n",
       "           0.72072,     0.72172,     0.72272,     0.72372,     0.72472,     0.72573,     0.72673,     0.72773,     0.72873,     0.72973,     0.73073,     0.73173,     0.73273,     0.73373,     0.73473,     0.73574,     0.73674,     0.73774,     0.73874,     0.73974,     0.74074,     0.74174,     0.74274,     0.74374,\n",
       "           0.74474,     0.74575,     0.74675,     0.74775,     0.74875,     0.74975,     0.75075,     0.75175,     0.75275,     0.75375,     0.75475,     0.75576,     0.75676,     0.75776,     0.75876,     0.75976,     0.76076,     0.76176,     0.76276,     0.76376,     0.76476,     0.76577,     0.76677,     0.76777,\n",
       "           0.76877,     0.76977,     0.77077,     0.77177,     0.77277,     0.77377,     0.77477,     0.77578,     0.77678,     0.77778,     0.77878,     0.77978,     0.78078,     0.78178,     0.78278,     0.78378,     0.78478,     0.78579,     0.78679,     0.78779,     0.78879,     0.78979,     0.79079,     0.79179,\n",
       "           0.79279,     0.79379,     0.79479,      0.7958,      0.7968,      0.7978,      0.7988,      0.7998,      0.8008,      0.8018,      0.8028,      0.8038,      0.8048,     0.80581,     0.80681,     0.80781,     0.80881,     0.80981,     0.81081,     0.81181,     0.81281,     0.81381,     0.81481,     0.81582,\n",
       "           0.81682,     0.81782,     0.81882,     0.81982,     0.82082,     0.82182,     0.82282,     0.82382,     0.82482,     0.82583,     0.82683,     0.82783,     0.82883,     0.82983,     0.83083,     0.83183,     0.83283,     0.83383,     0.83483,     0.83584,     0.83684,     0.83784,     0.83884,     0.83984,\n",
       "           0.84084,     0.84184,     0.84284,     0.84384,     0.84484,     0.84585,     0.84685,     0.84785,     0.84885,     0.84985,     0.85085,     0.85185,     0.85285,     0.85385,     0.85485,     0.85586,     0.85686,     0.85786,     0.85886,     0.85986,     0.86086,     0.86186,     0.86286,     0.86386,\n",
       "           0.86486,     0.86587,     0.86687,     0.86787,     0.86887,     0.86987,     0.87087,     0.87187,     0.87287,     0.87387,     0.87487,     0.87588,     0.87688,     0.87788,     0.87888,     0.87988,     0.88088,     0.88188,     0.88288,     0.88388,     0.88488,     0.88589,     0.88689,     0.88789,\n",
       "           0.88889,     0.88989,     0.89089,     0.89189,     0.89289,     0.89389,     0.89489,      0.8959,      0.8969,      0.8979,      0.8989,      0.8999,      0.9009,      0.9019,      0.9029,      0.9039,      0.9049,     0.90591,     0.90691,     0.90791,     0.90891,     0.90991,     0.91091,     0.91191,\n",
       "           0.91291,     0.91391,     0.91491,     0.91592,     0.91692,     0.91792,     0.91892,     0.91992,     0.92092,     0.92192,     0.92292,     0.92392,     0.92492,     0.92593,     0.92693,     0.92793,     0.92893,     0.92993,     0.93093,     0.93193,     0.93293,     0.93393,     0.93493,     0.93594,\n",
       "           0.93694,     0.93794,     0.93894,     0.93994,     0.94094,     0.94194,     0.94294,     0.94394,     0.94494,     0.94595,     0.94695,     0.94795,     0.94895,     0.94995,     0.95095,     0.95195,     0.95295,     0.95395,     0.95495,     0.95596,     0.95696,     0.95796,     0.95896,     0.95996,\n",
       "           0.96096,     0.96196,     0.96296,     0.96396,     0.96496,     0.96597,     0.96697,     0.96797,     0.96897,     0.96997,     0.97097,     0.97197,     0.97297,     0.97397,     0.97497,     0.97598,     0.97698,     0.97798,     0.97898,     0.97998,     0.98098,     0.98198,     0.98298,     0.98398,\n",
       "           0.98498,     0.98599,     0.98699,     0.98799,     0.98899,     0.98999,     0.99099,     0.99199,     0.99299,     0.99399,     0.99499,       0.996,       0.997,       0.998,       0.999,           1]), array([[    0.80294,     0.80294,     0.77941,     0.77353,     0.77059,     0.76765,     0.76471,     0.75588,     0.75588,     0.75294,     0.74412,     0.74412,     0.74412,     0.74412,     0.74412,     0.74412,     0.74118,     0.74118,     0.74118,     0.74118,     0.73824,     0.73529,     0.73529,\n",
       "            0.73529,     0.73529,     0.73529,     0.73529,     0.73438,     0.73235,     0.73235,     0.73235,     0.73235,     0.73235,     0.73235,     0.73235,     0.73235,     0.73235,     0.73235,     0.73235,     0.73235,     0.73235,     0.73235,     0.73235,     0.73235,     0.73235,     0.73235,\n",
       "            0.72941,     0.72647,     0.72353,     0.72353,     0.72353,     0.72353,     0.72353,     0.72353,     0.72353,     0.72353,     0.72353,     0.72074,     0.72059,     0.72059,     0.71785,     0.71765,     0.71765,     0.71765,     0.71765,     0.71765,     0.71765,     0.71765,     0.71765,\n",
       "            0.71765,     0.71765,     0.71765,     0.71765,     0.71765,     0.71765,     0.71765,     0.71765,     0.71765,     0.71765,     0.71765,     0.71765,     0.71765,     0.71765,     0.71765,     0.71765,     0.71765,     0.71765,     0.71765,     0.71765,     0.71765,     0.71765,     0.71765,\n",
       "            0.71765,     0.71765,     0.71765,     0.71765,     0.71765,     0.71765,     0.71765,     0.71765,     0.71765,     0.71765,     0.71765,     0.71765,     0.71765,     0.71765,     0.71765,     0.71765,     0.71765,     0.71765,     0.71765,     0.71765,     0.71765,     0.71404,     0.71194,\n",
       "            0.70882,     0.70882,     0.70882,     0.70882,     0.70882,     0.70882,     0.70882,     0.70882,     0.70882,     0.70882,     0.70882,     0.70831,      0.7035,     0.70294,     0.70294,     0.70294,     0.70294,     0.70287,     0.70153,     0.70019,         0.7,         0.7,         0.7,\n",
       "                0.7,         0.7,         0.7,         0.7,         0.7,         0.7,         0.7,         0.7,         0.7,         0.7,         0.7,         0.7,         0.7,         0.7,         0.7,         0.7,         0.7,     0.69982,      0.6984,     0.69706,     0.69706,     0.69418,     0.69412,\n",
       "            0.69412,     0.69412,     0.69412,     0.69412,     0.69412,     0.69412,     0.69412,     0.69412,     0.69412,     0.69412,     0.69412,     0.69412,     0.69412,     0.69412,     0.69412,     0.69412,     0.69412,     0.69412,     0.69412,     0.69412,     0.69412,     0.69118,     0.69118,\n",
       "            0.69118,     0.69118,     0.69118,     0.69118,     0.69118,     0.69118,     0.69118,     0.69118,     0.69118,     0.69118,     0.69118,     0.69118,     0.69118,     0.69118,     0.69118,     0.69118,     0.69118,     0.69118,     0.69118,     0.69118,     0.69118,     0.69118,     0.69118,\n",
       "            0.69118,     0.69118,      0.6895,     0.68824,     0.68824,     0.68824,     0.68824,     0.68824,     0.68824,     0.68824,     0.68824,     0.68824,     0.68824,     0.68824,      0.6871,     0.68529,     0.68494,     0.68433,     0.68371,     0.68309,     0.68247,     0.68235,     0.68235,\n",
       "            0.68235,     0.68235,     0.68235,     0.68235,     0.68235,     0.68235,     0.68235,     0.68235,     0.68235,     0.68235,     0.68235,     0.68235,     0.68235,      0.6817,     0.67969,     0.67941,     0.67941,     0.67941,     0.67941,     0.67941,     0.67941,     0.67941,     0.67941,\n",
       "            0.67941,     0.67941,     0.67941,     0.67941,     0.67941,     0.67872,     0.67771,     0.67671,     0.67647,     0.67647,     0.67647,     0.67409,     0.67336,     0.67202,     0.67068,     0.67059,     0.67059,     0.67059,     0.67059,     0.67059,     0.67059,     0.67059,     0.67059,\n",
       "            0.67059,     0.67059,     0.67059,     0.67059,     0.67059,     0.67059,     0.67059,     0.67059,     0.67059,     0.67059,     0.67059,     0.67059,     0.67059,     0.67059,     0.67058,     0.66965,     0.66873,      0.6678,     0.66765,     0.66765,     0.66765,     0.66765,     0.66765,\n",
       "            0.66765,     0.66765,     0.66765,     0.66629,     0.66471,     0.66471,     0.66444,     0.66373,     0.66302,     0.66231,     0.66176,     0.66176,     0.66176,     0.66176,     0.66176,     0.66153,     0.66086,     0.66019,     0.65952,     0.65885,     0.65882,     0.65882,     0.65838,\n",
       "            0.65751,     0.65665,     0.65588,     0.65588,     0.65588,     0.65588,     0.65588,     0.65588,     0.65588,     0.65588,     0.65588,     0.65588,     0.65588,     0.65588,     0.65588,     0.65588,     0.65588,     0.65588,     0.65588,     0.65588,     0.65588,     0.65588,     0.65588,\n",
       "            0.65588,     0.65588,     0.65588,     0.65588,     0.65588,     0.65588,     0.65588,     0.65588,     0.65588,     0.65588,     0.65588,     0.65588,     0.65588,     0.65588,     0.65588,     0.65588,     0.65588,     0.65588,     0.64944,     0.64772,     0.64706,     0.64706,     0.64706,\n",
       "            0.64706,     0.64706,     0.64652,     0.64597,     0.64542,     0.64487,     0.64433,     0.64412,     0.64401,     0.64384,     0.64367,     0.64351,     0.64334,     0.64317,       0.643,     0.64284,     0.64267,      0.6425,     0.64234,     0.64217,       0.642,     0.64183,     0.64167,\n",
       "             0.6415,     0.64133,     0.64093,     0.63518,     0.63408,     0.63298,     0.63235,     0.63235,     0.63235,     0.62941,     0.62941,     0.62941,     0.62941,     0.62941,     0.62941,     0.62941,     0.62887,     0.62616,     0.62465,     0.62334,     0.62258,     0.62183,     0.62108,\n",
       "            0.62059,     0.62059,     0.62059,     0.62059,     0.62059,     0.62059,     0.62059,     0.61943,     0.61793,     0.61728,     0.61684,     0.61639,     0.61594,      0.6155,     0.61505,     0.61471,     0.61471,     0.61471,     0.61471,     0.61471,      0.6141,     0.61238,     0.60688,\n",
       "            0.60487,     0.60337,     0.60186,     0.60035,     0.59884,     0.59734,     0.59706,     0.59706,     0.59706,     0.59706,     0.59706,     0.59706,     0.59648,     0.59588,     0.59527,     0.59467,     0.59412,     0.59368,     0.59061,      0.5891,     0.58814,     0.58793,     0.58771,\n",
       "             0.5875,     0.58728,     0.58707,     0.58685,     0.58664,     0.58642,     0.58621,     0.58599,     0.58577,     0.58556,     0.58534,     0.58504,      0.5847,     0.58437,     0.58403,      0.5837,     0.58336,     0.58303,     0.58269,     0.58236,     0.58235,     0.58235,     0.58235,\n",
       "            0.58235,     0.58235,     0.58235,     0.58232,      0.5821,     0.58189,     0.58167,     0.58146,     0.58124,     0.58103,     0.58081,      0.5806,     0.58038,     0.58017,     0.57995,     0.57973,     0.57952,     0.57903,     0.57828,     0.57753,     0.57677,     0.57467,     0.57337,\n",
       "            0.57312,     0.57287,     0.57262,     0.57237,     0.57212,     0.57187,     0.57161,     0.57136,     0.57111,     0.57086,     0.57061,     0.57004,     0.56943,     0.56883,     0.56823,     0.56759,     0.56608,     0.56445,     0.56143,     0.55842,     0.55294,     0.55289,     0.55262,\n",
       "            0.55234,     0.55207,     0.55179,     0.55152,     0.55125,     0.55097,      0.5507,     0.55042,     0.55015,        0.55,        0.55,        0.55,        0.55,        0.55,        0.55,        0.55,        0.55,        0.55,     0.54797,     0.54496,     0.54357,     0.54282,     0.54207,\n",
       "            0.54131,     0.53824,     0.53803,     0.53779,     0.53755,     0.53731,     0.53707,     0.53683,     0.53658,     0.53634,      0.5361,     0.53586,     0.53562,     0.53538,     0.53464,     0.53364,     0.53263,     0.53018,     0.52885,      0.5281,     0.52734,     0.52659,      0.5252,\n",
       "            0.52369,     0.52263,     0.52163,     0.52062,     0.51768,     0.51698,     0.51631,     0.51564,     0.51497,     0.51459,     0.51439,      0.5142,     0.51401,     0.51381,     0.51362,     0.51342,     0.51323,     0.51303,     0.51284,     0.51264,     0.51245,     0.51226,     0.51206,\n",
       "            0.51187,     0.51176,     0.51176,     0.51018,     0.50849,     0.50789,     0.50729,     0.50668,     0.50608,     0.50159,     0.49643,     0.49341,     0.49118,     0.49118,     0.49071,     0.48921,     0.48781,      0.4866,     0.48539,      0.4846,     0.48385,      0.4831,     0.48235,\n",
       "            0.48203,     0.48171,      0.4814,     0.48108,     0.48076,     0.48044,     0.48013,     0.47981,     0.47949,     0.47716,     0.47554,     0.47433,     0.47303,     0.47152,     0.46944,     0.46716,     0.46595,     0.46475,     0.46373,     0.46273,      0.4617,      0.4602,     0.45872,\n",
       "            0.45751,      0.4563,     0.45545,     0.45478,     0.45411,     0.45344,     0.45216,        0.45,        0.45,     0.44505,     0.44327,     0.44226,     0.44126,     0.43841,     0.43776,     0.43726,     0.43676,     0.43625,     0.43575,     0.43516,     0.43365,     0.43208,     0.43007,\n",
       "             0.4291,     0.42863,     0.42817,     0.42771,     0.42724,     0.42678,      0.4258,     0.42379,     0.42222,     0.42071,     0.42039,     0.41992,     0.41946,       0.419,     0.41853,     0.41807,     0.41747,     0.41546,     0.41282,     0.41046,      0.4087,     0.40803,     0.40736,\n",
       "            0.40669,     0.40602,     0.40054,     0.39835,     0.39369,     0.39248,     0.39127,     0.39118,     0.39023,     0.38922,     0.38818,     0.38521,      0.3832,     0.38185,     0.38099,     0.38013,     0.37908,     0.37707,     0.37647,     0.37647,      0.3734,      0.3729,     0.37239,\n",
       "            0.37189,     0.37139,     0.37089,     0.37018,     0.36917,     0.36817,     0.36398,     0.36247,     0.36176,     0.36173,     0.36123,     0.36073,     0.36022,     0.35972,     0.35922,     0.35556,     0.35405,     0.35268,     0.35167,     0.35067,     0.34933,     0.34732,     0.34647,\n",
       "             0.3458,     0.34514,     0.34447,     0.34315,     0.33822,     0.33736,      0.3365,     0.33564,     0.33408,     0.33221,     0.33121,      0.3302,     0.32604,     0.32403,     0.32202,     0.32043,     0.31988,     0.31933,     0.31879,     0.31824,     0.31769,     0.31703,     0.31636,\n",
       "            0.31569,     0.31502,     0.30776,     0.30575,     0.30374,     0.30173,     0.29992,     0.29937,     0.29883,     0.29828,     0.29773,     0.29718,     0.29628,     0.29528,     0.29427,     0.29241,     0.28809,     0.28771,     0.28734,     0.28696,     0.28658,     0.28621,     0.28583,\n",
       "            0.28545,     0.28119,     0.27624,     0.27423,     0.27156,     0.26923,     0.26739,     0.26618,     0.26498,     0.26412,     0.26337,     0.26261,     0.26186,     0.26001,     0.25759,     0.25501,       0.253,     0.24805,     0.24662,     0.24576,      0.2449,     0.24106,     0.23986,\n",
       "            0.23865,     0.23451,      0.2333,     0.22898,     0.22697,     0.22421,     0.22259,     0.22139,     0.21957,     0.21692,     0.21491,     0.21393,     0.21307,     0.21221,     0.21176,     0.20558,     0.20497,     0.20437,     0.20377,     0.20316,     0.20104,     0.19215,     0.19059,\n",
       "            0.18973,     0.18887,     0.18223,     0.18177,      0.1813,     0.18084,     0.18038,     0.17991,     0.17945,     0.17891,     0.17836,     0.17781,     0.17726,     0.17671,     0.17269,     0.17118,     0.16582,     0.16416,      0.1633,     0.16244,     0.15817,     0.15564,     0.15464,\n",
       "            0.15363,       0.152,     0.14966,     0.14866,     0.14765,     0.14288,     0.13986,     0.13685,     0.13383,     0.13191,     0.13105,     0.13019,     0.12619,     0.12335,     0.12184,     0.12008,     0.11726,     0.11525,     0.11251,     0.11126,     0.11059,     0.10992,     0.10925,\n",
       "            0.10809,     0.10608,     0.10317,     0.10155,     0.10004,    0.095886,     0.09468,    0.093045,    0.088175,    0.087313,    0.086452,    0.085591,    0.084635,     0.08363,    0.082625,    0.078862,    0.078109,    0.077355,    0.076601,    0.069907,    0.067897,    0.066767,    0.065762,\n",
       "           0.064757,    0.061846,    0.059809,    0.057287,    0.055238,    0.054032,    0.052826,     0.05162,    0.050415,    0.048681,    0.045896,     0.04351,    0.042649,    0.041788,    0.040301,    0.037761,    0.036253,    0.034746,    0.033238,    0.029865,    0.028947,    0.028445,    0.027942,\n",
       "            0.02744,    0.026937,    0.026256,    0.023414,    0.022208,    0.021002,    0.016628,    0.013884,    0.012679,    0.011711,    0.011487,    0.011264,    0.011041,    0.010817,    0.010594,    0.010371,    0.010147,   0.0099241,   0.0097008,   0.0094775,   0.0092541,   0.0090308,   0.0086793,\n",
       "          0.0066694,   0.0057929,   0.0056458,   0.0054988,   0.0053517,   0.0052046,   0.0050576,   0.0049105,   0.0047634,   0.0046164,   0.0044693,   0.0043223,   0.0041752,   0.0040281,   0.0038811,    0.003734,   0.0035869,   0.0034399,   0.0032928,   0.0031458,   0.0029987,           0,           0,\n",
       "                  0,           0,           0,           0,           0,           0,           0,           0,           0,           0,           0,           0,           0,           0,           0,           0,           0,           0,           0,           0,           0,           0,           0,\n",
       "                  0,           0,           0,           0,           0,           0,           0,           0,           0,           0,           0]]), 'Confidence', 'Recall']]\n",
       "fitness: np.float64(0.47231581572517456)\n",
       "keys: ['metrics/precision(B)', 'metrics/recall(B)', 'metrics/mAP50(B)', 'metrics/mAP50-95(B)']\n",
       "maps: array([    0.44722])\n",
       "names: {0: 'Waldo'}\n",
       "plot: True\n",
       "results_dict: {'metrics/precision(B)': np.float64(0.8819918717261712), 'metrics/recall(B)': np.float64(0.6558823529411765), 'metrics/mAP50(B)': np.float64(0.6981376879219459), 'metrics/mAP50-95(B)': np.float64(0.4472244965922), 'fitness': np.float64(0.47231581572517456)}\n",
       "save_dir: WindowsPath('runs/detect/train7')\n",
       "speed: {'preprocess': 0.0988947058966219, 'inference': 2.883773235225817, 'loss': 0.00027411759433829607, 'postprocess': 1.4572849999240134}\n",
       "task: 'detect'"
      ]
     },
     "execution_count": 5,
     "metadata": {},
     "output_type": "execute_result"
    }
   ],
   "execution_count": 5
  },
  {
   "cell_type": "code",
   "execution_count": null,
   "id": "18047fc5-22b6-4603-a4f5-f48a65c7d955",
   "metadata": {},
   "outputs": [],
   "source": []
  }
 ],
 "metadata": {
  "kernelspec": {
   "display_name": "Python 3 (ipykernel)",
   "language": "python",
   "name": "python3"
  },
  "language_info": {
   "codemirror_mode": {
    "name": "ipython",
    "version": 3
   },
   "file_extension": ".py",
   "mimetype": "text/x-python",
   "name": "python",
   "nbconvert_exporter": "python",
   "pygments_lexer": "ipython3",
   "version": "3.9.21"
  }
 },
 "nbformat": 4,
 "nbformat_minor": 5
}
