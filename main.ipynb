{
 "cells": [
  {
   "cell_type": "code",
   "execution_count": 90,
   "id": "initial_id",
   "metadata": {
    "ExecuteTime": {
     "end_time": "2025-04-28T19:33:29.236744Z",
     "start_time": "2025-04-28T19:33:22.978488Z"
    }
   },
   "outputs": [],
   "source": [
    "from ultralytics import YOLO\n",
    "import scipy as scipy\n",
    "import numpy as np\n",
    "import cv2\n",
    "import random\n",
    "import math"
   ]
  },
  {
   "cell_type": "code",
   "execution_count": 91,
   "id": "65c71de8-7f74-4eea-9dee-fee89ccf75cb",
   "metadata": {},
   "outputs": [],
   "source": [
    "# Define any global variables up here\n",
    "\n",
    "numImages = 18\n",
    "\n",
    "fullImages = []\n",
    "fullImagesMasks = []\n",
    "zoomedWaldo = []\n",
    "zoomedWaldoMasks = []\n",
    "\n",
    "transformedImages = []\n",
    "transformedImagesMasks = []\n",
    "transformedZoomed = []\n",
    "transformedZoomedMasks = []"
   ]
  },
  {
   "cell_type": "code",
   "execution_count": 92,
   "id": "f6806592-aec6-4946-8f91-37770d152fab",
   "metadata": {},
   "outputs": [],
   "source": [
    "# Helper functions\n",
    "\n",
    "def convertToArray(path):\n",
    "    imageArray = cv2.imread(path)\n",
    "    return imageArray\n",
    "\n",
    "def rotate_image(image, angle):\n",
    "    height, width = image.shape[:2]\n",
    "    center = (width / 2, height / 2)\n",
    "\n",
    "    rotationMatrix = cv2.getRotationMatrix2D(center, angle, 1)\n",
    "\n",
    "    radians = math.radians(angle)\n",
    "    sin = math.sin(radians)\n",
    "    cos = math.cos(radians)\n",
    "    boundingWidth = int((height * abs(sin)) + (width * abs(cos)))\n",
    "    boudningHeight = int((height * abs(cos)) + (width * abs(sin)))\n",
    "\n",
    "    rotationMatrix[0, 2] += ((boundingWidth / 2) - center[0])\n",
    "    rotationMatrix[1, 2] += ((boudningHeight / 2) - center[1])\n",
    "\n",
    "    rotatedImage = cv2.warpAffine(image, rotationMatrix, (boundingWidth, boudningHeight), flags=cv2.INTER_LINEAR)\n",
    "    return rotatedImage\n",
    "\n",
    "def manipulateImages(imageArray, maskArray):\n",
    "    # Uncomment these if you want to see the orignal image\n",
    "    # cv2.imshow(\"Image\", imageArray)\n",
    "    # cv2.waitKey(0)\n",
    "    \n",
    "    flip = random.randint(-1,1)\n",
    "    angle = random.randint(1, 359)\n",
    "    scaleFactor = random.uniform(0.3, 0.9)\n",
    "    \n",
    "    flippedImage = cv2.flip(imageArray, flip)\n",
    "    flippedMask = cv2.flip(maskArray, flip)\n",
    "\n",
    "    rotatedImage = rotate_image(flippedImage, angle)\n",
    "    rotatedMask = rotate_image(flippedMask, angle)\n",
    "\n",
    "    scaledImage = cv2.resize(rotatedImage, (0,0), fx=scaleFactor, fy=scaleFactor)\n",
    "    scaledMask = cv2.resize(rotatedMask, (0,0), fx=scaleFactor, fy=scaleFactor)\n",
    "\n",
    "    # Uncomment these if you want to see the modified image\n",
    "    # cv2.imshow(\"Image\", scaledImage)\n",
    "    # cv2.waitKey(0) \n",
    "\n",
    "    return scaledImage, scaledMask\n",
    "    "
   ]
  },
  {
   "cell_type": "code",
   "execution_count": 93,
   "id": "8ea94da9-cf14-4848-9a07-3acb02f4e7e7",
   "metadata": {},
   "outputs": [],
   "source": [
    "for i in range(numImages):\n",
    "    fullImages.append(convertToArray(f\"./original_images/full_images/{i}.jpg\"))\n",
    "    fullImagesMasks.append(convertToArray(f\"./original_images/full_images_masks/{i}.jpg\"))\n",
    "    zoomedWaldo.append(convertToArray(f\"./original_images/zoomed_waldo/{i}.jpg\"))\n",
    "    zoomedWaldoMasks.append(convertToArray(f\"./original_images/zoomed_waldo_mask/{i}.jpg\"))\n",
    "\n",
    "for i in range(len(fullImages)):\n",
    "    image, mask = manipulateImages(fullImages[i], fullImagesMasks[i])\n",
    "    transformedImages.append(image)\n",
    "    transformedImagesMasks.append(mask)\n",
    "\n",
    "for i in range(len(zoomedWaldo)):\n",
    "    image, mask = manipulateImages(zoomedWaldo[i], zoomedWaldoMasks[i])\n",
    "    transformedZoomed.append(image)\n",
    "    transformedZoomedMasks.append(mask)"
   ]
  },
  {
   "cell_type": "code",
   "execution_count": 94,
   "id": "4973cdce0f9c7169",
   "metadata": {
    "ExecuteTime": {
     "end_time": "2025-04-28T19:33:41.593457Z",
     "start_time": "2025-04-28T19:33:36.680098Z"
    }
   },
   "outputs": [
    {
     "name": "stdout",
     "output_type": "stream",
     "text": [
      "YOLOv6x summary: 225 layers, 173,061,616 parameters, 173,061,600 gradients, 611.4 GFLOPs\n"
     ]
    },
    {
     "data": {
      "text/plain": [
       "(225, 173061616, 173061600, 611.3602048)"
      ]
     },
     "execution_count": 94,
     "metadata": {},
     "output_type": "execute_result"
    }
   ],
   "source": [
    "# there are 5 total ranging from nano to XL (XL is yolov6x.yaml)\n",
    "model = YOLO('yolov6x.yaml')\n",
    "\n",
    "model.info()"
   ]
  },
  {
   "cell_type": "code",
   "execution_count": null,
   "id": "18047fc5-22b6-4603-a4f5-f48a65c7d955",
   "metadata": {},
   "outputs": [],
   "source": []
  }
 ],
 "metadata": {
  "kernelspec": {
   "display_name": "Python 3 (ipykernel)",
   "language": "python",
   "name": "python3"
  },
  "language_info": {
   "codemirror_mode": {
    "name": "ipython",
    "version": 3
   },
   "file_extension": ".py",
   "mimetype": "text/x-python",
   "name": "python",
   "nbconvert_exporter": "python",
   "pygments_lexer": "ipython3",
   "version": "3.9.21"
  }
 },
 "nbformat": 4,
 "nbformat_minor": 5
}
