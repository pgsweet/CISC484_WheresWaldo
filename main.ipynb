{
 "cells": [
  {
   "cell_type": "code",
   "id": "initial_id",
   "metadata": {
    "ExecuteTime": {
     "end_time": "2025-05-12T14:27:09.691969Z",
     "start_time": "2025-05-12T14:27:07.388376Z"
    }
   },
   "source": "from ultralytics import YOLO",
   "outputs": [],
   "execution_count": 2
  },
  {
   "cell_type": "code",
   "id": "4973cdce0f9c7169",
   "metadata": {
    "ExecuteTime": {
     "end_time": "2025-05-12T14:52:50.780093Z",
     "start_time": "2025-05-12T14:27:10.413645Z"
    }
   },
   "source": [
    "# there are 5 total ranging from nano to XL (XL is yolov6x.yaml)\n",
    "model = YOLO('yolov6x.yaml')\n",
    "\n",
    "model.info()\n",
    "model.train(data='waldo.yaml', epochs=50, imgsz=192)"
   ],
   "outputs": [
    {
     "name": "stdout",
     "output_type": "stream",
     "text": [
      "YOLOv6x summary: 225 layers, 173,061,616 parameters, 173,061,600 gradients, 611.4 GFLOPs\n",
      "New https://pypi.org/project/ultralytics/8.3.132 available  Update with 'pip install -U ultralytics'\n",
      "Ultralytics 8.3.131  Python-3.12.6 torch-2.7.0+cu128 CUDA:0 (NVIDIA GeForce RTX 3070 Ti, 8192MiB)\n",
      "\u001B[34m\u001B[1mengine\\trainer: \u001B[0magnostic_nms=False, amp=True, augment=False, auto_augment=randaugment, batch=16, bgr=0.0, box=7.5, cache=False, cfg=None, classes=None, close_mosaic=10, cls=0.5, conf=None, copy_paste=0.0, copy_paste_mode=flip, cos_lr=False, cutmix=0.0, data=waldo.yaml, degrees=0.0, deterministic=True, device=None, dfl=1.5, dnn=False, dropout=0.0, dynamic=False, embed=None, epochs=50, erasing=0.4, exist_ok=False, fliplr=0.5, flipud=0.0, format=torchscript, fraction=1.0, freeze=None, half=False, hsv_h=0.015, hsv_s=0.7, hsv_v=0.4, imgsz=192, int8=False, iou=0.7, keras=False, kobj=1.0, line_width=None, lr0=0.01, lrf=0.01, mask_ratio=4, max_det=300, mixup=0.0, mode=train, model=yolov6x.yaml, momentum=0.937, mosaic=1.0, multi_scale=False, name=train8, nbs=64, nms=False, opset=None, optimize=False, optimizer=auto, overlap_mask=True, patience=100, perspective=0.0, plots=True, pose=12.0, pretrained=True, profile=False, project=None, rect=False, resume=False, retina_masks=False, save=True, save_conf=False, save_crop=False, save_dir=runs\\detect\\train8, save_frames=False, save_json=False, save_period=-1, save_txt=False, scale=0.5, seed=0, shear=0.0, show=False, show_boxes=True, show_conf=True, show_labels=True, simplify=True, single_cls=False, source=None, split=val, stream_buffer=False, task=detect, time=None, tracker=botsort.yaml, translate=0.1, val=True, verbose=True, vid_stride=1, visualize=False, warmup_bias_lr=0.1, warmup_epochs=3.0, warmup_momentum=0.8, weight_decay=0.0005, workers=8, workspace=None\n",
      "Overriding model.yaml nc=80 with nc=1\n",
      "\u001B[34m\u001B[1mactivation:\u001B[0m torch.nn.ReLU()\n",
      "\n",
      "                   from  n    params  module                                       arguments                     \n",
      "  0                  -1  1      2320  ultralytics.nn.modules.conv.Conv             [3, 80, 3, 2]                 \n",
      "  1                  -1  1    115520  ultralytics.nn.modules.conv.Conv             [80, 160, 3, 2]               \n",
      "  2                  -1  6   1384320  ultralytics.nn.modules.conv.Conv             [160, 160, 3, 1]              \n",
      "  3                  -1  1    461440  ultralytics.nn.modules.conv.Conv             [160, 320, 3, 2]              \n",
      "  4                  -1 12  11066880  ultralytics.nn.modules.conv.Conv             [320, 320, 3, 1]              \n",
      "  5                  -1  1   1844480  ultralytics.nn.modules.conv.Conv             [320, 640, 3, 2]              \n",
      "  6                  -1 18  66378240  ultralytics.nn.modules.conv.Conv             [640, 640, 3, 1]              \n",
      "  7                  -1  1   3687680  ultralytics.nn.modules.conv.Conv             [640, 640, 3, 2]              \n",
      "  8                  -1  6  22126080  ultralytics.nn.modules.conv.Conv             [640, 640, 3, 1]              \n",
      "  9                  -1  1   1025920  ultralytics.nn.modules.block.SPPF            [640, 640, 5]                 \n",
      " 10                  -1  1    205440  ultralytics.nn.modules.conv.Conv             [640, 320, 1, 1]              \n",
      " 11                  -1  1    409920  torch.nn.modules.conv.ConvTranspose2d        [320, 320, 2, 2, 0]           \n",
      " 12             [-1, 6]  1         0  ultralytics.nn.modules.conv.Concat           [1]                           \n",
      " 13                  -1  1   2765440  ultralytics.nn.modules.conv.Conv             [960, 320, 3, 1]              \n",
      " 14                  -1  9   8300160  ultralytics.nn.modules.conv.Conv             [320, 320, 3, 1]              \n",
      " 15                  -1  1     51520  ultralytics.nn.modules.conv.Conv             [320, 160, 1, 1]              \n",
      " 16                  -1  1    102560  torch.nn.modules.conv.ConvTranspose2d        [160, 160, 2, 2, 0]           \n",
      " 17             [-1, 4]  1         0  ultralytics.nn.modules.conv.Concat           [1]                           \n",
      " 18                  -1  1    691520  ultralytics.nn.modules.conv.Conv             [480, 160, 3, 1]              \n",
      " 19                  -1  9   2076480  ultralytics.nn.modules.conv.Conv             [160, 160, 3, 1]              \n",
      " 20                  -1  1    230720  ultralytics.nn.modules.conv.Conv             [160, 160, 3, 2]              \n",
      " 21            [-1, 15]  1         0  ultralytics.nn.modules.conv.Concat           [1]                           \n",
      " 22                  -1  1    922240  ultralytics.nn.modules.conv.Conv             [320, 320, 3, 1]              \n",
      " 23                  -1  9   8300160  ultralytics.nn.modules.conv.Conv             [320, 320, 3, 1]              \n",
      " 24                  -1  1    922240  ultralytics.nn.modules.conv.Conv             [320, 320, 3, 2]              \n",
      " 25            [-1, 10]  1         0  ultralytics.nn.modules.conv.Concat           [1]                           \n",
      " 26                  -1  1   3687680  ultralytics.nn.modules.conv.Conv             [640, 640, 3, 1]              \n",
      " 27                  -1  9  33189120  ultralytics.nn.modules.conv.Conv             [640, 640, 3, 1]              \n",
      " 28        [19, 23, 27]  1   3075379  ultralytics.nn.modules.head.Detect           [1, [160, 320, 640]]          \n",
      "YOLOv6x summary: 225 layers, 173,023,459 parameters, 173,023,443 gradients, 611.1 GFLOPs\n",
      "\n",
      "Freezing layer 'model.28.dfl.conv.weight'\n",
      "\u001B[34m\u001B[1mAMP: \u001B[0mrunning Automatic Mixed Precision (AMP) checks...\n",
      "\u001B[34m\u001B[1mAMP: \u001B[0mchecks passed \n",
      "\u001B[34m\u001B[1mtrain: \u001B[0mFast image access  (ping: 0.10.0 ms, read: 100.725.0 MB/s, size: 27.0 KB)\n"
     ]
    },
    {
     "name": "stderr",
     "output_type": "stream",
     "text": [
      "\u001B[34m\u001B[1mtrain: \u001B[0mScanning C:\\Users\\patri\\Github\\CISC484_WheresWaldo\\datasets\\waldo\\labels\\train_4... 1700 images, 321 backgrounds, 0 corrupt: 100%|██████████| 1700/1700 [00:00<00:00, 2372.79it/s]\n"
     ]
    },
    {
     "name": "stdout",
     "output_type": "stream",
     "text": [
      "\u001B[34m\u001B[1mtrain: \u001B[0mNew cache created: C:\\Users\\patri\\Github\\CISC484_WheresWaldo\\datasets\\waldo\\labels\\train_4.cache\n",
      "\u001B[34m\u001B[1mval: \u001B[0mFast image access  (ping: 0.10.0 ms, read: 215.440.5 MB/s, size: 33.0 KB)\n"
     ]
    },
    {
     "name": "stderr",
     "output_type": "stream",
     "text": [
      "\u001B[34m\u001B[1mval: \u001B[0mScanning C:\\Users\\patri\\Github\\CISC484_WheresWaldo\\datasets\\waldo\\labels\\val_3... 680 images, 147 backgrounds, 0 corrupt: 100%|██████████| 680/680 [00:00<00:00, 1858.77it/s]\n"
     ]
    },
    {
     "name": "stdout",
     "output_type": "stream",
     "text": [
      "\u001B[34m\u001B[1mval: \u001B[0mNew cache created: C:\\Users\\patri\\Github\\CISC484_WheresWaldo\\datasets\\waldo\\labels\\val_3.cache\n",
      "Plotting labels to runs\\detect\\train8\\labels.jpg... \n",
      "\u001B[34m\u001B[1moptimizer:\u001B[0m 'optimizer=auto' found, ignoring 'lr0=0.01' and 'momentum=0.937' and determining best 'optimizer', 'lr0' and 'momentum' automatically... \n",
      "\u001B[34m\u001B[1moptimizer:\u001B[0m AdamW(lr=0.002, momentum=0.9) with parameter groups 105 weight(decay=0.0), 114 weight(decay=0.0005), 113 bias(decay=0.0)\n",
      "Image sizes 192 train, 192 val\n",
      "Using 8 dataloader workers\n",
      "Logging results to \u001B[1mruns\\detect\\train8\u001B[0m\n",
      "Starting training for 50 epochs...\n",
      "\n",
      "      Epoch    GPU_mem   box_loss   cls_loss   dfl_loss  Instances       Size\n"
     ]
    },
    {
     "name": "stderr",
     "output_type": "stream",
     "text": [
      "       1/50      4.67G      5.601      4.691      3.816          4        192: 100%|██████████| 107/107 [00:26<00:00,  4.11it/s]\n",
      "                 Class     Images  Instances      Box(P          R      mAP50  mAP50-95): 100%|██████████| 22/22 [00:03<00:00,  5.73it/s]"
     ]
    },
    {
     "name": "stdout",
     "output_type": "stream",
     "text": [
      "                   all        680        533          0          0          0          0\n"
     ]
    },
    {
     "name": "stderr",
     "output_type": "stream",
     "text": [
      "\n"
     ]
    },
    {
     "name": "stdout",
     "output_type": "stream",
     "text": [
      "\n",
      "      Epoch    GPU_mem   box_loss   cls_loss   dfl_loss  Instances       Size\n"
     ]
    },
    {
     "name": "stderr",
     "output_type": "stream",
     "text": [
      "       2/50      4.94G      4.293      3.736       2.84          8        192: 100%|██████████| 107/107 [00:22<00:00,  4.83it/s]\n",
      "                 Class     Images  Instances      Box(P          R      mAP50  mAP50-95): 100%|██████████| 22/22 [00:03<00:00,  6.41it/s]"
     ]
    },
    {
     "name": "stdout",
     "output_type": "stream",
     "text": [
      "                   all        680        533   0.000545    0.00563   0.000236   3.14e-05\n"
     ]
    },
    {
     "name": "stderr",
     "output_type": "stream",
     "text": [
      "\n"
     ]
    },
    {
     "name": "stdout",
     "output_type": "stream",
     "text": [
      "\n",
      "      Epoch    GPU_mem   box_loss   cls_loss   dfl_loss  Instances       Size\n"
     ]
    },
    {
     "name": "stderr",
     "output_type": "stream",
     "text": [
      "       3/50      4.91G      4.005      3.596      2.491          5        192: 100%|██████████| 107/107 [00:20<00:00,  5.18it/s]\n",
      "                 Class     Images  Instances      Box(P          R      mAP50  mAP50-95): 100%|██████████| 22/22 [00:04<00:00,  4.76it/s]"
     ]
    },
    {
     "name": "stdout",
     "output_type": "stream",
     "text": [
      "                   all        680        533   0.000931      0.225   0.000602   0.000208\n"
     ]
    },
    {
     "name": "stderr",
     "output_type": "stream",
     "text": [
      "\n"
     ]
    },
    {
     "name": "stdout",
     "output_type": "stream",
     "text": [
      "\n",
      "      Epoch    GPU_mem   box_loss   cls_loss   dfl_loss  Instances       Size\n"
     ]
    },
    {
     "name": "stderr",
     "output_type": "stream",
     "text": [
      "       4/50      4.98G        3.9      3.582      2.396          4        192: 100%|██████████| 107/107 [00:20<00:00,  5.17it/s]\n",
      "                 Class     Images  Instances      Box(P          R      mAP50  mAP50-95): 100%|██████████| 22/22 [00:04<00:00,  4.55it/s]"
     ]
    },
    {
     "name": "stdout",
     "output_type": "stream",
     "text": [
      "                   all        680        533    0.00116      0.443     0.0012   0.000341\n"
     ]
    },
    {
     "name": "stderr",
     "output_type": "stream",
     "text": [
      "\n"
     ]
    },
    {
     "name": "stdout",
     "output_type": "stream",
     "text": [
      "\n",
      "      Epoch    GPU_mem   box_loss   cls_loss   dfl_loss  Instances       Size\n"
     ]
    },
    {
     "name": "stderr",
     "output_type": "stream",
     "text": [
      "       5/50      4.96G      3.907      3.569       2.42          5        192: 100%|██████████| 107/107 [00:19<00:00,  5.40it/s]\n",
      "                 Class     Images  Instances      Box(P          R      mAP50  mAP50-95): 100%|██████████| 22/22 [00:04<00:00,  4.57it/s]"
     ]
    },
    {
     "name": "stdout",
     "output_type": "stream",
     "text": [
      "                   all        680        533   0.000946      0.362     0.0008   0.000266\n"
     ]
    },
    {
     "name": "stderr",
     "output_type": "stream",
     "text": [
      "\n"
     ]
    },
    {
     "name": "stdout",
     "output_type": "stream",
     "text": [
      "\n",
      "      Epoch    GPU_mem   box_loss   cls_loss   dfl_loss  Instances       Size\n"
     ]
    },
    {
     "name": "stderr",
     "output_type": "stream",
     "text": [
      "       6/50      4.95G      3.925      3.596       2.35          5        192: 100%|██████████| 107/107 [00:20<00:00,  5.24it/s]\n",
      "                 Class     Images  Instances      Box(P          R      mAP50  mAP50-95): 100%|██████████| 22/22 [00:04<00:00,  4.44it/s]"
     ]
    },
    {
     "name": "stdout",
     "output_type": "stream",
     "text": [
      "                   all        680        533    0.00106      0.407   0.000904   0.000283\n"
     ]
    },
    {
     "name": "stderr",
     "output_type": "stream",
     "text": [
      "\n"
     ]
    },
    {
     "name": "stdout",
     "output_type": "stream",
     "text": [
      "\n",
      "      Epoch    GPU_mem   box_loss   cls_loss   dfl_loss  Instances       Size\n"
     ]
    },
    {
     "name": "stderr",
     "output_type": "stream",
     "text": [
      "       7/50      4.91G      3.893      3.547      2.379          6        192: 100%|██████████| 107/107 [00:19<00:00,  5.37it/s]\n",
      "                 Class     Images  Instances      Box(P          R      mAP50  mAP50-95): 100%|██████████| 22/22 [00:04<00:00,  4.67it/s]"
     ]
    },
    {
     "name": "stdout",
     "output_type": "stream",
     "text": [
      "                   all        680        533    0.00121    0.00563   0.000691   0.000231\n"
     ]
    },
    {
     "name": "stderr",
     "output_type": "stream",
     "text": [
      "\n"
     ]
    },
    {
     "name": "stdout",
     "output_type": "stream",
     "text": [
      "\n",
      "      Epoch    GPU_mem   box_loss   cls_loss   dfl_loss  Instances       Size\n"
     ]
    },
    {
     "name": "stderr",
     "output_type": "stream",
     "text": [
      "       8/50      4.98G      3.971      3.567      2.404          5        192: 100%|██████████| 107/107 [00:20<00:00,  5.23it/s]\n",
      "                 Class     Images  Instances      Box(P          R      mAP50  mAP50-95): 100%|██████████| 22/22 [00:04<00:00,  4.49it/s]"
     ]
    },
    {
     "name": "stdout",
     "output_type": "stream",
     "text": [
      "                   all        680        533      0.001      0.383    0.00075   0.000233\n"
     ]
    },
    {
     "name": "stderr",
     "output_type": "stream",
     "text": [
      "\n"
     ]
    },
    {
     "name": "stdout",
     "output_type": "stream",
     "text": [
      "\n",
      "      Epoch    GPU_mem   box_loss   cls_loss   dfl_loss  Instances       Size\n"
     ]
    },
    {
     "name": "stderr",
     "output_type": "stream",
     "text": [
      "       9/50      4.95G       3.88      3.566      2.325          4        192: 100%|██████████| 107/107 [00:19<00:00,  5.38it/s]\n",
      "                 Class     Images  Instances      Box(P          R      mAP50  mAP50-95): 100%|██████████| 22/22 [00:04<00:00,  4.67it/s]\n"
     ]
    },
    {
     "name": "stdout",
     "output_type": "stream",
     "text": [
      "                   all        680        533   0.000892      0.341    0.00064   0.000193\n",
      "\n",
      "      Epoch    GPU_mem   box_loss   cls_loss   dfl_loss  Instances       Size\n"
     ]
    },
    {
     "name": "stderr",
     "output_type": "stream",
     "text": [
      "      10/50       4.9G      3.819      3.562      2.314          4        192: 100%|██████████| 107/107 [00:20<00:00,  5.28it/s]\n",
      "                 Class     Images  Instances      Box(P          R      mAP50  mAP50-95): 100%|██████████| 22/22 [00:05<00:00,  4.29it/s]"
     ]
    },
    {
     "name": "stdout",
     "output_type": "stream",
     "text": [
      "                   all        680        533   0.000843      0.323   0.000752   0.000191\n"
     ]
    },
    {
     "name": "stderr",
     "output_type": "stream",
     "text": [
      "\n"
     ]
    },
    {
     "name": "stdout",
     "output_type": "stream",
     "text": [
      "\n",
      "      Epoch    GPU_mem   box_loss   cls_loss   dfl_loss  Instances       Size\n"
     ]
    },
    {
     "name": "stderr",
     "output_type": "stream",
     "text": [
      "      11/50      4.89G      3.815      3.552      2.297          4        192: 100%|██████████| 107/107 [00:20<00:00,  5.29it/s]\n",
      "                 Class     Images  Instances      Box(P          R      mAP50  mAP50-95): 100%|██████████| 22/22 [00:04<00:00,  4.54it/s]"
     ]
    },
    {
     "name": "stdout",
     "output_type": "stream",
     "text": [
      "                   all        680        533    0.00113      0.433    0.00155   0.000434\n"
     ]
    },
    {
     "name": "stderr",
     "output_type": "stream",
     "text": [
      "\n"
     ]
    },
    {
     "name": "stdout",
     "output_type": "stream",
     "text": [
      "\n",
      "      Epoch    GPU_mem   box_loss   cls_loss   dfl_loss  Instances       Size\n"
     ]
    },
    {
     "name": "stderr",
     "output_type": "stream",
     "text": [
      "      12/50      5.01G      3.751      3.575      2.282          7        192: 100%|██████████| 107/107 [00:20<00:00,  5.17it/s]\n",
      "                 Class     Images  Instances      Box(P          R      mAP50  mAP50-95): 100%|██████████| 22/22 [00:05<00:00,  4.24it/s]"
     ]
    },
    {
     "name": "stdout",
     "output_type": "stream",
     "text": [
      "                   all        680        533    0.00113      0.432    0.00188   0.000609\n"
     ]
    },
    {
     "name": "stderr",
     "output_type": "stream",
     "text": [
      "\n"
     ]
    },
    {
     "name": "stdout",
     "output_type": "stream",
     "text": [
      "\n",
      "      Epoch    GPU_mem   box_loss   cls_loss   dfl_loss  Instances       Size\n"
     ]
    },
    {
     "name": "stderr",
     "output_type": "stream",
     "text": [
      "      13/50      4.93G       3.79      3.564      2.288          2        192: 100%|██████████| 107/107 [00:20<00:00,  5.32it/s]\n",
      "                 Class     Images  Instances      Box(P          R      mAP50  mAP50-95): 100%|██████████| 22/22 [00:05<00:00,  4.39it/s]"
     ]
    },
    {
     "name": "stdout",
     "output_type": "stream",
     "text": [
      "                   all        680        533   0.000975      0.373    0.00129   0.000498\n"
     ]
    },
    {
     "name": "stderr",
     "output_type": "stream",
     "text": [
      "\n"
     ]
    },
    {
     "name": "stdout",
     "output_type": "stream",
     "text": [
      "\n",
      "      Epoch    GPU_mem   box_loss   cls_loss   dfl_loss  Instances       Size\n"
     ]
    },
    {
     "name": "stderr",
     "output_type": "stream",
     "text": [
      "      14/50      4.93G      3.755      3.585       2.28          1        192: 100%|██████████| 107/107 [00:19<00:00,  5.43it/s]\n",
      "                 Class     Images  Instances      Box(P          R      mAP50  mAP50-95): 100%|██████████| 22/22 [00:04<00:00,  4.56it/s]"
     ]
    },
    {
     "name": "stdout",
     "output_type": "stream",
     "text": [
      "                   all        680        533    0.00127      0.488    0.00107   0.000336\n"
     ]
    },
    {
     "name": "stderr",
     "output_type": "stream",
     "text": [
      "\n"
     ]
    },
    {
     "name": "stdout",
     "output_type": "stream",
     "text": [
      "\n",
      "      Epoch    GPU_mem   box_loss   cls_loss   dfl_loss  Instances       Size\n"
     ]
    },
    {
     "name": "stderr",
     "output_type": "stream",
     "text": [
      "      15/50      4.91G      3.748      3.576      2.228          6        192: 100%|██████████| 107/107 [00:19<00:00,  5.54it/s]\n",
      "                 Class     Images  Instances      Box(P          R      mAP50  mAP50-95): 100%|██████████| 22/22 [00:04<00:00,  4.78it/s]"
     ]
    },
    {
     "name": "stdout",
     "output_type": "stream",
     "text": [
      "                   all        680        533    0.00137      0.523    0.00213   0.000563\n"
     ]
    },
    {
     "name": "stderr",
     "output_type": "stream",
     "text": [
      "\n"
     ]
    },
    {
     "name": "stdout",
     "output_type": "stream",
     "text": [
      "\n",
      "      Epoch    GPU_mem   box_loss   cls_loss   dfl_loss  Instances       Size\n"
     ]
    },
    {
     "name": "stderr",
     "output_type": "stream",
     "text": [
      "      16/50      4.98G      3.717       3.58       2.24          5        192: 100%|██████████| 107/107 [00:19<00:00,  5.57it/s]\n",
      "                 Class     Images  Instances      Box(P          R      mAP50  mAP50-95): 100%|██████████| 22/22 [00:04<00:00,  4.81it/s]"
     ]
    },
    {
     "name": "stdout",
     "output_type": "stream",
     "text": [
      "                   all        680        533    0.00127      0.488    0.00225   0.000676\n"
     ]
    },
    {
     "name": "stderr",
     "output_type": "stream",
     "text": [
      "\n"
     ]
    },
    {
     "name": "stdout",
     "output_type": "stream",
     "text": [
      "\n",
      "      Epoch    GPU_mem   box_loss   cls_loss   dfl_loss  Instances       Size\n"
     ]
    },
    {
     "name": "stderr",
     "output_type": "stream",
     "text": [
      "      17/50      4.95G      3.771      3.559      2.267          7        192: 100%|██████████| 107/107 [00:19<00:00,  5.48it/s]\n",
      "                 Class     Images  Instances      Box(P          R      mAP50  mAP50-95): 100%|██████████| 22/22 [00:04<00:00,  4.65it/s]\n"
     ]
    },
    {
     "name": "stdout",
     "output_type": "stream",
     "text": [
      "                   all        680        533    0.00156      0.598    0.00366    0.00121\n",
      "\n",
      "      Epoch    GPU_mem   box_loss   cls_loss   dfl_loss  Instances       Size\n"
     ]
    },
    {
     "name": "stderr",
     "output_type": "stream",
     "text": [
      "      18/50      4.92G      3.704      3.577      2.194          6        192: 100%|██████████| 107/107 [00:19<00:00,  5.50it/s]\n",
      "                 Class     Images  Instances      Box(P          R      mAP50  mAP50-95): 100%|██████████| 22/22 [00:04<00:00,  4.83it/s]"
     ]
    },
    {
     "name": "stdout",
     "output_type": "stream",
     "text": [
      "                   all        680        533    0.00146      0.559    0.00325    0.00118\n"
     ]
    },
    {
     "name": "stderr",
     "output_type": "stream",
     "text": [
      "\n"
     ]
    },
    {
     "name": "stdout",
     "output_type": "stream",
     "text": [
      "\n",
      "      Epoch    GPU_mem   box_loss   cls_loss   dfl_loss  Instances       Size\n"
     ]
    },
    {
     "name": "stderr",
     "output_type": "stream",
     "text": [
      "      19/50      4.88G      3.675      3.551      2.214          3        192: 100%|██████████| 107/107 [00:19<00:00,  5.46it/s]\n",
      "                 Class     Images  Instances      Box(P          R      mAP50  mAP50-95): 100%|██████████| 22/22 [00:04<00:00,  4.80it/s]"
     ]
    },
    {
     "name": "stdout",
     "output_type": "stream",
     "text": [
      "                   all        680        533    0.00137      0.525    0.00311   0.000885\n"
     ]
    },
    {
     "name": "stderr",
     "output_type": "stream",
     "text": [
      "\n"
     ]
    },
    {
     "name": "stdout",
     "output_type": "stream",
     "text": [
      "\n",
      "      Epoch    GPU_mem   box_loss   cls_loss   dfl_loss  Instances       Size\n"
     ]
    },
    {
     "name": "stderr",
     "output_type": "stream",
     "text": [
      "      20/50      4.99G      3.661      3.503      2.219          7        192: 100%|██████████| 107/107 [00:19<00:00,  5.52it/s]\n",
      "                 Class     Images  Instances      Box(P          R      mAP50  mAP50-95): 100%|██████████| 22/22 [00:04<00:00,  4.84it/s]"
     ]
    },
    {
     "name": "stdout",
     "output_type": "stream",
     "text": [
      "                   all        680        533    0.00148      0.565    0.00384    0.00132\n"
     ]
    },
    {
     "name": "stderr",
     "output_type": "stream",
     "text": [
      "\n"
     ]
    },
    {
     "name": "stdout",
     "output_type": "stream",
     "text": [
      "\n",
      "      Epoch    GPU_mem   box_loss   cls_loss   dfl_loss  Instances       Size\n"
     ]
    },
    {
     "name": "stderr",
     "output_type": "stream",
     "text": [
      "      21/50      4.93G      3.588      3.514      2.172          5        192: 100%|██████████| 107/107 [00:19<00:00,  5.52it/s]\n",
      "                 Class     Images  Instances      Box(P          R      mAP50  mAP50-95): 100%|██████████| 22/22 [00:04<00:00,  4.75it/s]\n"
     ]
    },
    {
     "name": "stdout",
     "output_type": "stream",
     "text": [
      "                   all        680        533    0.00108      0.415     0.0019   0.000422\n",
      "\n",
      "      Epoch    GPU_mem   box_loss   cls_loss   dfl_loss  Instances       Size\n"
     ]
    },
    {
     "name": "stderr",
     "output_type": "stream",
     "text": [
      "      22/50      4.91G      3.541       3.46      2.162          2        192: 100%|██████████| 107/107 [00:19<00:00,  5.55it/s]\n",
      "                 Class     Images  Instances      Box(P          R      mAP50  mAP50-95): 100%|██████████| 22/22 [00:04<00:00,  4.77it/s]"
     ]
    },
    {
     "name": "stdout",
     "output_type": "stream",
     "text": [
      "                   all        680        533    0.00135      0.516    0.00436    0.00142\n"
     ]
    },
    {
     "name": "stderr",
     "output_type": "stream",
     "text": [
      "\n"
     ]
    },
    {
     "name": "stdout",
     "output_type": "stream",
     "text": [
      "\n",
      "      Epoch    GPU_mem   box_loss   cls_loss   dfl_loss  Instances       Size\n"
     ]
    },
    {
     "name": "stderr",
     "output_type": "stream",
     "text": [
      "      23/50      4.88G      3.595      3.524      2.168          7        192: 100%|██████████| 107/107 [00:19<00:00,  5.50it/s]\n",
      "                 Class     Images  Instances      Box(P          R      mAP50  mAP50-95): 100%|██████████| 22/22 [00:04<00:00,  4.80it/s]"
     ]
    },
    {
     "name": "stdout",
     "output_type": "stream",
     "text": [
      "                   all        680        533    0.00125      0.477     0.0049    0.00153\n"
     ]
    },
    {
     "name": "stderr",
     "output_type": "stream",
     "text": [
      "\n"
     ]
    },
    {
     "name": "stdout",
     "output_type": "stream",
     "text": [
      "\n",
      "      Epoch    GPU_mem   box_loss   cls_loss   dfl_loss  Instances       Size\n"
     ]
    },
    {
     "name": "stderr",
     "output_type": "stream",
     "text": [
      "      24/50      4.99G      3.476      3.444      2.122          3        192: 100%|██████████| 107/107 [00:19<00:00,  5.38it/s]\n",
      "                 Class     Images  Instances      Box(P          R      mAP50  mAP50-95): 100%|██████████| 22/22 [00:04<00:00,  4.47it/s]"
     ]
    },
    {
     "name": "stdout",
     "output_type": "stream",
     "text": [
      "                   all        680        533    0.00144       0.55    0.00342    0.00129\n"
     ]
    },
    {
     "name": "stderr",
     "output_type": "stream",
     "text": [
      "\n"
     ]
    },
    {
     "name": "stdout",
     "output_type": "stream",
     "text": [
      "\n",
      "      Epoch    GPU_mem   box_loss   cls_loss   dfl_loss  Instances       Size\n"
     ]
    },
    {
     "name": "stderr",
     "output_type": "stream",
     "text": [
      "      25/50      4.94G      3.484      3.468      2.146          6        192: 100%|██████████| 107/107 [00:20<00:00,  5.25it/s]\n",
      "                 Class     Images  Instances      Box(P          R      mAP50  mAP50-95): 100%|██████████| 22/22 [00:04<00:00,  4.73it/s]"
     ]
    },
    {
     "name": "stdout",
     "output_type": "stream",
     "text": [
      "                   all        680        533    0.00128       0.49    0.00842    0.00232\n"
     ]
    },
    {
     "name": "stderr",
     "output_type": "stream",
     "text": [
      "\n"
     ]
    },
    {
     "name": "stdout",
     "output_type": "stream",
     "text": [
      "\n",
      "      Epoch    GPU_mem   box_loss   cls_loss   dfl_loss  Instances       Size\n"
     ]
    },
    {
     "name": "stderr",
     "output_type": "stream",
     "text": [
      "      26/50       4.9G      3.416      3.374      2.096          4        192: 100%|██████████| 107/107 [00:20<00:00,  5.20it/s]\n",
      "                 Class     Images  Instances      Box(P          R      mAP50  mAP50-95): 100%|██████████| 22/22 [00:05<00:00,  4.09it/s]\n"
     ]
    },
    {
     "name": "stdout",
     "output_type": "stream",
     "text": [
      "                   all        680        533    0.00101      0.386    0.00945    0.00216\n",
      "\n",
      "      Epoch    GPU_mem   box_loss   cls_loss   dfl_loss  Instances       Size\n"
     ]
    },
    {
     "name": "stderr",
     "output_type": "stream",
     "text": [
      "      27/50      4.88G      3.385       3.32      2.078          4        192: 100%|██████████| 107/107 [00:20<00:00,  5.19it/s]\n",
      "                 Class     Images  Instances      Box(P          R      mAP50  mAP50-95): 100%|██████████| 22/22 [00:04<00:00,  4.79it/s]"
     ]
    },
    {
     "name": "stdout",
     "output_type": "stream",
     "text": [
      "                   all        680        533    0.00165       0.63     0.0372     0.0109\n"
     ]
    },
    {
     "name": "stderr",
     "output_type": "stream",
     "text": [
      "\n"
     ]
    },
    {
     "name": "stdout",
     "output_type": "stream",
     "text": [
      "\n",
      "      Epoch    GPU_mem   box_loss   cls_loss   dfl_loss  Instances       Size\n"
     ]
    },
    {
     "name": "stderr",
     "output_type": "stream",
     "text": [
      "      28/50      4.97G      3.358      3.321      2.064          3        192: 100%|██████████| 107/107 [00:20<00:00,  5.29it/s]\n",
      "                 Class     Images  Instances      Box(P          R      mAP50  mAP50-95): 100%|██████████| 22/22 [00:04<00:00,  4.59it/s]"
     ]
    },
    {
     "name": "stdout",
     "output_type": "stream",
     "text": [
      "                   all        680        533    0.00183        0.7     0.0248    0.00745\n"
     ]
    },
    {
     "name": "stderr",
     "output_type": "stream",
     "text": [
      "\n"
     ]
    },
    {
     "name": "stdout",
     "output_type": "stream",
     "text": [
      "\n",
      "      Epoch    GPU_mem   box_loss   cls_loss   dfl_loss  Instances       Size\n"
     ]
    },
    {
     "name": "stderr",
     "output_type": "stream",
     "text": [
      "      29/50      4.95G       3.35      3.274      2.066          3        192: 100%|██████████| 107/107 [00:20<00:00,  5.22it/s]\n",
      "                 Class     Images  Instances      Box(P          R      mAP50  mAP50-95): 100%|██████████| 22/22 [00:04<00:00,  4.41it/s]"
     ]
    },
    {
     "name": "stdout",
     "output_type": "stream",
     "text": [
      "                   all        680        533    0.00175      0.668     0.0432     0.0121\n"
     ]
    },
    {
     "name": "stderr",
     "output_type": "stream",
     "text": [
      "\n"
     ]
    },
    {
     "name": "stdout",
     "output_type": "stream",
     "text": [
      "\n",
      "      Epoch    GPU_mem   box_loss   cls_loss   dfl_loss  Instances       Size\n"
     ]
    },
    {
     "name": "stderr",
     "output_type": "stream",
     "text": [
      "      30/50       4.9G      3.319      3.244      2.053          3        192: 100%|██████████| 107/107 [00:20<00:00,  5.20it/s]\n",
      "                 Class     Images  Instances      Box(P          R      mAP50  mAP50-95): 100%|██████████| 22/22 [00:04<00:00,  4.51it/s]"
     ]
    },
    {
     "name": "stdout",
     "output_type": "stream",
     "text": [
      "                   all        680        533    0.00163      0.621     0.0618     0.0186\n"
     ]
    },
    {
     "name": "stderr",
     "output_type": "stream",
     "text": [
      "\n"
     ]
    },
    {
     "name": "stdout",
     "output_type": "stream",
     "text": [
      "\n",
      "      Epoch    GPU_mem   box_loss   cls_loss   dfl_loss  Instances       Size\n"
     ]
    },
    {
     "name": "stderr",
     "output_type": "stream",
     "text": [
      "      31/50      4.89G      3.231      3.218      2.015          7        192: 100%|██████████| 107/107 [00:20<00:00,  5.14it/s]\n",
      "                 Class     Images  Instances      Box(P          R      mAP50  mAP50-95): 100%|██████████| 22/22 [00:04<00:00,  4.49it/s]"
     ]
    },
    {
     "name": "stdout",
     "output_type": "stream",
     "text": [
      "                   all        680        533    0.00185      0.704     0.0629     0.0146\n"
     ]
    },
    {
     "name": "stderr",
     "output_type": "stream",
     "text": [
      "\n"
     ]
    },
    {
     "name": "stdout",
     "output_type": "stream",
     "text": [
      "\n",
      "      Epoch    GPU_mem   box_loss   cls_loss   dfl_loss  Instances       Size\n"
     ]
    },
    {
     "name": "stderr",
     "output_type": "stream",
     "text": [
      "      32/50      4.96G      3.292      3.178      2.044          5        192: 100%|██████████| 107/107 [00:19<00:00,  5.38it/s]\n",
      "                 Class     Images  Instances      Box(P          R      mAP50  mAP50-95): 100%|██████████| 22/22 [00:04<00:00,  4.56it/s]"
     ]
    },
    {
     "name": "stdout",
     "output_type": "stream",
     "text": [
      "                   all        680        533     0.0573      0.321     0.0741     0.0208\n"
     ]
    },
    {
     "name": "stderr",
     "output_type": "stream",
     "text": [
      "\n"
     ]
    },
    {
     "name": "stdout",
     "output_type": "stream",
     "text": [
      "\n",
      "      Epoch    GPU_mem   box_loss   cls_loss   dfl_loss  Instances       Size\n"
     ]
    },
    {
     "name": "stderr",
     "output_type": "stream",
     "text": [
      "      33/50      4.94G      3.278      3.163      2.027          4        192: 100%|██████████| 107/107 [00:19<00:00,  5.41it/s]\n",
      "                 Class     Images  Instances      Box(P          R      mAP50  mAP50-95): 100%|██████████| 22/22 [00:04<00:00,  4.68it/s]"
     ]
    },
    {
     "name": "stdout",
     "output_type": "stream",
     "text": [
      "                   all        680        533    0.00189      0.719     0.0617     0.0181\n"
     ]
    },
    {
     "name": "stderr",
     "output_type": "stream",
     "text": [
      "\n"
     ]
    },
    {
     "name": "stdout",
     "output_type": "stream",
     "text": [
      "\n",
      "      Epoch    GPU_mem   box_loss   cls_loss   dfl_loss  Instances       Size\n"
     ]
    },
    {
     "name": "stderr",
     "output_type": "stream",
     "text": [
      "      34/50      4.92G      3.179      3.067      2.002          7        192: 100%|██████████| 107/107 [00:19<00:00,  5.44it/s]\n",
      "                 Class     Images  Instances      Box(P          R      mAP50  mAP50-95): 100%|██████████| 22/22 [00:04<00:00,  4.72it/s]"
     ]
    },
    {
     "name": "stdout",
     "output_type": "stream",
     "text": [
      "                   all        680        533    0.00169       0.61     0.0839     0.0215\n"
     ]
    },
    {
     "name": "stderr",
     "output_type": "stream",
     "text": [
      "\n"
     ]
    },
    {
     "name": "stdout",
     "output_type": "stream",
     "text": [
      "\n",
      "      Epoch    GPU_mem   box_loss   cls_loss   dfl_loss  Instances       Size\n"
     ]
    },
    {
     "name": "stderr",
     "output_type": "stream",
     "text": [
      "      35/50      4.88G      3.204      3.065      2.009          6        192: 100%|██████████| 107/107 [00:19<00:00,  5.47it/s]\n",
      "                 Class     Images  Instances      Box(P          R      mAP50  mAP50-95): 100%|██████████| 22/22 [00:04<00:00,  4.80it/s]"
     ]
    },
    {
     "name": "stdout",
     "output_type": "stream",
     "text": [
      "                   all        680        533     0.0773      0.358     0.0827      0.023\n"
     ]
    },
    {
     "name": "stderr",
     "output_type": "stream",
     "text": [
      "\n"
     ]
    },
    {
     "name": "stdout",
     "output_type": "stream",
     "text": [
      "\n",
      "      Epoch    GPU_mem   box_loss   cls_loss   dfl_loss  Instances       Size\n"
     ]
    },
    {
     "name": "stderr",
     "output_type": "stream",
     "text": [
      "      36/50      4.96G      3.173      2.991      1.965          7        192: 100%|██████████| 107/107 [00:20<00:00,  5.25it/s]\n",
      "                 Class     Images  Instances      Box(P          R      mAP50  mAP50-95): 100%|██████████| 22/22 [00:04<00:00,  4.63it/s]"
     ]
    },
    {
     "name": "stdout",
     "output_type": "stream",
     "text": [
      "                   all        680        533    0.00221      0.732     0.0596     0.0157\n"
     ]
    },
    {
     "name": "stderr",
     "output_type": "stream",
     "text": [
      "\n"
     ]
    },
    {
     "name": "stdout",
     "output_type": "stream",
     "text": [
      "\n",
      "      Epoch    GPU_mem   box_loss   cls_loss   dfl_loss  Instances       Size\n"
     ]
    },
    {
     "name": "stderr",
     "output_type": "stream",
     "text": [
      "      37/50      4.92G      3.134      2.929      1.963          3        192: 100%|██████████| 107/107 [00:20<00:00,  5.35it/s]\n",
      "                 Class     Images  Instances      Box(P          R      mAP50  mAP50-95): 100%|██████████| 22/22 [00:04<00:00,  4.77it/s]"
     ]
    },
    {
     "name": "stdout",
     "output_type": "stream",
     "text": [
      "                   all        680        533     0.0452      0.467     0.0907      0.023\n"
     ]
    },
    {
     "name": "stderr",
     "output_type": "stream",
     "text": [
      "\n"
     ]
    },
    {
     "name": "stdout",
     "output_type": "stream",
     "text": [
      "\n",
      "      Epoch    GPU_mem   box_loss   cls_loss   dfl_loss  Instances       Size\n"
     ]
    },
    {
     "name": "stderr",
     "output_type": "stream",
     "text": [
      "      38/50       4.9G      3.127       2.88      1.956          9        192: 100%|██████████| 107/107 [00:19<00:00,  5.49it/s]\n",
      "                 Class     Images  Instances      Box(P          R      mAP50  mAP50-95): 100%|██████████| 22/22 [00:04<00:00,  4.74it/s]"
     ]
    },
    {
     "name": "stdout",
     "output_type": "stream",
     "text": [
      "                   all        680        533      0.257      0.223       0.14     0.0447\n"
     ]
    },
    {
     "name": "stderr",
     "output_type": "stream",
     "text": [
      "\n"
     ]
    },
    {
     "name": "stdout",
     "output_type": "stream",
     "text": [
      "\n",
      "      Epoch    GPU_mem   box_loss   cls_loss   dfl_loss  Instances       Size\n"
     ]
    },
    {
     "name": "stderr",
     "output_type": "stream",
     "text": [
      "      39/50      4.89G       3.09      2.784      1.929         10        192: 100%|██████████| 107/107 [00:19<00:00,  5.42it/s]\n",
      "                 Class     Images  Instances      Box(P          R      mAP50  mAP50-95): 100%|██████████| 22/22 [00:04<00:00,  4.77it/s]"
     ]
    },
    {
     "name": "stdout",
     "output_type": "stream",
     "text": [
      "                   all        680        533      0.238      0.274      0.126     0.0385\n"
     ]
    },
    {
     "name": "stderr",
     "output_type": "stream",
     "text": [
      "\n"
     ]
    },
    {
     "name": "stdout",
     "output_type": "stream",
     "text": [
      "\n",
      "      Epoch    GPU_mem   box_loss   cls_loss   dfl_loss  Instances       Size\n"
     ]
    },
    {
     "name": "stderr",
     "output_type": "stream",
     "text": [
      "      40/50      4.98G      3.063      2.795      1.937          5        192: 100%|██████████| 107/107 [00:19<00:00,  5.40it/s]\n",
      "                 Class     Images  Instances      Box(P          R      mAP50  mAP50-95): 100%|██████████| 22/22 [00:04<00:00,  4.72it/s]"
     ]
    },
    {
     "name": "stdout",
     "output_type": "stream",
     "text": [
      "                   all        680        533      0.248      0.258      0.138     0.0445\n"
     ]
    },
    {
     "name": "stderr",
     "output_type": "stream",
     "text": [
      "\n"
     ]
    },
    {
     "name": "stdout",
     "output_type": "stream",
     "text": [
      "Closing dataloader mosaic\n",
      "\n",
      "      Epoch    GPU_mem   box_loss   cls_loss   dfl_loss  Instances       Size\n"
     ]
    },
    {
     "name": "stderr",
     "output_type": "stream",
     "text": [
      "      41/50      4.94G      2.864      2.705      1.951          2        192: 100%|██████████| 107/107 [00:19<00:00,  5.39it/s]\n",
      "                 Class     Images  Instances      Box(P          R      mAP50  mAP50-95): 100%|██████████| 22/22 [00:04<00:00,  4.59it/s]"
     ]
    },
    {
     "name": "stdout",
     "output_type": "stream",
     "text": [
      "                   all        680        533       0.37     0.0673      0.138     0.0316\n"
     ]
    },
    {
     "name": "stderr",
     "output_type": "stream",
     "text": [
      "\n"
     ]
    },
    {
     "name": "stdout",
     "output_type": "stream",
     "text": [
      "\n",
      "      Epoch    GPU_mem   box_loss   cls_loss   dfl_loss  Instances       Size\n"
     ]
    },
    {
     "name": "stderr",
     "output_type": "stream",
     "text": [
      "      42/50       4.9G      2.774      2.624      1.888          3        192: 100%|██████████| 107/107 [00:19<00:00,  5.39it/s]\n",
      "                 Class     Images  Instances      Box(P          R      mAP50  mAP50-95): 100%|██████████| 22/22 [00:04<00:00,  4.74it/s]"
     ]
    },
    {
     "name": "stdout",
     "output_type": "stream",
     "text": [
      "                   all        680        533      0.262      0.265      0.154     0.0491\n"
     ]
    },
    {
     "name": "stderr",
     "output_type": "stream",
     "text": [
      "\n"
     ]
    },
    {
     "name": "stdout",
     "output_type": "stream",
     "text": [
      "\n",
      "      Epoch    GPU_mem   box_loss   cls_loss   dfl_loss  Instances       Size\n"
     ]
    },
    {
     "name": "stderr",
     "output_type": "stream",
     "text": [
      "      43/50      4.86G      2.762      2.576        1.9          2        192: 100%|██████████| 107/107 [00:19<00:00,  5.44it/s]\n",
      "                 Class     Images  Instances      Box(P          R      mAP50  mAP50-95): 100%|██████████| 22/22 [00:04<00:00,  4.70it/s]"
     ]
    },
    {
     "name": "stdout",
     "output_type": "stream",
     "text": [
      "                   all        680        533      0.325      0.202      0.179     0.0567\n"
     ]
    },
    {
     "name": "stderr",
     "output_type": "stream",
     "text": [
      "\n"
     ]
    },
    {
     "name": "stdout",
     "output_type": "stream",
     "text": [
      "\n",
      "      Epoch    GPU_mem   box_loss   cls_loss   dfl_loss  Instances       Size\n"
     ]
    },
    {
     "name": "stderr",
     "output_type": "stream",
     "text": [
      "      44/50      4.97G        2.7      2.451      1.862          4        192: 100%|██████████| 107/107 [00:19<00:00,  5.49it/s]\n",
      "                 Class     Images  Instances      Box(P          R      mAP50  mAP50-95): 100%|██████████| 22/22 [00:04<00:00,  4.68it/s]"
     ]
    },
    {
     "name": "stdout",
     "output_type": "stream",
     "text": [
      "                   all        680        533      0.304      0.291      0.176     0.0671\n"
     ]
    },
    {
     "name": "stderr",
     "output_type": "stream",
     "text": [
      "\n"
     ]
    },
    {
     "name": "stdout",
     "output_type": "stream",
     "text": [
      "\n",
      "      Epoch    GPU_mem   box_loss   cls_loss   dfl_loss  Instances       Size\n"
     ]
    },
    {
     "name": "stderr",
     "output_type": "stream",
     "text": [
      "      45/50      4.93G      2.673      2.441      1.865          4        192: 100%|██████████| 107/107 [00:19<00:00,  5.52it/s]\n",
      "                 Class     Images  Instances      Box(P          R      mAP50  mAP50-95): 100%|██████████| 22/22 [00:04<00:00,  4.72it/s]"
     ]
    },
    {
     "name": "stdout",
     "output_type": "stream",
     "text": [
      "                   all        680        533      0.307      0.311      0.216     0.0841\n"
     ]
    },
    {
     "name": "stderr",
     "output_type": "stream",
     "text": [
      "\n"
     ]
    },
    {
     "name": "stdout",
     "output_type": "stream",
     "text": [
      "\n",
      "      Epoch    GPU_mem   box_loss   cls_loss   dfl_loss  Instances       Size\n"
     ]
    },
    {
     "name": "stderr",
     "output_type": "stream",
     "text": [
      "      46/50       4.9G      2.682       2.49      1.833          2        192: 100%|██████████| 107/107 [00:19<00:00,  5.43it/s]\n",
      "                 Class     Images  Instances      Box(P          R      mAP50  mAP50-95): 100%|██████████| 22/22 [00:04<00:00,  4.81it/s]"
     ]
    },
    {
     "name": "stdout",
     "output_type": "stream",
     "text": [
      "                   all        680        533      0.344       0.34      0.235     0.0848\n"
     ]
    },
    {
     "name": "stderr",
     "output_type": "stream",
     "text": [
      "\n"
     ]
    },
    {
     "name": "stdout",
     "output_type": "stream",
     "text": [
      "\n",
      "      Epoch    GPU_mem   box_loss   cls_loss   dfl_loss  Instances       Size\n"
     ]
    },
    {
     "name": "stderr",
     "output_type": "stream",
     "text": [
      "      47/50      4.87G      2.639      2.352      1.811          2        192: 100%|██████████| 107/107 [00:19<00:00,  5.46it/s]\n",
      "                 Class     Images  Instances      Box(P          R      mAP50  mAP50-95): 100%|██████████| 22/22 [00:04<00:00,  4.78it/s]"
     ]
    },
    {
     "name": "stdout",
     "output_type": "stream",
     "text": [
      "                   all        680        533      0.298      0.351      0.203     0.0855\n"
     ]
    },
    {
     "name": "stderr",
     "output_type": "stream",
     "text": [
      "\n"
     ]
    },
    {
     "name": "stdout",
     "output_type": "stream",
     "text": [
      "\n",
      "      Epoch    GPU_mem   box_loss   cls_loss   dfl_loss  Instances       Size\n"
     ]
    },
    {
     "name": "stderr",
     "output_type": "stream",
     "text": [
      "      48/50      4.98G      2.567      2.257      1.801          4        192: 100%|██████████| 107/107 [00:20<00:00,  5.29it/s]\n",
      "                 Class     Images  Instances      Box(P          R      mAP50  mAP50-95): 100%|██████████| 22/22 [00:04<00:00,  4.78it/s]"
     ]
    },
    {
     "name": "stdout",
     "output_type": "stream",
     "text": [
      "                   all        680        533      0.342      0.373      0.249      0.104\n"
     ]
    },
    {
     "name": "stderr",
     "output_type": "stream",
     "text": [
      "\n"
     ]
    },
    {
     "name": "stdout",
     "output_type": "stream",
     "text": [
      "\n",
      "      Epoch    GPU_mem   box_loss   cls_loss   dfl_loss  Instances       Size\n"
     ]
    },
    {
     "name": "stderr",
     "output_type": "stream",
     "text": [
      "      49/50      4.94G      2.565       2.27      1.804          2        192: 100%|██████████| 107/107 [00:19<00:00,  5.41it/s]\n",
      "                 Class     Images  Instances      Box(P          R      mAP50  mAP50-95): 100%|██████████| 22/22 [00:04<00:00,  4.75it/s]"
     ]
    },
    {
     "name": "stdout",
     "output_type": "stream",
     "text": [
      "                   all        680        533      0.339       0.36      0.251      0.101\n"
     ]
    },
    {
     "name": "stderr",
     "output_type": "stream",
     "text": [
      "\n"
     ]
    },
    {
     "name": "stdout",
     "output_type": "stream",
     "text": [
      "\n",
      "      Epoch    GPU_mem   box_loss   cls_loss   dfl_loss  Instances       Size\n"
     ]
    },
    {
     "name": "stderr",
     "output_type": "stream",
     "text": [
      "      50/50      4.91G      2.531      2.218       1.78          1        192: 100%|██████████| 107/107 [00:20<00:00,  5.31it/s]\n",
      "                 Class     Images  Instances      Box(P          R      mAP50  mAP50-95): 100%|██████████| 22/22 [00:04<00:00,  4.57it/s]"
     ]
    },
    {
     "name": "stdout",
     "output_type": "stream",
     "text": [
      "                   all        680        533      0.389      0.379       0.29      0.117\n"
     ]
    },
    {
     "name": "stderr",
     "output_type": "stream",
     "text": [
      "\n"
     ]
    },
    {
     "name": "stdout",
     "output_type": "stream",
     "text": [
      "\n",
      "50 epochs completed in 0.409 hours.\n",
      "Optimizer stripped from runs\\detect\\train8\\weights\\last.pt, 346.5MB\n",
      "Optimizer stripped from runs\\detect\\train8\\weights\\best.pt, 346.5MB\n",
      "\n",
      "Validating runs\\detect\\train8\\weights\\best.pt...\n",
      "Ultralytics 8.3.131  Python-3.12.6 torch-2.7.0+cu128 CUDA:0 (NVIDIA GeForce RTX 3070 Ti, 8192MiB)\n",
      "YOLOv6x summary (fused): 120 layers, 172,983,795 parameters, 0 gradients, 610.2 GFLOPs\n"
     ]
    },
    {
     "name": "stderr",
     "output_type": "stream",
     "text": [
      "                 Class     Images  Instances      Box(P          R      mAP50  mAP50-95): 100%|██████████| 22/22 [00:04<00:00,  4.90it/s]\n"
     ]
    },
    {
     "name": "stdout",
     "output_type": "stream",
     "text": [
      "                   all        680        533      0.391      0.379       0.29      0.117\n",
      "Speed: 0.0ms preprocess, 2.8ms inference, 0.0ms loss, 1.4ms postprocess per image\n",
      "Results saved to \u001B[1mruns\\detect\\train8\u001B[0m\n"
     ]
    },
    {
     "data": {
      "text/plain": [
       "ultralytics.utils.metrics.DetMetrics object with attributes:\n",
       "\n",
       "ap_class_index: array([0])\n",
       "box: ultralytics.utils.metrics.Metric object\n",
       "confusion_matrix: <ultralytics.utils.metrics.ConfusionMatrix object at 0x0000015B5D99C2C0>\n",
       "curves: ['Precision-Recall(B)', 'F1-Confidence(B)', 'Precision-Confidence(B)', 'Recall-Confidence(B)']\n",
       "curves_results: [[array([          0,    0.001001,    0.002002,    0.003003,    0.004004,    0.005005,    0.006006,    0.007007,    0.008008,    0.009009,     0.01001,    0.011011,    0.012012,    0.013013,    0.014014,    0.015015,    0.016016,    0.017017,    0.018018,    0.019019,     0.02002,    0.021021,    0.022022,    0.023023,\n",
       "          0.024024,    0.025025,    0.026026,    0.027027,    0.028028,    0.029029,     0.03003,    0.031031,    0.032032,    0.033033,    0.034034,    0.035035,    0.036036,    0.037037,    0.038038,    0.039039,     0.04004,    0.041041,    0.042042,    0.043043,    0.044044,    0.045045,    0.046046,    0.047047,\n",
       "          0.048048,    0.049049,     0.05005,    0.051051,    0.052052,    0.053053,    0.054054,    0.055055,    0.056056,    0.057057,    0.058058,    0.059059,     0.06006,    0.061061,    0.062062,    0.063063,    0.064064,    0.065065,    0.066066,    0.067067,    0.068068,    0.069069,     0.07007,    0.071071,\n",
       "          0.072072,    0.073073,    0.074074,    0.075075,    0.076076,    0.077077,    0.078078,    0.079079,     0.08008,    0.081081,    0.082082,    0.083083,    0.084084,    0.085085,    0.086086,    0.087087,    0.088088,    0.089089,     0.09009,    0.091091,    0.092092,    0.093093,    0.094094,    0.095095,\n",
       "          0.096096,    0.097097,    0.098098,    0.099099,      0.1001,      0.1011,      0.1021,      0.1031,      0.1041,     0.10511,     0.10611,     0.10711,     0.10811,     0.10911,     0.11011,     0.11111,     0.11211,     0.11311,     0.11411,     0.11512,     0.11612,     0.11712,     0.11812,     0.11912,\n",
       "           0.12012,     0.12112,     0.12212,     0.12312,     0.12412,     0.12513,     0.12613,     0.12713,     0.12813,     0.12913,     0.13013,     0.13113,     0.13213,     0.13313,     0.13413,     0.13514,     0.13614,     0.13714,     0.13814,     0.13914,     0.14014,     0.14114,     0.14214,     0.14314,\n",
       "           0.14414,     0.14515,     0.14615,     0.14715,     0.14815,     0.14915,     0.15015,     0.15115,     0.15215,     0.15315,     0.15415,     0.15516,     0.15616,     0.15716,     0.15816,     0.15916,     0.16016,     0.16116,     0.16216,     0.16316,     0.16416,     0.16517,     0.16617,     0.16717,\n",
       "           0.16817,     0.16917,     0.17017,     0.17117,     0.17217,     0.17317,     0.17417,     0.17518,     0.17618,     0.17718,     0.17818,     0.17918,     0.18018,     0.18118,     0.18218,     0.18318,     0.18418,     0.18519,     0.18619,     0.18719,     0.18819,     0.18919,     0.19019,     0.19119,\n",
       "           0.19219,     0.19319,     0.19419,      0.1952,      0.1962,      0.1972,      0.1982,      0.1992,      0.2002,      0.2012,      0.2022,      0.2032,      0.2042,     0.20521,     0.20621,     0.20721,     0.20821,     0.20921,     0.21021,     0.21121,     0.21221,     0.21321,     0.21421,     0.21522,\n",
       "           0.21622,     0.21722,     0.21822,     0.21922,     0.22022,     0.22122,     0.22222,     0.22322,     0.22422,     0.22523,     0.22623,     0.22723,     0.22823,     0.22923,     0.23023,     0.23123,     0.23223,     0.23323,     0.23423,     0.23524,     0.23624,     0.23724,     0.23824,     0.23924,\n",
       "           0.24024,     0.24124,     0.24224,     0.24324,     0.24424,     0.24525,     0.24625,     0.24725,     0.24825,     0.24925,     0.25025,     0.25125,     0.25225,     0.25325,     0.25425,     0.25526,     0.25626,     0.25726,     0.25826,     0.25926,     0.26026,     0.26126,     0.26226,     0.26326,\n",
       "           0.26426,     0.26527,     0.26627,     0.26727,     0.26827,     0.26927,     0.27027,     0.27127,     0.27227,     0.27327,     0.27427,     0.27528,     0.27628,     0.27728,     0.27828,     0.27928,     0.28028,     0.28128,     0.28228,     0.28328,     0.28428,     0.28529,     0.28629,     0.28729,\n",
       "           0.28829,     0.28929,     0.29029,     0.29129,     0.29229,     0.29329,     0.29429,      0.2953,      0.2963,      0.2973,      0.2983,      0.2993,      0.3003,      0.3013,      0.3023,      0.3033,      0.3043,     0.30531,     0.30631,     0.30731,     0.30831,     0.30931,     0.31031,     0.31131,\n",
       "           0.31231,     0.31331,     0.31431,     0.31532,     0.31632,     0.31732,     0.31832,     0.31932,     0.32032,     0.32132,     0.32232,     0.32332,     0.32432,     0.32533,     0.32633,     0.32733,     0.32833,     0.32933,     0.33033,     0.33133,     0.33233,     0.33333,     0.33433,     0.33534,\n",
       "           0.33634,     0.33734,     0.33834,     0.33934,     0.34034,     0.34134,     0.34234,     0.34334,     0.34434,     0.34535,     0.34635,     0.34735,     0.34835,     0.34935,     0.35035,     0.35135,     0.35235,     0.35335,     0.35435,     0.35536,     0.35636,     0.35736,     0.35836,     0.35936,\n",
       "           0.36036,     0.36136,     0.36236,     0.36336,     0.36436,     0.36537,     0.36637,     0.36737,     0.36837,     0.36937,     0.37037,     0.37137,     0.37237,     0.37337,     0.37437,     0.37538,     0.37638,     0.37738,     0.37838,     0.37938,     0.38038,     0.38138,     0.38238,     0.38338,\n",
       "           0.38438,     0.38539,     0.38639,     0.38739,     0.38839,     0.38939,     0.39039,     0.39139,     0.39239,     0.39339,     0.39439,      0.3954,      0.3964,      0.3974,      0.3984,      0.3994,      0.4004,      0.4014,      0.4024,      0.4034,      0.4044,     0.40541,     0.40641,     0.40741,\n",
       "           0.40841,     0.40941,     0.41041,     0.41141,     0.41241,     0.41341,     0.41441,     0.41542,     0.41642,     0.41742,     0.41842,     0.41942,     0.42042,     0.42142,     0.42242,     0.42342,     0.42442,     0.42543,     0.42643,     0.42743,     0.42843,     0.42943,     0.43043,     0.43143,\n",
       "           0.43243,     0.43343,     0.43443,     0.43544,     0.43644,     0.43744,     0.43844,     0.43944,     0.44044,     0.44144,     0.44244,     0.44344,     0.44444,     0.44545,     0.44645,     0.44745,     0.44845,     0.44945,     0.45045,     0.45145,     0.45245,     0.45345,     0.45445,     0.45546,\n",
       "           0.45646,     0.45746,     0.45846,     0.45946,     0.46046,     0.46146,     0.46246,     0.46346,     0.46446,     0.46547,     0.46647,     0.46747,     0.46847,     0.46947,     0.47047,     0.47147,     0.47247,     0.47347,     0.47447,     0.47548,     0.47648,     0.47748,     0.47848,     0.47948,\n",
       "           0.48048,     0.48148,     0.48248,     0.48348,     0.48448,     0.48549,     0.48649,     0.48749,     0.48849,     0.48949,     0.49049,     0.49149,     0.49249,     0.49349,     0.49449,      0.4955,      0.4965,      0.4975,      0.4985,      0.4995,      0.5005,      0.5015,      0.5025,      0.5035,\n",
       "            0.5045,     0.50551,     0.50651,     0.50751,     0.50851,     0.50951,     0.51051,     0.51151,     0.51251,     0.51351,     0.51451,     0.51552,     0.51652,     0.51752,     0.51852,     0.51952,     0.52052,     0.52152,     0.52252,     0.52352,     0.52452,     0.52553,     0.52653,     0.52753,\n",
       "           0.52853,     0.52953,     0.53053,     0.53153,     0.53253,     0.53353,     0.53453,     0.53554,     0.53654,     0.53754,     0.53854,     0.53954,     0.54054,     0.54154,     0.54254,     0.54354,     0.54454,     0.54555,     0.54655,     0.54755,     0.54855,     0.54955,     0.55055,     0.55155,\n",
       "           0.55255,     0.55355,     0.55455,     0.55556,     0.55656,     0.55756,     0.55856,     0.55956,     0.56056,     0.56156,     0.56256,     0.56356,     0.56456,     0.56557,     0.56657,     0.56757,     0.56857,     0.56957,     0.57057,     0.57157,     0.57257,     0.57357,     0.57457,     0.57558,\n",
       "           0.57658,     0.57758,     0.57858,     0.57958,     0.58058,     0.58158,     0.58258,     0.58358,     0.58458,     0.58559,     0.58659,     0.58759,     0.58859,     0.58959,     0.59059,     0.59159,     0.59259,     0.59359,     0.59459,      0.5956,      0.5966,      0.5976,      0.5986,      0.5996,\n",
       "            0.6006,      0.6016,      0.6026,      0.6036,      0.6046,     0.60561,     0.60661,     0.60761,     0.60861,     0.60961,     0.61061,     0.61161,     0.61261,     0.61361,     0.61461,     0.61562,     0.61662,     0.61762,     0.61862,     0.61962,     0.62062,     0.62162,     0.62262,     0.62362,\n",
       "           0.62462,     0.62563,     0.62663,     0.62763,     0.62863,     0.62963,     0.63063,     0.63163,     0.63263,     0.63363,     0.63463,     0.63564,     0.63664,     0.63764,     0.63864,     0.63964,     0.64064,     0.64164,     0.64264,     0.64364,     0.64464,     0.64565,     0.64665,     0.64765,\n",
       "           0.64865,     0.64965,     0.65065,     0.65165,     0.65265,     0.65365,     0.65465,     0.65566,     0.65666,     0.65766,     0.65866,     0.65966,     0.66066,     0.66166,     0.66266,     0.66366,     0.66466,     0.66567,     0.66667,     0.66767,     0.66867,     0.66967,     0.67067,     0.67167,\n",
       "           0.67267,     0.67367,     0.67467,     0.67568,     0.67668,     0.67768,     0.67868,     0.67968,     0.68068,     0.68168,     0.68268,     0.68368,     0.68468,     0.68569,     0.68669,     0.68769,     0.68869,     0.68969,     0.69069,     0.69169,     0.69269,     0.69369,     0.69469,      0.6957,\n",
       "            0.6967,      0.6977,      0.6987,      0.6997,      0.7007,      0.7017,      0.7027,      0.7037,      0.7047,     0.70571,     0.70671,     0.70771,     0.70871,     0.70971,     0.71071,     0.71171,     0.71271,     0.71371,     0.71471,     0.71572,     0.71672,     0.71772,     0.71872,     0.71972,\n",
       "           0.72072,     0.72172,     0.72272,     0.72372,     0.72472,     0.72573,     0.72673,     0.72773,     0.72873,     0.72973,     0.73073,     0.73173,     0.73273,     0.73373,     0.73473,     0.73574,     0.73674,     0.73774,     0.73874,     0.73974,     0.74074,     0.74174,     0.74274,     0.74374,\n",
       "           0.74474,     0.74575,     0.74675,     0.74775,     0.74875,     0.74975,     0.75075,     0.75175,     0.75275,     0.75375,     0.75475,     0.75576,     0.75676,     0.75776,     0.75876,     0.75976,     0.76076,     0.76176,     0.76276,     0.76376,     0.76476,     0.76577,     0.76677,     0.76777,\n",
       "           0.76877,     0.76977,     0.77077,     0.77177,     0.77277,     0.77377,     0.77477,     0.77578,     0.77678,     0.77778,     0.77878,     0.77978,     0.78078,     0.78178,     0.78278,     0.78378,     0.78478,     0.78579,     0.78679,     0.78779,     0.78879,     0.78979,     0.79079,     0.79179,\n",
       "           0.79279,     0.79379,     0.79479,      0.7958,      0.7968,      0.7978,      0.7988,      0.7998,      0.8008,      0.8018,      0.8028,      0.8038,      0.8048,     0.80581,     0.80681,     0.80781,     0.80881,     0.80981,     0.81081,     0.81181,     0.81281,     0.81381,     0.81481,     0.81582,\n",
       "           0.81682,     0.81782,     0.81882,     0.81982,     0.82082,     0.82182,     0.82282,     0.82382,     0.82482,     0.82583,     0.82683,     0.82783,     0.82883,     0.82983,     0.83083,     0.83183,     0.83283,     0.83383,     0.83483,     0.83584,     0.83684,     0.83784,     0.83884,     0.83984,\n",
       "           0.84084,     0.84184,     0.84284,     0.84384,     0.84484,     0.84585,     0.84685,     0.84785,     0.84885,     0.84985,     0.85085,     0.85185,     0.85285,     0.85385,     0.85485,     0.85586,     0.85686,     0.85786,     0.85886,     0.85986,     0.86086,     0.86186,     0.86286,     0.86386,\n",
       "           0.86486,     0.86587,     0.86687,     0.86787,     0.86887,     0.86987,     0.87087,     0.87187,     0.87287,     0.87387,     0.87487,     0.87588,     0.87688,     0.87788,     0.87888,     0.87988,     0.88088,     0.88188,     0.88288,     0.88388,     0.88488,     0.88589,     0.88689,     0.88789,\n",
       "           0.88889,     0.88989,     0.89089,     0.89189,     0.89289,     0.89389,     0.89489,      0.8959,      0.8969,      0.8979,      0.8989,      0.8999,      0.9009,      0.9019,      0.9029,      0.9039,      0.9049,     0.90591,     0.90691,     0.90791,     0.90891,     0.90991,     0.91091,     0.91191,\n",
       "           0.91291,     0.91391,     0.91491,     0.91592,     0.91692,     0.91792,     0.91892,     0.91992,     0.92092,     0.92192,     0.92292,     0.92392,     0.92492,     0.92593,     0.92693,     0.92793,     0.92893,     0.92993,     0.93093,     0.93193,     0.93293,     0.93393,     0.93493,     0.93594,\n",
       "           0.93694,     0.93794,     0.93894,     0.93994,     0.94094,     0.94194,     0.94294,     0.94394,     0.94494,     0.94595,     0.94695,     0.94795,     0.94895,     0.94995,     0.95095,     0.95195,     0.95295,     0.95395,     0.95495,     0.95596,     0.95696,     0.95796,     0.95896,     0.95996,\n",
       "           0.96096,     0.96196,     0.96296,     0.96396,     0.96496,     0.96597,     0.96697,     0.96797,     0.96897,     0.96997,     0.97097,     0.97197,     0.97297,     0.97397,     0.97497,     0.97598,     0.97698,     0.97798,     0.97898,     0.97998,     0.98098,     0.98198,     0.98298,     0.98398,\n",
       "           0.98498,     0.98599,     0.98699,     0.98799,     0.98899,     0.98999,     0.99099,     0.99199,     0.99299,     0.99399,     0.99499,       0.996,       0.997,       0.998,       0.999,           1]), array([[          1,           1,           1,           1,           1,           1,           1,           1,           1,           1,           1,           1,           1,           1,       0.875,       0.875,       0.875,       0.875,       0.875,       0.875,       0.875,       0.875,       0.875,\n",
       "              0.875,       0.875,       0.875,       0.875,     0.78947,     0.78947,     0.72727,      0.7037,      0.7037,      0.7037,      0.7037,      0.7037,      0.7037,      0.7037,      0.7037,      0.7037,      0.7037,      0.7037,      0.7037,      0.7037,      0.7037,      0.7037,      0.7037,\n",
       "             0.7037,      0.7037,      0.7037,      0.7037,      0.7037,      0.7037,      0.7037,      0.7037,      0.7037,      0.7037,      0.7037,      0.7037,      0.7037,      0.7037,      0.7037,      0.7037,      0.7037,      0.7037,      0.7037,      0.7037,      0.7037,      0.7037,      0.7037,\n",
       "             0.7037,      0.7037,      0.7037,     0.69643,     0.69643,     0.68966,     0.68333,     0.68333,     0.67742,     0.67742,     0.66667,     0.66667,     0.66667,     0.66667,     0.65909,     0.65909,     0.65909,     0.65909,     0.65909,     0.65909,     0.65909,     0.65909,     0.65909,\n",
       "            0.65909,     0.65909,     0.65909,     0.65909,     0.65909,     0.65909,     0.65909,     0.65909,     0.65909,     0.65909,     0.65909,     0.65909,     0.65909,     0.65909,     0.65909,     0.65909,     0.65909,     0.65591,     0.65591,     0.65591,     0.65591,     0.65591,     0.65591,\n",
       "            0.64286,     0.64286,     0.64286,     0.64286,     0.63107,     0.63107,     0.63107,      0.6129,      0.6129,      0.6129,      0.6129,      0.6129,      0.6129,      0.6129,      0.6129,      0.6129,      0.6129,      0.6129,      0.6129,      0.6129,      0.6129,      0.6129,      0.6129,\n",
       "             0.6129,      0.6129,      0.6129,      0.6129,      0.6129,     0.61194,     0.61194,     0.61194,     0.61194,     0.61194,     0.61194,     0.61194,     0.61194,     0.61194,     0.61194,     0.61194,     0.59286,     0.59286,     0.58784,     0.58784,     0.58784,     0.58784,     0.58784,\n",
       "            0.58784,     0.58784,     0.58784,     0.58667,     0.56604,     0.56604,     0.56604,     0.56604,     0.56364,     0.56364,     0.56364,     0.56364,     0.56364,     0.56364,     0.55952,     0.55952,     0.54598,     0.54598,     0.53039,     0.53005,     0.53005,     0.52688,     0.52688,\n",
       "            0.51832,     0.51832,     0.51777,     0.51777,     0.51777,     0.51777,     0.51777,     0.51777,     0.51741,     0.51741,     0.51741,     0.50971,     0.50971,     0.50237,     0.50237,      0.5023,      0.5023,      0.5023,      0.5023,      0.5023,      0.5023,     0.50216,     0.50216,\n",
       "            0.50216,     0.50216,     0.50216,     0.50216,     0.50216,     0.50216,     0.50216,     0.50216,     0.50216,     0.50216,     0.50216,         0.5,         0.5,     0.49789,     0.49789,     0.49583,     0.49583,     0.49421,     0.49421,     0.49421,     0.49421,     0.49421,     0.49421,\n",
       "            0.49421,     0.49421,     0.49421,     0.49421,     0.49421,     0.49421,     0.49421,     0.49421,     0.49421,     0.49421,     0.49071,     0.49071,     0.49071,     0.49071,     0.49071,     0.49071,     0.49071,     0.49071,     0.48344,     0.48344,     0.48344,     0.48344,     0.48344,\n",
       "            0.48344,     0.48344,     0.48344,     0.48344,     0.48344,     0.48344,     0.48344,     0.48344,     0.48344,     0.48344,     0.48344,     0.48344,     0.48344,     0.48344,     0.48344,     0.48344,     0.48344,     0.48344,     0.48344,     0.48344,     0.48344,     0.48197,     0.48197,\n",
       "            0.48113,     0.48113,     0.48113,     0.48113,     0.48113,     0.48113,     0.48113,     0.48113,     0.48113,     0.48113,     0.48113,     0.47853,     0.47853,     0.47853,     0.47853,     0.47853,     0.47853,     0.46884,     0.46884,     0.46884,     0.46884,     0.46802,     0.46802,\n",
       "            0.46802,     0.46802,     0.46802,     0.46552,     0.46552,     0.46089,     0.46089,     0.46089,     0.46089,     0.46089,     0.46089,     0.45604,     0.45604,     0.45553,     0.45553,     0.45553,     0.45553,     0.45553,     0.45093,     0.45093,     0.44882,     0.44882,     0.44133,\n",
       "            0.44133,     0.44133,     0.44133,     0.42857,     0.42857,     0.42787,     0.42787,     0.42243,     0.42243,     0.42243,     0.41981,     0.41981,     0.41379,     0.41379,     0.41379,     0.41379,     0.41309,     0.41309,     0.41309,     0.41309,     0.41309,     0.40919,     0.40919,\n",
       "            0.40919,     0.40919,     0.40919,     0.40919,     0.40919,     0.40919,      0.4087,      0.4087,     0.40773,     0.40773,     0.40773,     0.40773,     0.40638,     0.40546,     0.40546,     0.40546,     0.40546,     0.40373,     0.40373,     0.40373,     0.40373,     0.39837,     0.39837,\n",
       "            0.39798,     0.39798,     0.39721,     0.39721,     0.39721,     0.39448,     0.39448,       0.393,       0.393,       0.393,       0.393,     0.39231,     0.39231,     0.39231,     0.39231,     0.39089,     0.39089,     0.39089,     0.39089,     0.38837,     0.38306,     0.38306,     0.38208,\n",
       "            0.38208,     0.38113,     0.38113,     0.37968,     0.37968,     0.37968,     0.37968,     0.37968,     0.37968,     0.37716,     0.37716,     0.37716,     0.37716,     0.37716,     0.37716,     0.37716,     0.37716,     0.37716,     0.37394,     0.37394,     0.37394,     0.37394,     0.37394,\n",
       "            0.37394,     0.37229,     0.37229,     0.37229,     0.37148,     0.37148,     0.36885,     0.36885,     0.36393,     0.36393,     0.35975,     0.35975,     0.35962,     0.35962,     0.35559,     0.35559,     0.35549,     0.35549,     0.35538,     0.35205,     0.35205,     0.35038,     0.35038,\n",
       "             0.3477,      0.3477,      0.3461,      0.3461,     0.34604,     0.34604,     0.34548,     0.34548,     0.34339,     0.34339,     0.34339,     0.34188,     0.34188,     0.34184,     0.34184,     0.33703,     0.33703,     0.33703,     0.33703,     0.33379,     0.33379,     0.33063,     0.33063,\n",
       "            0.32503,     0.32503,     0.32503,     0.32503,     0.32503,      0.3172,      0.3172,     0.31692,     0.31692,     0.31692,     0.31692,     0.31539,     0.31539,     0.31514,     0.31514,     0.31514,     0.31514,     0.31365,      0.3122,      0.3122,     0.30523,     0.30523,     0.30175,\n",
       "            0.30175,     0.30012,     0.30012,     0.29773,     0.29773,     0.29773,     0.29773,     0.29773,     0.29773,     0.29157,     0.28205,     0.28205,     0.27836,     0.27836,     0.27726,     0.27726,     0.27726,     0.27726,     0.27686,     0.27686,     0.27533,     0.27533,     0.26641,\n",
       "            0.26641,     0.26641,     0.26641,     0.26641,     0.26341,     0.26341,     0.26341,     0.26341,     0.26341,     0.26341,     0.25743,     0.25743,     0.25743,     0.25743,     0.25411,     0.25411,     0.25022,     0.25022,     0.25022,     0.24933,     0.24933,     0.24868,     0.24868,\n",
       "            0.24481,     0.24481,     0.24399,     0.24399,     0.24338,     0.24338,      0.2432,      0.2432,     0.24181,     0.24181,     0.24181,     0.23669,     0.23669,     0.23341,     0.23341,     0.23341,     0.23341,     0.23341,     0.23341,      0.2315,      0.2315,      0.2315,      0.2315,\n",
       "            0.22571,     0.22272,     0.22272,     0.22206,     0.22206,     0.22206,     0.22206,     0.21557,     0.21557,     0.21005,     0.21005,     0.21005,     0.21005,     0.20929,     0.20929,     0.20897,      0.2058,      0.2058,      0.2058,      0.2058,     0.20509,     0.20509,     0.19961,\n",
       "            0.19961,     0.19961,     0.19961,     0.19682,     0.19682,     0.19387,     0.19387,     0.18803,     0.18187,     0.18187,     0.18187,     0.18187,     0.17811,     0.17811,     0.17432,     0.17432,     0.17174,     0.17174,     0.16862,     0.16862,     0.16417,     0.16417,     0.16325,\n",
       "            0.16032,     0.16032,      0.1598,      0.1598,      0.1598,      0.1598,     0.15966,     0.15966,     0.15675,     0.15675,     0.15469,     0.15469,      0.1458,      0.1458,     0.14449,     0.14449,     0.14449,     0.14398,     0.14398,      0.1436,      0.1436,     0.14317,     0.14317,\n",
       "             0.1431,      0.1431,     0.14176,     0.14176,     0.13779,     0.13779,     0.10723,     0.10589,     0.10589,     0.10492,     0.10492,    0.095077,    0.095077,    0.091301,    0.091301,    0.077857,    0.077857,    0.075761,    0.075761,    0.073659,    0.073659,    0.070795,    0.066065,\n",
       "           0.066065,     0.06507,     0.06507,     0.05702,     0.05702,     0.05604,     0.05604,    0.053795,    0.053795,    0.049079,    0.049079,    0.047157,    0.047157,    0.045437,    0.045396,    0.045396,    0.045309,    0.045309,    0.042259,    0.042259,    0.041482,    0.041482,    0.041482,\n",
       "           0.041482,    0.040541,    0.040541,    0.040076,    0.034987,    0.034987,    0.033186,    0.033186,    0.032947,    0.032947,    0.030285,    0.030285,    0.030132,    0.030132,    0.028628,    0.028628,    0.027685,    0.027685,    0.027252,    0.026102,    0.026102,    0.024744,    0.024744,\n",
       "           0.024587,    0.024587,     0.02386,     0.02386,    0.022276,    0.022276,    0.021728,    0.021728,    0.020994,    0.020994,    0.019431,     0.01904,     0.01904,     0.01904,     0.01904,     0.01748,     0.01748,    0.017335,    0.017335,    0.014133,    0.014133,    0.013846,    0.013846,\n",
       "           0.012953,    0.012953,    0.012654,    0.010862,    0.010862,    0.010815,    0.010815,    0.010815,    0.010815,    0.010657,    0.010657,   0.0099946,   0.0099946,   0.0095942,   0.0095942,   0.0092648,   0.0092648,   0.0090727,   0.0089157,   0.0089157,   0.0085828,   0.0085828,   0.0084424,\n",
       "          0.0084424,   0.0084424,   0.0084424,   0.0084037,   0.0084037,   0.0083368,   0.0083368,   0.0083291,   0.0083291,   0.0080801,    0.008059,    0.008059,   0.0080574,   0.0080574,   0.0077928,   0.0077928,    0.007607,    0.007607,    0.007491,    0.007491,   0.0071232,   0.0070939,   0.0070645,\n",
       "          0.0070352,   0.0070059,   0.0069766,   0.0069473,    0.006918,   0.0068887,   0.0068594,     0.00683,   0.0068007,   0.0067714,   0.0067421,   0.0067128,   0.0066835,   0.0066542,   0.0066248,   0.0065955,   0.0065662,   0.0065369,   0.0065076,   0.0064783,    0.006449,   0.0064197,   0.0063903,\n",
       "           0.006361,   0.0063317,   0.0063024,   0.0062731,   0.0062438,   0.0062145,   0.0061851,   0.0061558,   0.0061265,   0.0060972,   0.0060679,   0.0060386,   0.0060093,   0.0059799,   0.0059506,   0.0059213,    0.005892,   0.0058627,   0.0058334,   0.0058041,   0.0057748,   0.0057454,   0.0057161,\n",
       "          0.0056868,   0.0056575,   0.0056282,   0.0055989,   0.0055696,   0.0055402,   0.0055109,   0.0054816,   0.0054523,    0.005423,   0.0053937,   0.0053644,   0.0053351,   0.0053057,   0.0052764,   0.0052471,   0.0052178,   0.0051885,   0.0051592,   0.0051299,   0.0051005,   0.0050712,   0.0050419,\n",
       "          0.0050126,   0.0049833,    0.004954,   0.0049247,   0.0048953,    0.004866,   0.0048367,   0.0048074,   0.0047781,   0.0047488,   0.0047195,   0.0046902,   0.0046608,   0.0046315,   0.0046022,   0.0045729,   0.0045436,   0.0045143,    0.004485,   0.0044556,   0.0044263,    0.004397,   0.0043677,\n",
       "          0.0043384,   0.0043091,   0.0042798,   0.0042505,   0.0042211,   0.0041918,   0.0041625,   0.0041332,   0.0041039,   0.0040746,   0.0040453,   0.0040159,   0.0039866,   0.0039573,    0.003928,   0.0038987,   0.0038694,   0.0038401,   0.0038108,   0.0037814,   0.0037521,   0.0037228,   0.0036935,\n",
       "          0.0036642,   0.0036349,   0.0036056,   0.0035762,   0.0035469,   0.0035176,   0.0034883,    0.003459,   0.0034297,   0.0034004,    0.003371,   0.0033417,   0.0033124,   0.0032831,   0.0032538,   0.0032245,   0.0031952,   0.0031659,   0.0031365,   0.0031072,   0.0030779,   0.0030486,   0.0030193,\n",
       "            0.00299,   0.0029607,   0.0029313,    0.002902,   0.0028727,   0.0028434,   0.0028141,   0.0027848,   0.0027555,   0.0027262,   0.0026968,   0.0026675,   0.0026382,   0.0026089,   0.0025796,   0.0025503,    0.002521,   0.0024916,   0.0024623,    0.002433,   0.0024037,   0.0023744,   0.0023451,\n",
       "          0.0023158,   0.0022865,   0.0022571,   0.0022278,   0.0021985,   0.0021692,   0.0021399,   0.0021106,   0.0020813,   0.0020519,   0.0020226,   0.0019933,    0.001964,   0.0019347,   0.0019054,   0.0018761,   0.0018467,   0.0018174,   0.0017881,   0.0017588,   0.0017295,   0.0017002,   0.0016709,\n",
       "          0.0016416,   0.0016122,   0.0015829,   0.0015536,   0.0015243,    0.001495,   0.0014657,   0.0014364,    0.001407,   0.0013777,   0.0013484,   0.0013191,   0.0012898,   0.0012605,   0.0012312,   0.0012019,   0.0011725,   0.0011432,   0.0011139,   0.0010846,   0.0010553,    0.001026,  0.00099666,\n",
       "         0.00096734,  0.00093803,  0.00090872,   0.0008794,  0.00085009,  0.00082078,  0.00079146,  0.00076215,  0.00073284,  0.00070352,  0.00067421,   0.0006449,  0.00061558,  0.00058627,  0.00055696,  0.00052764,  0.00049833,  0.00046902,   0.0004397,  0.00041039,  0.00038108,  0.00035176,  0.00032245,\n",
       "         0.00029313,  0.00026382,  0.00023451,  0.00020519,  0.00017588,  0.00014657,  0.00011725,   8.794e-05,  5.8627e-05,  2.9313e-05,           0]]), 'Recall', 'Precision'], [array([          0,    0.001001,    0.002002,    0.003003,    0.004004,    0.005005,    0.006006,    0.007007,    0.008008,    0.009009,     0.01001,    0.011011,    0.012012,    0.013013,    0.014014,    0.015015,    0.016016,    0.017017,    0.018018,    0.019019,     0.02002,    0.021021,    0.022022,    0.023023,\n",
       "          0.024024,    0.025025,    0.026026,    0.027027,    0.028028,    0.029029,     0.03003,    0.031031,    0.032032,    0.033033,    0.034034,    0.035035,    0.036036,    0.037037,    0.038038,    0.039039,     0.04004,    0.041041,    0.042042,    0.043043,    0.044044,    0.045045,    0.046046,    0.047047,\n",
       "          0.048048,    0.049049,     0.05005,    0.051051,    0.052052,    0.053053,    0.054054,    0.055055,    0.056056,    0.057057,    0.058058,    0.059059,     0.06006,    0.061061,    0.062062,    0.063063,    0.064064,    0.065065,    0.066066,    0.067067,    0.068068,    0.069069,     0.07007,    0.071071,\n",
       "          0.072072,    0.073073,    0.074074,    0.075075,    0.076076,    0.077077,    0.078078,    0.079079,     0.08008,    0.081081,    0.082082,    0.083083,    0.084084,    0.085085,    0.086086,    0.087087,    0.088088,    0.089089,     0.09009,    0.091091,    0.092092,    0.093093,    0.094094,    0.095095,\n",
       "          0.096096,    0.097097,    0.098098,    0.099099,      0.1001,      0.1011,      0.1021,      0.1031,      0.1041,     0.10511,     0.10611,     0.10711,     0.10811,     0.10911,     0.11011,     0.11111,     0.11211,     0.11311,     0.11411,     0.11512,     0.11612,     0.11712,     0.11812,     0.11912,\n",
       "           0.12012,     0.12112,     0.12212,     0.12312,     0.12412,     0.12513,     0.12613,     0.12713,     0.12813,     0.12913,     0.13013,     0.13113,     0.13213,     0.13313,     0.13413,     0.13514,     0.13614,     0.13714,     0.13814,     0.13914,     0.14014,     0.14114,     0.14214,     0.14314,\n",
       "           0.14414,     0.14515,     0.14615,     0.14715,     0.14815,     0.14915,     0.15015,     0.15115,     0.15215,     0.15315,     0.15415,     0.15516,     0.15616,     0.15716,     0.15816,     0.15916,     0.16016,     0.16116,     0.16216,     0.16316,     0.16416,     0.16517,     0.16617,     0.16717,\n",
       "           0.16817,     0.16917,     0.17017,     0.17117,     0.17217,     0.17317,     0.17417,     0.17518,     0.17618,     0.17718,     0.17818,     0.17918,     0.18018,     0.18118,     0.18218,     0.18318,     0.18418,     0.18519,     0.18619,     0.18719,     0.18819,     0.18919,     0.19019,     0.19119,\n",
       "           0.19219,     0.19319,     0.19419,      0.1952,      0.1962,      0.1972,      0.1982,      0.1992,      0.2002,      0.2012,      0.2022,      0.2032,      0.2042,     0.20521,     0.20621,     0.20721,     0.20821,     0.20921,     0.21021,     0.21121,     0.21221,     0.21321,     0.21421,     0.21522,\n",
       "           0.21622,     0.21722,     0.21822,     0.21922,     0.22022,     0.22122,     0.22222,     0.22322,     0.22422,     0.22523,     0.22623,     0.22723,     0.22823,     0.22923,     0.23023,     0.23123,     0.23223,     0.23323,     0.23423,     0.23524,     0.23624,     0.23724,     0.23824,     0.23924,\n",
       "           0.24024,     0.24124,     0.24224,     0.24324,     0.24424,     0.24525,     0.24625,     0.24725,     0.24825,     0.24925,     0.25025,     0.25125,     0.25225,     0.25325,     0.25425,     0.25526,     0.25626,     0.25726,     0.25826,     0.25926,     0.26026,     0.26126,     0.26226,     0.26326,\n",
       "           0.26426,     0.26527,     0.26627,     0.26727,     0.26827,     0.26927,     0.27027,     0.27127,     0.27227,     0.27327,     0.27427,     0.27528,     0.27628,     0.27728,     0.27828,     0.27928,     0.28028,     0.28128,     0.28228,     0.28328,     0.28428,     0.28529,     0.28629,     0.28729,\n",
       "           0.28829,     0.28929,     0.29029,     0.29129,     0.29229,     0.29329,     0.29429,      0.2953,      0.2963,      0.2973,      0.2983,      0.2993,      0.3003,      0.3013,      0.3023,      0.3033,      0.3043,     0.30531,     0.30631,     0.30731,     0.30831,     0.30931,     0.31031,     0.31131,\n",
       "           0.31231,     0.31331,     0.31431,     0.31532,     0.31632,     0.31732,     0.31832,     0.31932,     0.32032,     0.32132,     0.32232,     0.32332,     0.32432,     0.32533,     0.32633,     0.32733,     0.32833,     0.32933,     0.33033,     0.33133,     0.33233,     0.33333,     0.33433,     0.33534,\n",
       "           0.33634,     0.33734,     0.33834,     0.33934,     0.34034,     0.34134,     0.34234,     0.34334,     0.34434,     0.34535,     0.34635,     0.34735,     0.34835,     0.34935,     0.35035,     0.35135,     0.35235,     0.35335,     0.35435,     0.35536,     0.35636,     0.35736,     0.35836,     0.35936,\n",
       "           0.36036,     0.36136,     0.36236,     0.36336,     0.36436,     0.36537,     0.36637,     0.36737,     0.36837,     0.36937,     0.37037,     0.37137,     0.37237,     0.37337,     0.37437,     0.37538,     0.37638,     0.37738,     0.37838,     0.37938,     0.38038,     0.38138,     0.38238,     0.38338,\n",
       "           0.38438,     0.38539,     0.38639,     0.38739,     0.38839,     0.38939,     0.39039,     0.39139,     0.39239,     0.39339,     0.39439,      0.3954,      0.3964,      0.3974,      0.3984,      0.3994,      0.4004,      0.4014,      0.4024,      0.4034,      0.4044,     0.40541,     0.40641,     0.40741,\n",
       "           0.40841,     0.40941,     0.41041,     0.41141,     0.41241,     0.41341,     0.41441,     0.41542,     0.41642,     0.41742,     0.41842,     0.41942,     0.42042,     0.42142,     0.42242,     0.42342,     0.42442,     0.42543,     0.42643,     0.42743,     0.42843,     0.42943,     0.43043,     0.43143,\n",
       "           0.43243,     0.43343,     0.43443,     0.43544,     0.43644,     0.43744,     0.43844,     0.43944,     0.44044,     0.44144,     0.44244,     0.44344,     0.44444,     0.44545,     0.44645,     0.44745,     0.44845,     0.44945,     0.45045,     0.45145,     0.45245,     0.45345,     0.45445,     0.45546,\n",
       "           0.45646,     0.45746,     0.45846,     0.45946,     0.46046,     0.46146,     0.46246,     0.46346,     0.46446,     0.46547,     0.46647,     0.46747,     0.46847,     0.46947,     0.47047,     0.47147,     0.47247,     0.47347,     0.47447,     0.47548,     0.47648,     0.47748,     0.47848,     0.47948,\n",
       "           0.48048,     0.48148,     0.48248,     0.48348,     0.48448,     0.48549,     0.48649,     0.48749,     0.48849,     0.48949,     0.49049,     0.49149,     0.49249,     0.49349,     0.49449,      0.4955,      0.4965,      0.4975,      0.4985,      0.4995,      0.5005,      0.5015,      0.5025,      0.5035,\n",
       "            0.5045,     0.50551,     0.50651,     0.50751,     0.50851,     0.50951,     0.51051,     0.51151,     0.51251,     0.51351,     0.51451,     0.51552,     0.51652,     0.51752,     0.51852,     0.51952,     0.52052,     0.52152,     0.52252,     0.52352,     0.52452,     0.52553,     0.52653,     0.52753,\n",
       "           0.52853,     0.52953,     0.53053,     0.53153,     0.53253,     0.53353,     0.53453,     0.53554,     0.53654,     0.53754,     0.53854,     0.53954,     0.54054,     0.54154,     0.54254,     0.54354,     0.54454,     0.54555,     0.54655,     0.54755,     0.54855,     0.54955,     0.55055,     0.55155,\n",
       "           0.55255,     0.55355,     0.55455,     0.55556,     0.55656,     0.55756,     0.55856,     0.55956,     0.56056,     0.56156,     0.56256,     0.56356,     0.56456,     0.56557,     0.56657,     0.56757,     0.56857,     0.56957,     0.57057,     0.57157,     0.57257,     0.57357,     0.57457,     0.57558,\n",
       "           0.57658,     0.57758,     0.57858,     0.57958,     0.58058,     0.58158,     0.58258,     0.58358,     0.58458,     0.58559,     0.58659,     0.58759,     0.58859,     0.58959,     0.59059,     0.59159,     0.59259,     0.59359,     0.59459,      0.5956,      0.5966,      0.5976,      0.5986,      0.5996,\n",
       "            0.6006,      0.6016,      0.6026,      0.6036,      0.6046,     0.60561,     0.60661,     0.60761,     0.60861,     0.60961,     0.61061,     0.61161,     0.61261,     0.61361,     0.61461,     0.61562,     0.61662,     0.61762,     0.61862,     0.61962,     0.62062,     0.62162,     0.62262,     0.62362,\n",
       "           0.62462,     0.62563,     0.62663,     0.62763,     0.62863,     0.62963,     0.63063,     0.63163,     0.63263,     0.63363,     0.63463,     0.63564,     0.63664,     0.63764,     0.63864,     0.63964,     0.64064,     0.64164,     0.64264,     0.64364,     0.64464,     0.64565,     0.64665,     0.64765,\n",
       "           0.64865,     0.64965,     0.65065,     0.65165,     0.65265,     0.65365,     0.65465,     0.65566,     0.65666,     0.65766,     0.65866,     0.65966,     0.66066,     0.66166,     0.66266,     0.66366,     0.66466,     0.66567,     0.66667,     0.66767,     0.66867,     0.66967,     0.67067,     0.67167,\n",
       "           0.67267,     0.67367,     0.67467,     0.67568,     0.67668,     0.67768,     0.67868,     0.67968,     0.68068,     0.68168,     0.68268,     0.68368,     0.68468,     0.68569,     0.68669,     0.68769,     0.68869,     0.68969,     0.69069,     0.69169,     0.69269,     0.69369,     0.69469,      0.6957,\n",
       "            0.6967,      0.6977,      0.6987,      0.6997,      0.7007,      0.7017,      0.7027,      0.7037,      0.7047,     0.70571,     0.70671,     0.70771,     0.70871,     0.70971,     0.71071,     0.71171,     0.71271,     0.71371,     0.71471,     0.71572,     0.71672,     0.71772,     0.71872,     0.71972,\n",
       "           0.72072,     0.72172,     0.72272,     0.72372,     0.72472,     0.72573,     0.72673,     0.72773,     0.72873,     0.72973,     0.73073,     0.73173,     0.73273,     0.73373,     0.73473,     0.73574,     0.73674,     0.73774,     0.73874,     0.73974,     0.74074,     0.74174,     0.74274,     0.74374,\n",
       "           0.74474,     0.74575,     0.74675,     0.74775,     0.74875,     0.74975,     0.75075,     0.75175,     0.75275,     0.75375,     0.75475,     0.75576,     0.75676,     0.75776,     0.75876,     0.75976,     0.76076,     0.76176,     0.76276,     0.76376,     0.76476,     0.76577,     0.76677,     0.76777,\n",
       "           0.76877,     0.76977,     0.77077,     0.77177,     0.77277,     0.77377,     0.77477,     0.77578,     0.77678,     0.77778,     0.77878,     0.77978,     0.78078,     0.78178,     0.78278,     0.78378,     0.78478,     0.78579,     0.78679,     0.78779,     0.78879,     0.78979,     0.79079,     0.79179,\n",
       "           0.79279,     0.79379,     0.79479,      0.7958,      0.7968,      0.7978,      0.7988,      0.7998,      0.8008,      0.8018,      0.8028,      0.8038,      0.8048,     0.80581,     0.80681,     0.80781,     0.80881,     0.80981,     0.81081,     0.81181,     0.81281,     0.81381,     0.81481,     0.81582,\n",
       "           0.81682,     0.81782,     0.81882,     0.81982,     0.82082,     0.82182,     0.82282,     0.82382,     0.82482,     0.82583,     0.82683,     0.82783,     0.82883,     0.82983,     0.83083,     0.83183,     0.83283,     0.83383,     0.83483,     0.83584,     0.83684,     0.83784,     0.83884,     0.83984,\n",
       "           0.84084,     0.84184,     0.84284,     0.84384,     0.84484,     0.84585,     0.84685,     0.84785,     0.84885,     0.84985,     0.85085,     0.85185,     0.85285,     0.85385,     0.85485,     0.85586,     0.85686,     0.85786,     0.85886,     0.85986,     0.86086,     0.86186,     0.86286,     0.86386,\n",
       "           0.86486,     0.86587,     0.86687,     0.86787,     0.86887,     0.86987,     0.87087,     0.87187,     0.87287,     0.87387,     0.87487,     0.87588,     0.87688,     0.87788,     0.87888,     0.87988,     0.88088,     0.88188,     0.88288,     0.88388,     0.88488,     0.88589,     0.88689,     0.88789,\n",
       "           0.88889,     0.88989,     0.89089,     0.89189,     0.89289,     0.89389,     0.89489,      0.8959,      0.8969,      0.8979,      0.8989,      0.8999,      0.9009,      0.9019,      0.9029,      0.9039,      0.9049,     0.90591,     0.90691,     0.90791,     0.90891,     0.90991,     0.91091,     0.91191,\n",
       "           0.91291,     0.91391,     0.91491,     0.91592,     0.91692,     0.91792,     0.91892,     0.91992,     0.92092,     0.92192,     0.92292,     0.92392,     0.92492,     0.92593,     0.92693,     0.92793,     0.92893,     0.92993,     0.93093,     0.93193,     0.93293,     0.93393,     0.93493,     0.93594,\n",
       "           0.93694,     0.93794,     0.93894,     0.93994,     0.94094,     0.94194,     0.94294,     0.94394,     0.94494,     0.94595,     0.94695,     0.94795,     0.94895,     0.94995,     0.95095,     0.95195,     0.95295,     0.95395,     0.95495,     0.95596,     0.95696,     0.95796,     0.95896,     0.95996,\n",
       "           0.96096,     0.96196,     0.96296,     0.96396,     0.96496,     0.96597,     0.96697,     0.96797,     0.96897,     0.96997,     0.97097,     0.97197,     0.97297,     0.97397,     0.97497,     0.97598,     0.97698,     0.97798,     0.97898,     0.97998,     0.98098,     0.98198,     0.98298,     0.98398,\n",
       "           0.98498,     0.98599,     0.98699,     0.98799,     0.98899,     0.98999,     0.99099,     0.99199,     0.99299,     0.99399,     0.99499,       0.996,       0.997,       0.998,       0.999,           1]), array([[   0.014151,    0.014151,    0.023669,    0.034947,     0.04612,    0.057058,    0.067714,     0.07806,    0.087767,    0.097393,     0.10675,     0.11654,     0.12466,     0.13263,     0.14119,      0.1499,     0.15658,     0.16398,      0.1718,      0.1796,     0.18602,     0.19291,     0.20077,\n",
       "            0.20849,     0.21699,     0.22542,     0.23075,     0.23355,     0.23988,     0.24648,     0.25242,     0.25616,      0.2624,     0.26572,     0.27047,     0.27523,     0.28074,     0.28688,     0.29194,     0.29627,     0.30212,      0.3034,     0.30517,     0.30891,     0.31077,     0.31655,\n",
       "            0.31774,     0.32145,     0.32491,     0.32656,     0.33018,     0.33399,     0.33394,     0.33596,     0.33827,     0.34119,     0.34335,     0.34699,      0.3473,      0.3493,     0.35091,     0.35498,     0.35621,      0.3562,     0.35831,     0.36161,     0.36423,     0.36617,     0.36881,\n",
       "            0.36993,     0.37301,     0.37457,     0.37777,     0.37796,     0.37673,     0.37897,     0.38098,     0.38116,     0.38427,     0.38649,     0.38746,     0.38751,     0.38756,     0.38686,     0.38857,     0.38922,     0.38938,     0.38791,     0.39063,     0.38963,     0.39097,     0.39339,\n",
       "            0.39385,     0.39298,     0.39078,     0.39069,     0.38662,     0.38732,     0.38934,     0.38636,      0.3862,     0.38604,     0.38703,     0.38681,     0.38485,     0.38363,      0.3844,     0.38459,     0.38209,     0.38327,     0.38218,     0.37958,     0.37833,     0.37804,     0.37727,\n",
       "            0.37152,     0.37363,     0.37361,     0.37164,     0.37092,     0.37018,     0.37054,     0.37017,     0.36899,     0.37033,     0.37059,     0.36982,     0.37117,     0.37291,     0.37062,     0.37282,      0.3741,     0.37229,     0.37136,     0.37063,     0.36903,     0.36694,     0.36757,\n",
       "             0.3664,     0.36258,     0.35966,     0.36059,     0.36273,     0.35852,      0.3583,      0.3557,     0.35441,     0.35076,     0.34941,     0.35046,     0.35033,     0.34785,     0.34641,     0.34227,     0.33776,     0.33722,     0.33594,     0.33638,     0.33474,     0.33342,     0.33151,\n",
       "            0.33045,     0.33038,     0.32771,     0.32813,     0.32844,     0.32501,     0.32519,     0.32538,     0.32354,     0.32271,     0.32271,     0.31794,     0.31316,      0.3131,      0.3129,     0.30796,     0.30626,     0.30704,      0.3062,     0.30492,     0.30502,     0.30231,     0.29478,\n",
       "            0.29308,      0.2921,     0.29156,     0.28993,     0.29042,     0.28792,       0.286,     0.28451,     0.28273,     0.28307,      0.2835,     0.28371,     0.28399,     0.28249,     0.28074,     0.27917,     0.27938,     0.27499,     0.27322,     0.27114,     0.27213,     0.27162,     0.27052,\n",
       "            0.26915,     0.26652,     0.26707,     0.26832,     0.26691,     0.26581,     0.26591,     0.26464,     0.25947,     0.25941,     0.25972,        0.26,     0.25808,     0.25557,      0.2565,     0.25736,     0.25764,      0.2561,     0.25527,     0.25497,     0.25117,     0.25057,     0.24825,\n",
       "            0.24593,      0.2461,     0.24628,     0.24652,     0.24418,     0.24448,     0.24497,     0.24569,     0.24472,     0.24111,     0.23926,     0.23643,     0.23317,     0.23349,     0.23129,     0.22548,     0.22286,     0.22189,     0.22092,     0.22065,     0.22086,     0.22095,     0.22105,\n",
       "            0.22114,     0.22055,     0.21868,     0.21769,     0.21644,     0.21475,     0.21244,     0.20996,     0.20883,     0.20776,     0.20791,     0.20805,     0.20817,     0.20828,     0.20839,     0.20687,     0.20564,     0.20436,     0.20313,     0.20326,     0.20339,     0.20357,     0.20391,\n",
       "            0.20129,     0.20056,     0.19983,     0.19911,     0.19883,     0.19901,     0.19938,      0.1996,     0.19795,     0.19602,     0.19471,     0.19404,     0.19422,     0.19488,     0.19197,     0.18856,     0.18657,     0.18634,     0.18651,     0.18669,       0.186,       0.184,     0.18307,\n",
       "            0.18221,     0.18135,     0.18115,     0.17885,     0.17518,     0.17345,     0.17112,     0.16769,     0.16646,     0.16573,     0.16501,     0.16428,     0.16399,      0.1641,     0.16406,     0.16229,     0.16091,     0.16018,     0.15945,     0.15872,     0.15518,     0.15492,     0.15313,\n",
       "            0.15237,     0.15248,     0.14917,     0.14647,     0.14677,     0.14327,       0.142,     0.14072,     0.14084,     0.14098,     0.14112,     0.13935,     0.13806,     0.13809,     0.13812,     0.13814,     0.13817,      0.1382,     0.13822,     0.13825,     0.13828,     0.13386,     0.13222,\n",
       "            0.13235,     0.13113,     0.12763,     0.12401,     0.12173,     0.11985,     0.11865,     0.11745,     0.11667,     0.11678,     0.11664,     0.11611,     0.11558,     0.11505,     0.11451,     0.11398,     0.11314,     0.11147,      0.1071,     0.10715,      0.1072,     0.10725,     0.10427,\n",
       "            0.10241,     0.10072,    0.095481,    0.093604,      0.0919,    0.090756,    0.090772,    0.090788,    0.090804,     0.09082,    0.090836,    0.090852,    0.090867,    0.090883,    0.090899,    0.090916,    0.090939,    0.090961,    0.090982,    0.091004,    0.091026,    0.091047,    0.091069,\n",
       "            0.09111,    0.091152,    0.091192,    0.091094,    0.089845,    0.088594,    0.087706,    0.087312,    0.086918,    0.086524,     0.08613,    0.085735,    0.085341,    0.084946,    0.084551,    0.081177,     0.08123,    0.081166,    0.080651,    0.080136,     0.07962,    0.079104,    0.078589,\n",
       "           0.078072,    0.072296,    0.070293,    0.069121,    0.067947,    0.067356,    0.066994,    0.066632,     0.06627,    0.065908,    0.065546,    0.065184,    0.064822,    0.064459,    0.064173,    0.064182,    0.064191,    0.064199,    0.064208,    0.064217,    0.064225,    0.064234,    0.064242,\n",
       "           0.064251,    0.064259,    0.064267,    0.064276,    0.064284,    0.064294,    0.064305,    0.064316,    0.064327,    0.064338,    0.064349,    0.064359,     0.06437,    0.064381,    0.064391,    0.064379,    0.064015,     0.06365,    0.063286,    0.062921,    0.062557,    0.062192,    0.061827,\n",
       "           0.061462,    0.061097,    0.060541,    0.059828,    0.059115,    0.058401,    0.057686,    0.057569,     0.05759,    0.057612,    0.057633,    0.057653,    0.054812,    0.054169,    0.054189,    0.054209,    0.054229,    0.054248,    0.054282,    0.054316,    0.054305,    0.050817,    0.050825,\n",
       "           0.050832,     0.05084,    0.050847,    0.050855,    0.050862,    0.050869,    0.050876,    0.050884,    0.050891,    0.050898,    0.050905,    0.050914,    0.050928,    0.050942,    0.050956,    0.050969,    0.050983,    0.050996,    0.050047,    0.048224,    0.046922,    0.046008,    0.045093,\n",
       "           0.044177,    0.043568,     0.04311,    0.042651,    0.042192,    0.041733,    0.041274,    0.040814,    0.040355,    0.039838,    0.039311,    0.038785,    0.038259,    0.037732,    0.037205,    0.036663,    0.035739,    0.034815,    0.033889,    0.033033,    0.032621,    0.032209,    0.031796,\n",
       "           0.031384,    0.030971,    0.030558,    0.030146,    0.029733,    0.028806,    0.026943,    0.025832,    0.025836,     0.02584,    0.025844,    0.025848,    0.025852,    0.025856,    0.025859,    0.025863,    0.025867,     0.02587,    0.025874,    0.025877,    0.025884,    0.025891,    0.025899,\n",
       "           0.025906,    0.025912,    0.025919,    0.025925,    0.025533,    0.025092,     0.02465,    0.024209,    0.023767,    0.023325,    0.022883,    0.022441,    0.021136,    0.019252,    0.016138,    0.014842,    0.014758,    0.014675,    0.014592,    0.014508,    0.014425,    0.014342,    0.014258,\n",
       "           0.014175,    0.014092,    0.014008,    0.013925,    0.013842,    0.013758,    0.013675,    0.013592,    0.013508,    0.013425,    0.013341,    0.013258,    0.013175,    0.013091,    0.013008,    0.012924,    0.012841,    0.012757,    0.012674,     0.01259,    0.012507,    0.012423,     0.01234,\n",
       "           0.012256,    0.012173,    0.012089,    0.012006,    0.011922,    0.011839,    0.011755,    0.011672,    0.011588,    0.011505,    0.011421,    0.011338,    0.011254,    0.011168,    0.011078,    0.010987,    0.010897,    0.010806,    0.010715,    0.010625,    0.010534,    0.010444,    0.010353,\n",
       "           0.010262,    0.010172,    0.010081,   0.0099904,   0.0098998,   0.0098091,   0.0097184,   0.0096277,    0.009537,   0.0094463,   0.0093556,   0.0092649,   0.0091741,   0.0090834,   0.0089926,   0.0089019,   0.0088111,   0.0087203,   0.0086295,   0.0085387,   0.0084479,   0.0083571,   0.0082663,\n",
       "          0.0081755,   0.0080847,   0.0079938,    0.007903,   0.0078121,   0.0077212,   0.0076304,   0.0075395,   0.0074353,   0.0073013,   0.0071674,   0.0070334,   0.0068993,   0.0067653,   0.0066312,   0.0064972,   0.0063631,    0.006229,   0.0060949,   0.0059607,   0.0058265,   0.0056924,   0.0055582,\n",
       "           0.005424,   0.0052897,   0.0051555,   0.0050212,   0.0048869,   0.0047526,   0.0046183,   0.0044839,   0.0043496,   0.0042152,   0.0040808,   0.0039464,    0.003812,           0,           0,           0,           0,           0,           0,           0,           0,           0,           0,\n",
       "                  0,           0,           0,           0,           0,           0,           0,           0,           0,           0,           0,           0,           0,           0,           0,           0,           0,           0,           0,           0,           0,           0,           0,\n",
       "                  0,           0,           0,           0,           0,           0,           0,           0,           0,           0,           0,           0,           0,           0,           0,           0,           0,           0,           0,           0,           0,           0,           0,\n",
       "                  0,           0,           0,           0,           0,           0,           0,           0,           0,           0,           0,           0,           0,           0,           0,           0,           0,           0,           0,           0,           0,           0,           0,\n",
       "                  0,           0,           0,           0,           0,           0,           0,           0,           0,           0,           0,           0,           0,           0,           0,           0,           0,           0,           0,           0,           0,           0,           0,\n",
       "                  0,           0,           0,           0,           0,           0,           0,           0,           0,           0,           0,           0,           0,           0,           0,           0,           0,           0,           0,           0,           0,           0,           0,\n",
       "                  0,           0,           0,           0,           0,           0,           0,           0,           0,           0,           0,           0,           0,           0,           0,           0,           0,           0,           0,           0,           0,           0,           0,\n",
       "                  0,           0,           0,           0,           0,           0,           0,           0,           0,           0,           0,           0,           0,           0,           0,           0,           0,           0,           0,           0,           0,           0,           0,\n",
       "                  0,           0,           0,           0,           0,           0,           0,           0,           0,           0,           0,           0,           0,           0,           0,           0,           0,           0,           0,           0,           0,           0,           0,\n",
       "                  0,           0,           0,           0,           0,           0,           0,           0,           0,           0,           0,           0,           0,           0,           0,           0,           0,           0,           0,           0,           0,           0,           0,\n",
       "                  0,           0,           0,           0,           0,           0,           0,           0,           0,           0,           0,           0,           0,           0,           0,           0,           0,           0,           0,           0,           0,           0,           0,\n",
       "                  0,           0,           0,           0,           0,           0,           0,           0,           0,           0,           0,           0,           0,           0,           0,           0,           0,           0,           0,           0,           0,           0,           0,\n",
       "                  0,           0,           0,           0,           0,           0,           0,           0,           0,           0,           0,           0,           0,           0,           0,           0,           0,           0,           0,           0,           0,           0,           0,\n",
       "                  0,           0,           0,           0,           0,           0,           0,           0,           0,           0,           0,           0,           0,           0,           0,           0,           0,           0,           0,           0,           0,           0,           0,\n",
       "                  0,           0,           0,           0,           0,           0,           0,           0,           0,           0,           0]]), 'Confidence', 'F1'], [array([          0,    0.001001,    0.002002,    0.003003,    0.004004,    0.005005,    0.006006,    0.007007,    0.008008,    0.009009,     0.01001,    0.011011,    0.012012,    0.013013,    0.014014,    0.015015,    0.016016,    0.017017,    0.018018,    0.019019,     0.02002,    0.021021,    0.022022,    0.023023,\n",
       "          0.024024,    0.025025,    0.026026,    0.027027,    0.028028,    0.029029,     0.03003,    0.031031,    0.032032,    0.033033,    0.034034,    0.035035,    0.036036,    0.037037,    0.038038,    0.039039,     0.04004,    0.041041,    0.042042,    0.043043,    0.044044,    0.045045,    0.046046,    0.047047,\n",
       "          0.048048,    0.049049,     0.05005,    0.051051,    0.052052,    0.053053,    0.054054,    0.055055,    0.056056,    0.057057,    0.058058,    0.059059,     0.06006,    0.061061,    0.062062,    0.063063,    0.064064,    0.065065,    0.066066,    0.067067,    0.068068,    0.069069,     0.07007,    0.071071,\n",
       "          0.072072,    0.073073,    0.074074,    0.075075,    0.076076,    0.077077,    0.078078,    0.079079,     0.08008,    0.081081,    0.082082,    0.083083,    0.084084,    0.085085,    0.086086,    0.087087,    0.088088,    0.089089,     0.09009,    0.091091,    0.092092,    0.093093,    0.094094,    0.095095,\n",
       "          0.096096,    0.097097,    0.098098,    0.099099,      0.1001,      0.1011,      0.1021,      0.1031,      0.1041,     0.10511,     0.10611,     0.10711,     0.10811,     0.10911,     0.11011,     0.11111,     0.11211,     0.11311,     0.11411,     0.11512,     0.11612,     0.11712,     0.11812,     0.11912,\n",
       "           0.12012,     0.12112,     0.12212,     0.12312,     0.12412,     0.12513,     0.12613,     0.12713,     0.12813,     0.12913,     0.13013,     0.13113,     0.13213,     0.13313,     0.13413,     0.13514,     0.13614,     0.13714,     0.13814,     0.13914,     0.14014,     0.14114,     0.14214,     0.14314,\n",
       "           0.14414,     0.14515,     0.14615,     0.14715,     0.14815,     0.14915,     0.15015,     0.15115,     0.15215,     0.15315,     0.15415,     0.15516,     0.15616,     0.15716,     0.15816,     0.15916,     0.16016,     0.16116,     0.16216,     0.16316,     0.16416,     0.16517,     0.16617,     0.16717,\n",
       "           0.16817,     0.16917,     0.17017,     0.17117,     0.17217,     0.17317,     0.17417,     0.17518,     0.17618,     0.17718,     0.17818,     0.17918,     0.18018,     0.18118,     0.18218,     0.18318,     0.18418,     0.18519,     0.18619,     0.18719,     0.18819,     0.18919,     0.19019,     0.19119,\n",
       "           0.19219,     0.19319,     0.19419,      0.1952,      0.1962,      0.1972,      0.1982,      0.1992,      0.2002,      0.2012,      0.2022,      0.2032,      0.2042,     0.20521,     0.20621,     0.20721,     0.20821,     0.20921,     0.21021,     0.21121,     0.21221,     0.21321,     0.21421,     0.21522,\n",
       "           0.21622,     0.21722,     0.21822,     0.21922,     0.22022,     0.22122,     0.22222,     0.22322,     0.22422,     0.22523,     0.22623,     0.22723,     0.22823,     0.22923,     0.23023,     0.23123,     0.23223,     0.23323,     0.23423,     0.23524,     0.23624,     0.23724,     0.23824,     0.23924,\n",
       "           0.24024,     0.24124,     0.24224,     0.24324,     0.24424,     0.24525,     0.24625,     0.24725,     0.24825,     0.24925,     0.25025,     0.25125,     0.25225,     0.25325,     0.25425,     0.25526,     0.25626,     0.25726,     0.25826,     0.25926,     0.26026,     0.26126,     0.26226,     0.26326,\n",
       "           0.26426,     0.26527,     0.26627,     0.26727,     0.26827,     0.26927,     0.27027,     0.27127,     0.27227,     0.27327,     0.27427,     0.27528,     0.27628,     0.27728,     0.27828,     0.27928,     0.28028,     0.28128,     0.28228,     0.28328,     0.28428,     0.28529,     0.28629,     0.28729,\n",
       "           0.28829,     0.28929,     0.29029,     0.29129,     0.29229,     0.29329,     0.29429,      0.2953,      0.2963,      0.2973,      0.2983,      0.2993,      0.3003,      0.3013,      0.3023,      0.3033,      0.3043,     0.30531,     0.30631,     0.30731,     0.30831,     0.30931,     0.31031,     0.31131,\n",
       "           0.31231,     0.31331,     0.31431,     0.31532,     0.31632,     0.31732,     0.31832,     0.31932,     0.32032,     0.32132,     0.32232,     0.32332,     0.32432,     0.32533,     0.32633,     0.32733,     0.32833,     0.32933,     0.33033,     0.33133,     0.33233,     0.33333,     0.33433,     0.33534,\n",
       "           0.33634,     0.33734,     0.33834,     0.33934,     0.34034,     0.34134,     0.34234,     0.34334,     0.34434,     0.34535,     0.34635,     0.34735,     0.34835,     0.34935,     0.35035,     0.35135,     0.35235,     0.35335,     0.35435,     0.35536,     0.35636,     0.35736,     0.35836,     0.35936,\n",
       "           0.36036,     0.36136,     0.36236,     0.36336,     0.36436,     0.36537,     0.36637,     0.36737,     0.36837,     0.36937,     0.37037,     0.37137,     0.37237,     0.37337,     0.37437,     0.37538,     0.37638,     0.37738,     0.37838,     0.37938,     0.38038,     0.38138,     0.38238,     0.38338,\n",
       "           0.38438,     0.38539,     0.38639,     0.38739,     0.38839,     0.38939,     0.39039,     0.39139,     0.39239,     0.39339,     0.39439,      0.3954,      0.3964,      0.3974,      0.3984,      0.3994,      0.4004,      0.4014,      0.4024,      0.4034,      0.4044,     0.40541,     0.40641,     0.40741,\n",
       "           0.40841,     0.40941,     0.41041,     0.41141,     0.41241,     0.41341,     0.41441,     0.41542,     0.41642,     0.41742,     0.41842,     0.41942,     0.42042,     0.42142,     0.42242,     0.42342,     0.42442,     0.42543,     0.42643,     0.42743,     0.42843,     0.42943,     0.43043,     0.43143,\n",
       "           0.43243,     0.43343,     0.43443,     0.43544,     0.43644,     0.43744,     0.43844,     0.43944,     0.44044,     0.44144,     0.44244,     0.44344,     0.44444,     0.44545,     0.44645,     0.44745,     0.44845,     0.44945,     0.45045,     0.45145,     0.45245,     0.45345,     0.45445,     0.45546,\n",
       "           0.45646,     0.45746,     0.45846,     0.45946,     0.46046,     0.46146,     0.46246,     0.46346,     0.46446,     0.46547,     0.46647,     0.46747,     0.46847,     0.46947,     0.47047,     0.47147,     0.47247,     0.47347,     0.47447,     0.47548,     0.47648,     0.47748,     0.47848,     0.47948,\n",
       "           0.48048,     0.48148,     0.48248,     0.48348,     0.48448,     0.48549,     0.48649,     0.48749,     0.48849,     0.48949,     0.49049,     0.49149,     0.49249,     0.49349,     0.49449,      0.4955,      0.4965,      0.4975,      0.4985,      0.4995,      0.5005,      0.5015,      0.5025,      0.5035,\n",
       "            0.5045,     0.50551,     0.50651,     0.50751,     0.50851,     0.50951,     0.51051,     0.51151,     0.51251,     0.51351,     0.51451,     0.51552,     0.51652,     0.51752,     0.51852,     0.51952,     0.52052,     0.52152,     0.52252,     0.52352,     0.52452,     0.52553,     0.52653,     0.52753,\n",
       "           0.52853,     0.52953,     0.53053,     0.53153,     0.53253,     0.53353,     0.53453,     0.53554,     0.53654,     0.53754,     0.53854,     0.53954,     0.54054,     0.54154,     0.54254,     0.54354,     0.54454,     0.54555,     0.54655,     0.54755,     0.54855,     0.54955,     0.55055,     0.55155,\n",
       "           0.55255,     0.55355,     0.55455,     0.55556,     0.55656,     0.55756,     0.55856,     0.55956,     0.56056,     0.56156,     0.56256,     0.56356,     0.56456,     0.56557,     0.56657,     0.56757,     0.56857,     0.56957,     0.57057,     0.57157,     0.57257,     0.57357,     0.57457,     0.57558,\n",
       "           0.57658,     0.57758,     0.57858,     0.57958,     0.58058,     0.58158,     0.58258,     0.58358,     0.58458,     0.58559,     0.58659,     0.58759,     0.58859,     0.58959,     0.59059,     0.59159,     0.59259,     0.59359,     0.59459,      0.5956,      0.5966,      0.5976,      0.5986,      0.5996,\n",
       "            0.6006,      0.6016,      0.6026,      0.6036,      0.6046,     0.60561,     0.60661,     0.60761,     0.60861,     0.60961,     0.61061,     0.61161,     0.61261,     0.61361,     0.61461,     0.61562,     0.61662,     0.61762,     0.61862,     0.61962,     0.62062,     0.62162,     0.62262,     0.62362,\n",
       "           0.62462,     0.62563,     0.62663,     0.62763,     0.62863,     0.62963,     0.63063,     0.63163,     0.63263,     0.63363,     0.63463,     0.63564,     0.63664,     0.63764,     0.63864,     0.63964,     0.64064,     0.64164,     0.64264,     0.64364,     0.64464,     0.64565,     0.64665,     0.64765,\n",
       "           0.64865,     0.64965,     0.65065,     0.65165,     0.65265,     0.65365,     0.65465,     0.65566,     0.65666,     0.65766,     0.65866,     0.65966,     0.66066,     0.66166,     0.66266,     0.66366,     0.66466,     0.66567,     0.66667,     0.66767,     0.66867,     0.66967,     0.67067,     0.67167,\n",
       "           0.67267,     0.67367,     0.67467,     0.67568,     0.67668,     0.67768,     0.67868,     0.67968,     0.68068,     0.68168,     0.68268,     0.68368,     0.68468,     0.68569,     0.68669,     0.68769,     0.68869,     0.68969,     0.69069,     0.69169,     0.69269,     0.69369,     0.69469,      0.6957,\n",
       "            0.6967,      0.6977,      0.6987,      0.6997,      0.7007,      0.7017,      0.7027,      0.7037,      0.7047,     0.70571,     0.70671,     0.70771,     0.70871,     0.70971,     0.71071,     0.71171,     0.71271,     0.71371,     0.71471,     0.71572,     0.71672,     0.71772,     0.71872,     0.71972,\n",
       "           0.72072,     0.72172,     0.72272,     0.72372,     0.72472,     0.72573,     0.72673,     0.72773,     0.72873,     0.72973,     0.73073,     0.73173,     0.73273,     0.73373,     0.73473,     0.73574,     0.73674,     0.73774,     0.73874,     0.73974,     0.74074,     0.74174,     0.74274,     0.74374,\n",
       "           0.74474,     0.74575,     0.74675,     0.74775,     0.74875,     0.74975,     0.75075,     0.75175,     0.75275,     0.75375,     0.75475,     0.75576,     0.75676,     0.75776,     0.75876,     0.75976,     0.76076,     0.76176,     0.76276,     0.76376,     0.76476,     0.76577,     0.76677,     0.76777,\n",
       "           0.76877,     0.76977,     0.77077,     0.77177,     0.77277,     0.77377,     0.77477,     0.77578,     0.77678,     0.77778,     0.77878,     0.77978,     0.78078,     0.78178,     0.78278,     0.78378,     0.78478,     0.78579,     0.78679,     0.78779,     0.78879,     0.78979,     0.79079,     0.79179,\n",
       "           0.79279,     0.79379,     0.79479,      0.7958,      0.7968,      0.7978,      0.7988,      0.7998,      0.8008,      0.8018,      0.8028,      0.8038,      0.8048,     0.80581,     0.80681,     0.80781,     0.80881,     0.80981,     0.81081,     0.81181,     0.81281,     0.81381,     0.81481,     0.81582,\n",
       "           0.81682,     0.81782,     0.81882,     0.81982,     0.82082,     0.82182,     0.82282,     0.82382,     0.82482,     0.82583,     0.82683,     0.82783,     0.82883,     0.82983,     0.83083,     0.83183,     0.83283,     0.83383,     0.83483,     0.83584,     0.83684,     0.83784,     0.83884,     0.83984,\n",
       "           0.84084,     0.84184,     0.84284,     0.84384,     0.84484,     0.84585,     0.84685,     0.84785,     0.84885,     0.84985,     0.85085,     0.85185,     0.85285,     0.85385,     0.85485,     0.85586,     0.85686,     0.85786,     0.85886,     0.85986,     0.86086,     0.86186,     0.86286,     0.86386,\n",
       "           0.86486,     0.86587,     0.86687,     0.86787,     0.86887,     0.86987,     0.87087,     0.87187,     0.87287,     0.87387,     0.87487,     0.87588,     0.87688,     0.87788,     0.87888,     0.87988,     0.88088,     0.88188,     0.88288,     0.88388,     0.88488,     0.88589,     0.88689,     0.88789,\n",
       "           0.88889,     0.88989,     0.89089,     0.89189,     0.89289,     0.89389,     0.89489,      0.8959,      0.8969,      0.8979,      0.8989,      0.8999,      0.9009,      0.9019,      0.9029,      0.9039,      0.9049,     0.90591,     0.90691,     0.90791,     0.90891,     0.90991,     0.91091,     0.91191,\n",
       "           0.91291,     0.91391,     0.91491,     0.91592,     0.91692,     0.91792,     0.91892,     0.91992,     0.92092,     0.92192,     0.92292,     0.92392,     0.92492,     0.92593,     0.92693,     0.92793,     0.92893,     0.92993,     0.93093,     0.93193,     0.93293,     0.93393,     0.93493,     0.93594,\n",
       "           0.93694,     0.93794,     0.93894,     0.93994,     0.94094,     0.94194,     0.94294,     0.94394,     0.94494,     0.94595,     0.94695,     0.94795,     0.94895,     0.94995,     0.95095,     0.95195,     0.95295,     0.95395,     0.95495,     0.95596,     0.95696,     0.95796,     0.95896,     0.95996,\n",
       "           0.96096,     0.96196,     0.96296,     0.96396,     0.96496,     0.96597,     0.96697,     0.96797,     0.96897,     0.96997,     0.97097,     0.97197,     0.97297,     0.97397,     0.97497,     0.97598,     0.97698,     0.97798,     0.97898,     0.97998,     0.98098,     0.98198,     0.98298,     0.98398,\n",
       "           0.98498,     0.98599,     0.98699,     0.98799,     0.98899,     0.98999,     0.99099,     0.99199,     0.99299,     0.99399,     0.99499,       0.996,       0.997,       0.998,       0.999,           1]), array([[  0.0071425,   0.0071425,    0.012033,    0.017917,    0.023852,    0.029777,    0.035654,    0.041452,    0.047036,    0.052621,    0.058169,    0.064038,    0.069015,    0.073983,    0.079412,    0.084963,    0.089279,    0.094165,    0.099408,     0.10466,     0.10922,     0.11401,     0.11953,\n",
       "            0.12504,     0.13121,     0.13743,      0.1416,     0.14433,     0.14931,     0.15446,     0.15941,     0.16309,     0.16833,     0.17139,     0.17553,     0.17973,     0.18483,      0.1904,     0.19509,      0.1992,       0.205,     0.20691,     0.20907,     0.21314,     0.21519,     0.22077,\n",
       "            0.22283,     0.22681,     0.23093,     0.23364,     0.23772,     0.24169,     0.24278,     0.24612,     0.25001,     0.25396,     0.25728,     0.26139,     0.26322,     0.26603,     0.26896,     0.27377,     0.27626,     0.27751,     0.28067,     0.28537,     0.28865,     0.29175,     0.29648,\n",
       "            0.29936,     0.30414,     0.30699,      0.3121,     0.31452,     0.31649,     0.31967,     0.32424,     0.32556,     0.33109,     0.33542,     0.33896,     0.34118,     0.34346,     0.34577,     0.34971,     0.35321,     0.35474,     0.35485,     0.35942,      0.3604,     0.36408,      0.3683,\n",
       "            0.37203,     0.37347,      0.3741,     0.37586,     0.37443,     0.37575,     0.37963,     0.37902,     0.38224,     0.38374,     0.38756,     0.39096,     0.39079,     0.39242,     0.39402,     0.39653,     0.39707,     0.40243,     0.40462,     0.40349,     0.40611,     0.40728,       0.408,\n",
       "            0.40475,     0.40977,     0.41198,     0.41315,     0.41301,      0.4152,     0.41907,     0.42108,     0.42114,     0.42466,     0.42856,     0.42972,     0.43338,     0.43815,     0.43872,     0.44494,     0.44859,      0.4508,     0.45345,      0.4536,     0.45676,     0.46289,     0.46535,\n",
       "            0.46739,     0.46671,     0.46638,     0.46952,     0.47686,     0.47457,     0.47657,     0.47784,     0.47851,     0.47605,     0.47662,     0.48056,     0.48153,     0.48222,     0.48258,     0.47945,     0.47547,     0.47752,     0.47638,     0.47999,     0.47919,     0.48064,     0.47892,\n",
       "            0.48065,     0.48168,     0.48424,      0.4861,     0.48746,     0.48692,     0.48775,     0.48858,     0.48784,     0.48919,     0.49372,     0.48929,      0.4848,     0.48677,     0.48921,     0.48768,     0.48748,     0.49143,     0.49761,     0.49637,     0.49967,     0.50085,     0.49704,\n",
       "            0.49718,     0.49621,      0.4965,     0.49792,     0.50084,     0.49953,     0.49951,     0.49964,     0.50058,      0.5027,     0.50543,     0.50676,     0.50854,     0.51153,     0.51469,     0.51582,     0.51725,     0.51534,     0.51647,     0.51614,     0.52342,     0.52584,     0.52681,\n",
       "            0.52813,     0.52809,     0.53242,     0.54552,     0.54858,     0.55769,     0.56303,     0.56167,     0.55608,     0.55944,     0.56231,     0.56496,     0.56382,     0.56534,      0.5746,     0.58329,     0.58619,     0.58494,     0.58534,     0.58726,     0.58308,     0.58442,     0.58439,\n",
       "            0.58452,     0.58652,     0.58852,     0.59133,     0.59142,     0.59496,     0.60092,     0.60965,     0.61065,     0.60663,     0.60877,     0.60554,     0.60411,     0.60842,     0.61196,     0.60599,     0.60284,     0.60166,     0.60048,     0.60188,     0.60505,     0.60645,     0.60785,\n",
       "            0.60926,     0.60938,      0.6071,     0.61071,     0.60917,     0.60708,     0.60418,     0.60105,     0.59959,     0.59835,      0.6008,     0.60326,     0.60522,     0.60709,     0.60897,     0.60713,     0.61074,     0.60908,     0.60755,      0.6099,     0.61225,     0.61557,     0.63043,\n",
       "            0.62708,     0.62613,     0.62519,     0.62424,     0.62557,     0.62922,     0.63661,     0.64105,     0.64062,     0.63812,     0.63641,     0.63707,     0.64099,     0.65575,     0.65214,     0.64762,     0.64495,     0.64789,     0.65214,     0.65648,     0.65803,     0.65535,     0.65408,\n",
       "             0.6529,     0.65173,      0.6566,     0.65554,      0.6504,     0.64791,     0.65212,     0.64709,     0.65312,     0.65204,     0.65096,     0.64987,     0.65117,     0.65467,     0.65768,     0.65501,     0.65291,     0.65178,     0.65065,     0.64952,     0.64592,     0.65206,     0.64919,\n",
       "            0.64995,     0.65375,     0.65162,     0.64877,     0.66078,     0.66062,     0.65845,     0.65629,     0.66225,     0.66841,     0.67471,     0.67433,     0.67289,     0.67416,     0.67544,     0.67672,     0.67799,     0.67927,     0.68054,     0.68182,      0.6831,     0.68706,     0.68497,\n",
       "            0.69213,     0.69417,     0.70047,       0.694,     0.68978,     0.68625,     0.68392,     0.68158,     0.68232,     0.68943,     0.69349,     0.69244,     0.69139,     0.69035,      0.6893,     0.68826,     0.68656,     0.68315,     0.67525,     0.67934,     0.68343,     0.68753,     0.68244,\n",
       "            0.67827,     0.67448,     0.66198,     0.65732,     0.65295,     0.65054,     0.65221,     0.65388,     0.65554,     0.65721,     0.65888,     0.66054,     0.66221,     0.66388,     0.66554,     0.66745,     0.66985,     0.67224,     0.67464,     0.67704,     0.67944,     0.68184,     0.68426,\n",
       "            0.68899,     0.69373,     0.69847,     0.70237,     0.69929,     0.69622,     0.69401,     0.69299,     0.69197,     0.69094,     0.68992,      0.6889,     0.68787,     0.68685,     0.68583,     0.68326,      0.6909,     0.69667,     0.69524,      0.6938,     0.69236,     0.69092,     0.68948,\n",
       "            0.68805,     0.67059,     0.66414,     0.66021,     0.65628,     0.65424,     0.65295,     0.65165,     0.65036,     0.64906,     0.64777,     0.64648,     0.64518,     0.64389,     0.64322,       0.645,     0.64677,     0.64855,     0.65032,      0.6521,     0.65387,     0.65565,     0.65742,\n",
       "             0.6592,     0.66097,     0.66275,     0.66452,      0.6663,     0.66856,     0.67095,     0.67334,     0.67573,     0.67811,      0.6805,     0.68289,     0.68528,     0.68767,     0.69006,     0.69223,     0.69094,     0.68964,     0.68835,     0.68705,     0.68576,     0.68447,     0.68317,\n",
       "            0.68188,     0.68059,      0.6785,     0.67577,     0.67304,      0.6703,     0.66757,     0.69999,     0.70648,     0.71296,     0.71944,     0.72592,     0.71673,     0.72026,     0.72758,     0.73491,     0.74223,     0.74955,     0.76266,     0.77614,     0.78933,     0.77791,     0.78152,\n",
       "            0.78512,     0.78873,     0.79234,     0.79595,     0.79955,     0.80316,     0.80677,     0.81037,     0.81398,     0.81759,      0.8212,     0.82619,     0.83373,     0.84127,      0.8488,     0.85634,     0.86388,     0.87142,     0.87276,     0.86849,     0.86527,     0.86283,     0.86039,\n",
       "            0.85795,      0.8562,     0.85479,     0.85338,     0.85197,     0.85057,     0.84916,     0.84775,     0.84634,     0.84453,     0.84265,     0.84077,      0.8389,     0.83702,     0.83514,     0.83319,     0.82931,     0.82542,     0.82154,      0.8179,     0.81583,     0.81376,     0.81169,\n",
       "            0.80962,     0.80755,     0.80548,     0.80341,     0.80134,     0.79596,     0.78457,     0.78087,     0.78854,      0.7962,     0.80387,     0.81153,      0.8192,     0.82686,     0.83453,      0.8422,     0.84986,     0.85753,     0.86519,     0.87286,     0.88819,      0.9065,      0.9248,\n",
       "             0.9431,     0.96141,     0.97971,     0.99802,           1,           1,           1,           1,           1,           1,           1,           1,           1,           1,           1,           1,           1,           1,           1,           1,           1,           1,           1,\n",
       "                  1,           1,           1,           1,           1,           1,           1,           1,           1,           1,           1,           1,           1,           1,           1,           1,           1,           1,           1,           1,           1,           1,           1,\n",
       "                  1,           1,           1,           1,           1,           1,           1,           1,           1,           1,           1,           1,           1,           1,           1,           1,           1,           1,           1,           1,           1,           1,           1,\n",
       "                  1,           1,           1,           1,           1,           1,           1,           1,           1,           1,           1,           1,           1,           1,           1,           1,           1,           1,           1,           1,           1,           1,           1,\n",
       "                  1,           1,           1,           1,           1,           1,           1,           1,           1,           1,           1,           1,           1,           1,           1,           1,           1,           1,           1,           1,           1,           1,           1,\n",
       "                  1,           1,           1,           1,           1,           1,           1,           1,           1,           1,           1,           1,           1,           1,           1,           1,           1,           1,           1,           1,           1,           1,           1,\n",
       "                  1,           1,           1,           1,           1,           1,           1,           1,           1,           1,           1,           1,           1,           1,           1,           1,           1,           1,           1,           1,           1,           1,           1,\n",
       "                  1,           1,           1,           1,           1,           1,           1,           1,           1,           1,           1,           1,           1,           1,           1,           1,           1,           1,           1,           1,           1,           1,           1,\n",
       "                  1,           1,           1,           1,           1,           1,           1,           1,           1,           1,           1,           1,           1,           1,           1,           1,           1,           1,           1,           1,           1,           1,           1,\n",
       "                  1,           1,           1,           1,           1,           1,           1,           1,           1,           1,           1,           1,           1,           1,           1,           1,           1,           1,           1,           1,           1,           1,           1,\n",
       "                  1,           1,           1,           1,           1,           1,           1,           1,           1,           1,           1,           1,           1,           1,           1,           1,           1,           1,           1,           1,           1,           1,           1,\n",
       "                  1,           1,           1,           1,           1,           1,           1,           1,           1,           1,           1,           1,           1,           1,           1,           1,           1,           1,           1,           1,           1,           1,           1,\n",
       "                  1,           1,           1,           1,           1,           1,           1,           1,           1,           1,           1,           1,           1,           1,           1,           1,           1,           1,           1,           1,           1,           1,           1,\n",
       "                  1,           1,           1,           1,           1,           1,           1,           1,           1,           1,           1,           1,           1,           1,           1,           1,           1,           1,           1,           1,           1,           1,           1,\n",
       "                  1,           1,           1,           1,           1,           1,           1,           1,           1,           1,           1,           1,           1,           1,           1,           1,           1,           1,           1,           1,           1,           1,           1,\n",
       "                  1,           1,           1,           1,           1,           1,           1,           1,           1,           1,           1,           1,           1,           1,           1,           1,           1,           1,           1,           1,           1,           1,           1,\n",
       "                  1,           1,           1,           1,           1,           1,           1,           1,           1,           1,           1,           1,           1,           1,           1,           1,           1,           1,           1,           1,           1,           1,           1,\n",
       "                  1,           1,           1,           1,           1,           1,           1,           1,           1,           1,           1,           1,           1,           1,           1,           1,           1,           1,           1,           1,           1,           1,           1,\n",
       "                  1,           1,           1,           1,           1,           1,           1,           1,           1,           1,           1,           1,           1,           1,           1,           1,           1,           1,           1,           1,           1,           1,           1,\n",
       "                  1,           1,           1,           1,           1,           1,           1,           1,           1,           1,           1]]), 'Confidence', 'Precision'], [array([          0,    0.001001,    0.002002,    0.003003,    0.004004,    0.005005,    0.006006,    0.007007,    0.008008,    0.009009,     0.01001,    0.011011,    0.012012,    0.013013,    0.014014,    0.015015,    0.016016,    0.017017,    0.018018,    0.019019,     0.02002,    0.021021,    0.022022,    0.023023,\n",
       "          0.024024,    0.025025,    0.026026,    0.027027,    0.028028,    0.029029,     0.03003,    0.031031,    0.032032,    0.033033,    0.034034,    0.035035,    0.036036,    0.037037,    0.038038,    0.039039,     0.04004,    0.041041,    0.042042,    0.043043,    0.044044,    0.045045,    0.046046,    0.047047,\n",
       "          0.048048,    0.049049,     0.05005,    0.051051,    0.052052,    0.053053,    0.054054,    0.055055,    0.056056,    0.057057,    0.058058,    0.059059,     0.06006,    0.061061,    0.062062,    0.063063,    0.064064,    0.065065,    0.066066,    0.067067,    0.068068,    0.069069,     0.07007,    0.071071,\n",
       "          0.072072,    0.073073,    0.074074,    0.075075,    0.076076,    0.077077,    0.078078,    0.079079,     0.08008,    0.081081,    0.082082,    0.083083,    0.084084,    0.085085,    0.086086,    0.087087,    0.088088,    0.089089,     0.09009,    0.091091,    0.092092,    0.093093,    0.094094,    0.095095,\n",
       "          0.096096,    0.097097,    0.098098,    0.099099,      0.1001,      0.1011,      0.1021,      0.1031,      0.1041,     0.10511,     0.10611,     0.10711,     0.10811,     0.10911,     0.11011,     0.11111,     0.11211,     0.11311,     0.11411,     0.11512,     0.11612,     0.11712,     0.11812,     0.11912,\n",
       "           0.12012,     0.12112,     0.12212,     0.12312,     0.12412,     0.12513,     0.12613,     0.12713,     0.12813,     0.12913,     0.13013,     0.13113,     0.13213,     0.13313,     0.13413,     0.13514,     0.13614,     0.13714,     0.13814,     0.13914,     0.14014,     0.14114,     0.14214,     0.14314,\n",
       "           0.14414,     0.14515,     0.14615,     0.14715,     0.14815,     0.14915,     0.15015,     0.15115,     0.15215,     0.15315,     0.15415,     0.15516,     0.15616,     0.15716,     0.15816,     0.15916,     0.16016,     0.16116,     0.16216,     0.16316,     0.16416,     0.16517,     0.16617,     0.16717,\n",
       "           0.16817,     0.16917,     0.17017,     0.17117,     0.17217,     0.17317,     0.17417,     0.17518,     0.17618,     0.17718,     0.17818,     0.17918,     0.18018,     0.18118,     0.18218,     0.18318,     0.18418,     0.18519,     0.18619,     0.18719,     0.18819,     0.18919,     0.19019,     0.19119,\n",
       "           0.19219,     0.19319,     0.19419,      0.1952,      0.1962,      0.1972,      0.1982,      0.1992,      0.2002,      0.2012,      0.2022,      0.2032,      0.2042,     0.20521,     0.20621,     0.20721,     0.20821,     0.20921,     0.21021,     0.21121,     0.21221,     0.21321,     0.21421,     0.21522,\n",
       "           0.21622,     0.21722,     0.21822,     0.21922,     0.22022,     0.22122,     0.22222,     0.22322,     0.22422,     0.22523,     0.22623,     0.22723,     0.22823,     0.22923,     0.23023,     0.23123,     0.23223,     0.23323,     0.23423,     0.23524,     0.23624,     0.23724,     0.23824,     0.23924,\n",
       "           0.24024,     0.24124,     0.24224,     0.24324,     0.24424,     0.24525,     0.24625,     0.24725,     0.24825,     0.24925,     0.25025,     0.25125,     0.25225,     0.25325,     0.25425,     0.25526,     0.25626,     0.25726,     0.25826,     0.25926,     0.26026,     0.26126,     0.26226,     0.26326,\n",
       "           0.26426,     0.26527,     0.26627,     0.26727,     0.26827,     0.26927,     0.27027,     0.27127,     0.27227,     0.27327,     0.27427,     0.27528,     0.27628,     0.27728,     0.27828,     0.27928,     0.28028,     0.28128,     0.28228,     0.28328,     0.28428,     0.28529,     0.28629,     0.28729,\n",
       "           0.28829,     0.28929,     0.29029,     0.29129,     0.29229,     0.29329,     0.29429,      0.2953,      0.2963,      0.2973,      0.2983,      0.2993,      0.3003,      0.3013,      0.3023,      0.3033,      0.3043,     0.30531,     0.30631,     0.30731,     0.30831,     0.30931,     0.31031,     0.31131,\n",
       "           0.31231,     0.31331,     0.31431,     0.31532,     0.31632,     0.31732,     0.31832,     0.31932,     0.32032,     0.32132,     0.32232,     0.32332,     0.32432,     0.32533,     0.32633,     0.32733,     0.32833,     0.32933,     0.33033,     0.33133,     0.33233,     0.33333,     0.33433,     0.33534,\n",
       "           0.33634,     0.33734,     0.33834,     0.33934,     0.34034,     0.34134,     0.34234,     0.34334,     0.34434,     0.34535,     0.34635,     0.34735,     0.34835,     0.34935,     0.35035,     0.35135,     0.35235,     0.35335,     0.35435,     0.35536,     0.35636,     0.35736,     0.35836,     0.35936,\n",
       "           0.36036,     0.36136,     0.36236,     0.36336,     0.36436,     0.36537,     0.36637,     0.36737,     0.36837,     0.36937,     0.37037,     0.37137,     0.37237,     0.37337,     0.37437,     0.37538,     0.37638,     0.37738,     0.37838,     0.37938,     0.38038,     0.38138,     0.38238,     0.38338,\n",
       "           0.38438,     0.38539,     0.38639,     0.38739,     0.38839,     0.38939,     0.39039,     0.39139,     0.39239,     0.39339,     0.39439,      0.3954,      0.3964,      0.3974,      0.3984,      0.3994,      0.4004,      0.4014,      0.4024,      0.4034,      0.4044,     0.40541,     0.40641,     0.40741,\n",
       "           0.40841,     0.40941,     0.41041,     0.41141,     0.41241,     0.41341,     0.41441,     0.41542,     0.41642,     0.41742,     0.41842,     0.41942,     0.42042,     0.42142,     0.42242,     0.42342,     0.42442,     0.42543,     0.42643,     0.42743,     0.42843,     0.42943,     0.43043,     0.43143,\n",
       "           0.43243,     0.43343,     0.43443,     0.43544,     0.43644,     0.43744,     0.43844,     0.43944,     0.44044,     0.44144,     0.44244,     0.44344,     0.44444,     0.44545,     0.44645,     0.44745,     0.44845,     0.44945,     0.45045,     0.45145,     0.45245,     0.45345,     0.45445,     0.45546,\n",
       "           0.45646,     0.45746,     0.45846,     0.45946,     0.46046,     0.46146,     0.46246,     0.46346,     0.46446,     0.46547,     0.46647,     0.46747,     0.46847,     0.46947,     0.47047,     0.47147,     0.47247,     0.47347,     0.47447,     0.47548,     0.47648,     0.47748,     0.47848,     0.47948,\n",
       "           0.48048,     0.48148,     0.48248,     0.48348,     0.48448,     0.48549,     0.48649,     0.48749,     0.48849,     0.48949,     0.49049,     0.49149,     0.49249,     0.49349,     0.49449,      0.4955,      0.4965,      0.4975,      0.4985,      0.4995,      0.5005,      0.5015,      0.5025,      0.5035,\n",
       "            0.5045,     0.50551,     0.50651,     0.50751,     0.50851,     0.50951,     0.51051,     0.51151,     0.51251,     0.51351,     0.51451,     0.51552,     0.51652,     0.51752,     0.51852,     0.51952,     0.52052,     0.52152,     0.52252,     0.52352,     0.52452,     0.52553,     0.52653,     0.52753,\n",
       "           0.52853,     0.52953,     0.53053,     0.53153,     0.53253,     0.53353,     0.53453,     0.53554,     0.53654,     0.53754,     0.53854,     0.53954,     0.54054,     0.54154,     0.54254,     0.54354,     0.54454,     0.54555,     0.54655,     0.54755,     0.54855,     0.54955,     0.55055,     0.55155,\n",
       "           0.55255,     0.55355,     0.55455,     0.55556,     0.55656,     0.55756,     0.55856,     0.55956,     0.56056,     0.56156,     0.56256,     0.56356,     0.56456,     0.56557,     0.56657,     0.56757,     0.56857,     0.56957,     0.57057,     0.57157,     0.57257,     0.57357,     0.57457,     0.57558,\n",
       "           0.57658,     0.57758,     0.57858,     0.57958,     0.58058,     0.58158,     0.58258,     0.58358,     0.58458,     0.58559,     0.58659,     0.58759,     0.58859,     0.58959,     0.59059,     0.59159,     0.59259,     0.59359,     0.59459,      0.5956,      0.5966,      0.5976,      0.5986,      0.5996,\n",
       "            0.6006,      0.6016,      0.6026,      0.6036,      0.6046,     0.60561,     0.60661,     0.60761,     0.60861,     0.60961,     0.61061,     0.61161,     0.61261,     0.61361,     0.61461,     0.61562,     0.61662,     0.61762,     0.61862,     0.61962,     0.62062,     0.62162,     0.62262,     0.62362,\n",
       "           0.62462,     0.62563,     0.62663,     0.62763,     0.62863,     0.62963,     0.63063,     0.63163,     0.63263,     0.63363,     0.63463,     0.63564,     0.63664,     0.63764,     0.63864,     0.63964,     0.64064,     0.64164,     0.64264,     0.64364,     0.64464,     0.64565,     0.64665,     0.64765,\n",
       "           0.64865,     0.64965,     0.65065,     0.65165,     0.65265,     0.65365,     0.65465,     0.65566,     0.65666,     0.65766,     0.65866,     0.65966,     0.66066,     0.66166,     0.66266,     0.66366,     0.66466,     0.66567,     0.66667,     0.66767,     0.66867,     0.66967,     0.67067,     0.67167,\n",
       "           0.67267,     0.67367,     0.67467,     0.67568,     0.67668,     0.67768,     0.67868,     0.67968,     0.68068,     0.68168,     0.68268,     0.68368,     0.68468,     0.68569,     0.68669,     0.68769,     0.68869,     0.68969,     0.69069,     0.69169,     0.69269,     0.69369,     0.69469,      0.6957,\n",
       "            0.6967,      0.6977,      0.6987,      0.6997,      0.7007,      0.7017,      0.7027,      0.7037,      0.7047,     0.70571,     0.70671,     0.70771,     0.70871,     0.70971,     0.71071,     0.71171,     0.71271,     0.71371,     0.71471,     0.71572,     0.71672,     0.71772,     0.71872,     0.71972,\n",
       "           0.72072,     0.72172,     0.72272,     0.72372,     0.72472,     0.72573,     0.72673,     0.72773,     0.72873,     0.72973,     0.73073,     0.73173,     0.73273,     0.73373,     0.73473,     0.73574,     0.73674,     0.73774,     0.73874,     0.73974,     0.74074,     0.74174,     0.74274,     0.74374,\n",
       "           0.74474,     0.74575,     0.74675,     0.74775,     0.74875,     0.74975,     0.75075,     0.75175,     0.75275,     0.75375,     0.75475,     0.75576,     0.75676,     0.75776,     0.75876,     0.75976,     0.76076,     0.76176,     0.76276,     0.76376,     0.76476,     0.76577,     0.76677,     0.76777,\n",
       "           0.76877,     0.76977,     0.77077,     0.77177,     0.77277,     0.77377,     0.77477,     0.77578,     0.77678,     0.77778,     0.77878,     0.77978,     0.78078,     0.78178,     0.78278,     0.78378,     0.78478,     0.78579,     0.78679,     0.78779,     0.78879,     0.78979,     0.79079,     0.79179,\n",
       "           0.79279,     0.79379,     0.79479,      0.7958,      0.7968,      0.7978,      0.7988,      0.7998,      0.8008,      0.8018,      0.8028,      0.8038,      0.8048,     0.80581,     0.80681,     0.80781,     0.80881,     0.80981,     0.81081,     0.81181,     0.81281,     0.81381,     0.81481,     0.81582,\n",
       "           0.81682,     0.81782,     0.81882,     0.81982,     0.82082,     0.82182,     0.82282,     0.82382,     0.82482,     0.82583,     0.82683,     0.82783,     0.82883,     0.82983,     0.83083,     0.83183,     0.83283,     0.83383,     0.83483,     0.83584,     0.83684,     0.83784,     0.83884,     0.83984,\n",
       "           0.84084,     0.84184,     0.84284,     0.84384,     0.84484,     0.84585,     0.84685,     0.84785,     0.84885,     0.84985,     0.85085,     0.85185,     0.85285,     0.85385,     0.85485,     0.85586,     0.85686,     0.85786,     0.85886,     0.85986,     0.86086,     0.86186,     0.86286,     0.86386,\n",
       "           0.86486,     0.86587,     0.86687,     0.86787,     0.86887,     0.86987,     0.87087,     0.87187,     0.87287,     0.87387,     0.87487,     0.87588,     0.87688,     0.87788,     0.87888,     0.87988,     0.88088,     0.88188,     0.88288,     0.88388,     0.88488,     0.88589,     0.88689,     0.88789,\n",
       "           0.88889,     0.88989,     0.89089,     0.89189,     0.89289,     0.89389,     0.89489,      0.8959,      0.8969,      0.8979,      0.8989,      0.8999,      0.9009,      0.9019,      0.9029,      0.9039,      0.9049,     0.90591,     0.90691,     0.90791,     0.90891,     0.90991,     0.91091,     0.91191,\n",
       "           0.91291,     0.91391,     0.91491,     0.91592,     0.91692,     0.91792,     0.91892,     0.91992,     0.92092,     0.92192,     0.92292,     0.92392,     0.92492,     0.92593,     0.92693,     0.92793,     0.92893,     0.92993,     0.93093,     0.93193,     0.93293,     0.93393,     0.93493,     0.93594,\n",
       "           0.93694,     0.93794,     0.93894,     0.93994,     0.94094,     0.94194,     0.94294,     0.94394,     0.94494,     0.94595,     0.94695,     0.94795,     0.94895,     0.94995,     0.95095,     0.95195,     0.95295,     0.95395,     0.95495,     0.95596,     0.95696,     0.95796,     0.95896,     0.95996,\n",
       "           0.96096,     0.96196,     0.96296,     0.96396,     0.96496,     0.96597,     0.96697,     0.96797,     0.96897,     0.96997,     0.97097,     0.97197,     0.97297,     0.97397,     0.97497,     0.97598,     0.97698,     0.97798,     0.97898,     0.97998,     0.98098,     0.98198,     0.98298,     0.98398,\n",
       "           0.98498,     0.98599,     0.98699,     0.98799,     0.98899,     0.98999,     0.99099,     0.99199,     0.99299,     0.99399,     0.99499,       0.996,       0.997,       0.998,       0.999,           1]), array([[     0.7561,      0.7561,      0.7167,     0.70544,     0.69418,     0.68105,     0.67167,     0.66792,     0.65478,     0.65291,     0.64728,     0.64728,     0.64353,     0.63977,     0.63602,     0.63602,     0.63602,     0.63415,     0.63227,     0.63227,     0.62664,     0.62664,     0.62664,\n",
       "            0.62664,     0.62664,     0.62664,     0.62289,     0.61163,     0.60976,     0.60976,       0.606,     0.59662,     0.59475,     0.59099,     0.58912,     0.58724,     0.58349,     0.58161,     0.57974,     0.57786,     0.57411,     0.56848,     0.56473,     0.56098,      0.5591,      0.5591,\n",
       "            0.55347,     0.55159,     0.54784,     0.54221,     0.54034,     0.54034,     0.53471,     0.52908,     0.52285,      0.5197,     0.51595,     0.51595,     0.51032,     0.50844,     0.50469,     0.50469,      0.5013,     0.49719,     0.49531,     0.49343,     0.49343,     0.49156,      0.4878,\n",
       "            0.48405,     0.48218,      0.4803,     0.47842,     0.47346,     0.46529,     0.46529,     0.46181,     0.45966,     0.45779,     0.45591,     0.45216,     0.44841,     0.44465,     0.43902,     0.43715,      0.4334,     0.43152,     0.42777,     0.42777,     0.42402,     0.42214,     0.42214,\n",
       "            0.41839,     0.41463,     0.40901,     0.40674,     0.39962,     0.39962,     0.39955,       0.394,     0.39024,     0.38837,     0.38649,     0.38274,      0.3791,     0.37523,     0.37523,     0.37336,      0.3682,     0.36585,      0.3621,     0.35835,      0.3541,     0.35272,     0.35084,\n",
       "            0.34334,     0.34334,     0.34177,     0.33771,     0.33662,     0.33396,     0.33208,     0.33025,     0.32833,     0.32833,     0.32644,     0.32458,     0.32458,     0.32458,     0.32083,     0.32083,     0.32083,     0.31707,     0.31443,     0.31332,     0.30957,     0.30394,     0.30374,\n",
       "             0.3013,     0.29644,     0.29268,     0.29268,     0.29268,     0.28808,     0.28705,     0.28329,     0.28143,     0.27767,      0.2758,      0.2758,     0.27531,     0.27205,     0.27017,     0.26612,     0.26191,     0.26064,     0.25946,     0.25891,     0.25721,     0.25524,     0.25349,\n",
       "            0.25178,     0.25141,     0.24765,     0.24765,     0.24765,      0.2439,      0.2439,      0.2439,     0.24203,     0.24077,     0.23969,     0.23547,     0.23128,     0.23077,     0.23001,     0.22503,     0.22326,     0.22326,     0.22114,     0.22004,     0.21951,     0.21649,     0.20952,\n",
       "            0.20778,     0.20697,     0.20638,      0.2045,      0.2045,     0.20224,     0.20036,     0.19887,       0.197,       0.197,       0.197,       0.197,       0.197,     0.19512,     0.19301,     0.19137,     0.19137,     0.18753,     0.18574,     0.18386,     0.18386,      0.1831,     0.18199,\n",
       "            0.18059,     0.17824,     0.17824,     0.17791,     0.17636,     0.17448,     0.17406,      0.1731,     0.16921,     0.16886,     0.16886,     0.16886,     0.16734,      0.1651,      0.1651,      0.1651,      0.1651,     0.16394,     0.16323,     0.16284,     0.16006,     0.15947,      0.1576,\n",
       "            0.15572,     0.15572,     0.15572,     0.15572,     0.15385,     0.15385,     0.15385,     0.15385,     0.15302,     0.15045,     0.14889,     0.14689,     0.14447,     0.14447,     0.14259,     0.13851,      0.1367,     0.13603,     0.13536,     0.13508,     0.13508,     0.13508,     0.13508,\n",
       "            0.13508,     0.13464,     0.13336,     0.13245,      0.1316,     0.13045,     0.12888,      0.1272,     0.12643,      0.1257,      0.1257,      0.1257,      0.1257,      0.1257,      0.1257,     0.12468,     0.12363,     0.12278,     0.12195,     0.12195,     0.12195,     0.12195,     0.12162,\n",
       "            0.11988,      0.1194,     0.11892,     0.11844,      0.1182,      0.1182,      0.1182,      0.1182,     0.11706,      0.1158,     0.11494,     0.11445,     0.11445,     0.11445,     0.11255,     0.11034,     0.10906,     0.10882,     0.10882,     0.10882,     0.10831,     0.10703,     0.10643,\n",
       "            0.10588,     0.10533,     0.10507,     0.10355,     0.10122,     0.10013,     0.09848,    0.096327,    0.095383,    0.094931,    0.094478,    0.094026,    0.093809,    0.093809,     0.09372,    0.092621,    0.091763,    0.091311,    0.090858,    0.090406,     0.08818,    0.087904,    0.086805,\n",
       "           0.086304,    0.086304,    0.084225,    0.082552,    0.082552,     0.08035,    0.079581,    0.078812,    0.078799,    0.078799,    0.078799,    0.077705,    0.076923,    0.076923,    0.076923,    0.076923,    0.076923,    0.076923,    0.076923,    0.076923,    0.076923,    0.074153,    0.073171,\n",
       "           0.073171,    0.072404,     0.07021,    0.068089,    0.066756,     0.06566,    0.064961,    0.064261,     0.06379,     0.06379,    0.063675,    0.063367,    0.063059,    0.062752,    0.062444,    0.062136,    0.061647,    0.060686,    0.058161,    0.058161,    0.058161,    0.058161,     0.05645,\n",
       "           0.055385,    0.054424,    0.051451,     0.05039,    0.049428,     0.04878,     0.04878,     0.04878,     0.04878,     0.04878,     0.04878,     0.04878,     0.04878,     0.04878,     0.04878,     0.04878,     0.04878,     0.04878,     0.04878,     0.04878,     0.04878,     0.04878,     0.04878,\n",
       "            0.04878,     0.04878,     0.04878,    0.048706,    0.048006,    0.047307,    0.046811,    0.046591,    0.046371,    0.046152,    0.045932,    0.045712,    0.045492,    0.045273,    0.045053,    0.043152,    0.043152,    0.043094,    0.042809,    0.042524,    0.042239,    0.041954,    0.041669,\n",
       "           0.041384,    0.038208,     0.03711,    0.036469,    0.035828,    0.035506,    0.035309,    0.035111,    0.034914,    0.034717,     0.03452,    0.034322,    0.034125,    0.033928,    0.033771,    0.033771,    0.033771,    0.033771,    0.033771,    0.033771,    0.033771,    0.033771,    0.033771,\n",
       "           0.033771,    0.033771,    0.033771,    0.033771,    0.033771,    0.033771,    0.033771,    0.033771,    0.033771,    0.033771,    0.033771,    0.033771,    0.033771,    0.033771,    0.033771,    0.033759,    0.033562,    0.033365,    0.033168,     0.03297,    0.032773,    0.032576,    0.032379,\n",
       "           0.032181,    0.031984,    0.031684,      0.0313,    0.030915,     0.03053,    0.030146,    0.030019,    0.030019,    0.030019,    0.030019,    0.030019,    0.028496,    0.028143,    0.028143,    0.028143,    0.028143,    0.028143,    0.028143,    0.028143,     0.02812,    0.026266,    0.026266,\n",
       "           0.026266,    0.026266,    0.026266,    0.026266,    0.026266,    0.026266,    0.026266,    0.026266,    0.026266,    0.026266,    0.026266,    0.026266,    0.026266,    0.026266,    0.026266,    0.026266,    0.026266,    0.026266,    0.025762,    0.024801,    0.024115,    0.023634,    0.023153,\n",
       "           0.022672,    0.022353,    0.022112,    0.021872,    0.021632,    0.021391,    0.021151,     0.02091,     0.02067,      0.0204,    0.020125,     0.01985,    0.019576,    0.019301,    0.019026,    0.018744,    0.018263,    0.017782,    0.017302,    0.016857,    0.016643,    0.016429,    0.016216,\n",
       "           0.016002,    0.015788,    0.015575,    0.015361,    0.015147,    0.014669,    0.013707,    0.013133,    0.013133,    0.013133,    0.013133,    0.013133,    0.013133,    0.013133,    0.013133,    0.013133,    0.013133,    0.013133,    0.013133,    0.013133,    0.013133,    0.013133,    0.013133,\n",
       "           0.013133,    0.013133,    0.013133,    0.013133,    0.012931,    0.012705,    0.012479,    0.012253,    0.012026,      0.0118,    0.011574,    0.011348,    0.010681,   0.0097194,   0.0081348,   0.0074763,    0.007434,   0.0073917,   0.0073495,   0.0073072,   0.0072649,   0.0072227,   0.0071804,\n",
       "          0.0071381,   0.0070959,   0.0070536,   0.0070113,   0.0069691,   0.0069268,   0.0068845,   0.0068423,      0.0068,   0.0067577,   0.0067155,   0.0066732,   0.0066309,   0.0065887,   0.0065464,   0.0065041,   0.0064619,   0.0064196,   0.0063773,   0.0063351,   0.0062928,   0.0062505,   0.0062083,\n",
       "           0.006166,   0.0061237,   0.0060815,   0.0060392,   0.0059969,   0.0059547,   0.0059124,   0.0058701,   0.0058279,   0.0057856,   0.0057433,   0.0057011,   0.0056588,   0.0056156,   0.0055698,    0.005524,   0.0054782,   0.0054324,   0.0053866,   0.0053408,    0.005295,   0.0052492,   0.0052035,\n",
       "          0.0051577,   0.0051119,   0.0050661,   0.0050203,   0.0049745,   0.0049287,   0.0048829,   0.0048371,   0.0047914,   0.0047456,   0.0046998,    0.004654,   0.0046082,   0.0045624,   0.0045166,   0.0044708,    0.004425,   0.0043793,   0.0043335,   0.0042877,   0.0042419,   0.0041961,   0.0041503,\n",
       "          0.0041045,   0.0040587,   0.0040129,   0.0039672,   0.0039214,   0.0038756,   0.0038298,    0.003784,   0.0037315,    0.003664,   0.0035966,   0.0035291,   0.0034616,   0.0033941,   0.0033267,   0.0032592,   0.0031917,   0.0031242,   0.0030567,   0.0029893,   0.0029218,   0.0028543,   0.0027868,\n",
       "          0.0027194,   0.0026519,   0.0025844,   0.0025169,   0.0024494,    0.002382,   0.0023145,    0.002247,   0.0021795,    0.002112,   0.0020446,   0.0019771,   0.0019096,           0,           0,           0,           0,           0,           0,           0,           0,           0,           0,\n",
       "                  0,           0,           0,           0,           0,           0,           0,           0,           0,           0,           0,           0,           0,           0,           0,           0,           0,           0,           0,           0,           0,           0,           0,\n",
       "                  0,           0,           0,           0,           0,           0,           0,           0,           0,           0,           0,           0,           0,           0,           0,           0,           0,           0,           0,           0,           0,           0,           0,\n",
       "                  0,           0,           0,           0,           0,           0,           0,           0,           0,           0,           0,           0,           0,           0,           0,           0,           0,           0,           0,           0,           0,           0,           0,\n",
       "                  0,           0,           0,           0,           0,           0,           0,           0,           0,           0,           0,           0,           0,           0,           0,           0,           0,           0,           0,           0,           0,           0,           0,\n",
       "                  0,           0,           0,           0,           0,           0,           0,           0,           0,           0,           0,           0,           0,           0,           0,           0,           0,           0,           0,           0,           0,           0,           0,\n",
       "                  0,           0,           0,           0,           0,           0,           0,           0,           0,           0,           0,           0,           0,           0,           0,           0,           0,           0,           0,           0,           0,           0,           0,\n",
       "                  0,           0,           0,           0,           0,           0,           0,           0,           0,           0,           0,           0,           0,           0,           0,           0,           0,           0,           0,           0,           0,           0,           0,\n",
       "                  0,           0,           0,           0,           0,           0,           0,           0,           0,           0,           0,           0,           0,           0,           0,           0,           0,           0,           0,           0,           0,           0,           0,\n",
       "                  0,           0,           0,           0,           0,           0,           0,           0,           0,           0,           0,           0,           0,           0,           0,           0,           0,           0,           0,           0,           0,           0,           0,\n",
       "                  0,           0,           0,           0,           0,           0,           0,           0,           0,           0,           0,           0,           0,           0,           0,           0,           0,           0,           0,           0,           0,           0,           0,\n",
       "                  0,           0,           0,           0,           0,           0,           0,           0,           0,           0,           0,           0,           0,           0,           0,           0,           0,           0,           0,           0,           0,           0,           0,\n",
       "                  0,           0,           0,           0,           0,           0,           0,           0,           0,           0,           0,           0,           0,           0,           0,           0,           0,           0,           0,           0,           0,           0,           0,\n",
       "                  0,           0,           0,           0,           0,           0,           0,           0,           0,           0,           0,           0,           0,           0,           0,           0,           0,           0,           0,           0,           0,           0,           0,\n",
       "                  0,           0,           0,           0,           0,           0,           0,           0,           0,           0,           0]]), 'Confidence', 'Recall']]\n",
       "fitness: np.float64(0.1343000624691219)\n",
       "keys: ['metrics/precision(B)', 'metrics/recall(B)', 'metrics/mAP50(B)', 'metrics/mAP50-95(B)']\n",
       "maps: array([    0.11697])\n",
       "names: {0: 'Waldo'}\n",
       "plot: True\n",
       "results_dict: {'metrics/precision(B)': np.float64(0.3907859189630323), 'metrics/recall(B)': np.float64(0.37909892381437094), 'metrics/mAP50(B)': np.float64(0.2902907036540178), 'metrics/mAP50-95(B)': np.float64(0.11696776900413346), 'fitness': np.float64(0.1343000624691219)}\n",
       "save_dir: WindowsPath('runs/detect/train8')\n",
       "speed: {'preprocess': 0.03523117638371118, 'inference': 2.8387888235396104, 'loss': 0.0002264704295050572, 'postprocess': 1.381864558746148}\n",
       "task: 'detect'"
      ]
     },
     "execution_count": 3,
     "metadata": {},
     "output_type": "execute_result"
    }
   ],
   "execution_count": 3
  },
  {
   "cell_type": "code",
   "execution_count": null,
   "id": "18047fc5-22b6-4603-a4f5-f48a65c7d955",
   "metadata": {},
   "outputs": [],
   "source": []
  }
 ],
 "metadata": {
  "kernelspec": {
   "display_name": "Python 3 (ipykernel)",
   "language": "python",
   "name": "python3"
  },
  "language_info": {
   "codemirror_mode": {
    "name": "ipython",
    "version": 3
   },
   "file_extension": ".py",
   "mimetype": "text/x-python",
   "name": "python",
   "nbconvert_exporter": "python",
   "pygments_lexer": "ipython3",
   "version": "3.9.21"
  }
 },
 "nbformat": 4,
 "nbformat_minor": 5
}
