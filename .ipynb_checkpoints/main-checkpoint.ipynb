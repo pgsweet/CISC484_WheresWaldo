{
 "cells": [
  {
   "cell_type": "code",
   "execution_count": 3,
   "id": "initial_id",
   "metadata": {
    "ExecuteTime": {
     "end_time": "2025-04-28T19:33:29.236744Z",
     "start_time": "2025-04-28T19:33:22.978488Z"
    }
   },
   "outputs": [],
   "source": [
    "from ultralytics import YOLO\n",
    "import cv2\n",
    "import numpy as np\n",
    "import random\n"
   ]
  },
  {
   "cell_type": "code",
   "execution_count": 4,
   "id": "65c71de8-7f74-4eea-9dee-fee89ccf75cb",
   "metadata": {},
   "outputs": [],
   "source": [
    "# Define any global variables up here\n",
    "\n",
    "numImages = 18\n",
    "fullImages = []\n",
    "fullImagesMasks = []\n",
    "zoomedWaldo = []\n",
    "zoomedWaldoMasks = []"
   ]
  },
  {
   "cell_type": "code",
   "execution_count": 5,
   "id": "f6806592-aec6-4946-8f91-37770d152fab",
   "metadata": {},
   "outputs": [],
   "source": [
    "# Helper functions\n",
    "\n",
    "def convertToArray(path):\n",
    "    imageArray = cv2.imread(path)\n",
    "    return imageArray\n",
    "\n",
    "def manipulateImages(imageArray, maskArray):\n",
    "    # Uncomment these if you want to see the orignal image\n",
    "    # cv2.imshow(\"Image\", imageArray)\n",
    "    # cv2.waitKey(0)\n",
    "    \n",
    "    flip = random.randint(0,1)\n",
    "    flippedImage = cv2.flip(imageArray, flip)\n",
    "    flippedMask = cv2.flip(maskArray, flip)\n",
    "\n",
    "    # Uncomment these if you want to see the modified image\n",
    "    cv2.imshow(\"Image\", flippedImage)\n",
    "    cv2.waitKey(0) \n",
    "    "
   ]
  },
  {
   "cell_type": "code",
   "execution_count": 6,
   "id": "8ea94da9-cf14-4848-9a07-3acb02f4e7e7",
   "metadata": {},
   "outputs": [],
   "source": [
    "for i in range(numImages):\n",
    "    fullImages.append(convertToArray(f\"./original_images/full_images/{i}.jpg\"))\n",
    "    fullImagesMasks.append(convertToArray(f\"./original_images/full_images_masks/{i}.jpg\"))\n",
    "    zoomedWaldo.append(convertToArray(f\"./original_images/zoomed_waldo/{i}.jpg\"))\n",
    "    zoomedWaldoMasks.append(convertToArray(f\"./original_images/zoomed_waldo_mask/{i}.jpg\"))\n",
    "\n",
    "manipulateImages(fullImages[0], fullImagesMasks[0])"
   ]
  },
  {
   "cell_type": "code",
   "execution_count": null,
   "id": "4973cdce0f9c7169",
   "metadata": {
    "ExecuteTime": {
     "end_time": "2025-04-28T19:33:41.593457Z",
     "start_time": "2025-04-28T19:33:36.680098Z"
    }
   },
   "outputs": [],
   "source": [
    "# there are 5 total ranging from nano to XL (XL is yolov6x.yaml)\n",
    "model = YOLO('yolov6x.yaml')\n",
    "\n",
    "model.info()"
   ]
  },
  {
   "cell_type": "code",
   "execution_count": null,
   "id": "18047fc5-22b6-4603-a4f5-f48a65c7d955",
   "metadata": {},
   "outputs": [],
   "source": []
  }
 ],
 "metadata": {
  "kernelspec": {
   "display_name": "Python 3 (ipykernel)",
   "language": "python",
   "name": "python3"
  },
  "language_info": {
   "codemirror_mode": {
    "name": "ipython",
    "version": 3
   },
   "file_extension": ".py",
   "mimetype": "text/x-python",
   "name": "python",
   "nbconvert_exporter": "python",
   "pygments_lexer": "ipython3",
   "version": "3.9.21"
  }
 },
 "nbformat": 4,
 "nbformat_minor": 5
}
