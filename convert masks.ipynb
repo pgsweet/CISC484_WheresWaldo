{
 "cells": [
  {
   "metadata": {
    "ExecuteTime": {
     "end_time": "2025-05-12T22:01:29.304399Z",
     "start_time": "2025-05-12T22:01:29.210891Z"
    }
   },
   "cell_type": "code",
   "source": [
    "import cv2\n",
    "import numpy as np\n",
    "import os"
   ],
   "id": "da2d2b278890b082",
   "outputs": [],
   "execution_count": 2
  },
  {
   "metadata": {
    "ExecuteTime": {
     "end_time": "2025-05-12T22:01:29.889356Z",
     "start_time": "2025-05-12T22:01:29.885253Z"
    }
   },
   "cell_type": "code",
   "source": [
    "def convert_to_text(image):\n",
    "    \"\"\"\n",
    "    Find center coordinates and dimensions of a white box in an image.\n",
    "\n",
    "    Args:\n",
    "        image: Input image (numpy array)\n",
    "\n",
    "    Returns:\n",
    "        tuple: Normalized (center_x, center_y, width, height) or None if no box found\n",
    "    \"\"\"\n",
    "    # Convert image to grayscale\n",
    "    gray = cv2.cvtColor(image, cv2.COLOR_BGR2GRAY)\n",
    "\n",
    "    # Get image dimensions\n",
    "    h, w = gray.shape[:2]\n",
    "\n",
    "    # Threshold the image to get white regions\n",
    "    _, thresh = cv2.threshold(gray, 240, 255, cv2.THRESH_BINARY)\n",
    "\n",
    "    # Find contours\n",
    "    contours, _ = cv2.findContours(thresh, cv2.RETR_EXTERNAL, cv2.CHAIN_APPROX_SIMPLE)\n",
    "\n",
    "    # Find the largest contour (assuming it's the white box)\n",
    "    if len(contours) == 0:\n",
    "        return None\n",
    "\n",
    "    largest_contour = max(contours, key=cv2.contourArea)\n",
    "\n",
    "    # Get bounding rectangle\n",
    "    x, y, width, height = cv2.boundingRect(largest_contour)\n",
    "\n",
    "    # Calculate center coordinates\n",
    "    center_x = x + width / 2\n",
    "    center_y = y + height / 2\n",
    "\n",
    "    # Normalize values between 0 and 1\n",
    "    norm_center_x = center_x / w\n",
    "    norm_center_y = center_y / h\n",
    "    norm_width = width / w\n",
    "    norm_height = height / h\n",
    "\n",
    "    return (norm_center_x, norm_center_y, norm_width, norm_height)\n"
   ],
   "id": "abf48cc5ef3cac69",
   "outputs": [],
   "execution_count": 3
  },
  {
   "metadata": {
    "ExecuteTime": {
     "end_time": "2025-05-12T22:05:05.535849Z",
     "start_time": "2025-05-12T22:05:05.185642Z"
    }
   },
   "cell_type": "code",
   "source": [
    "# Get list of all image files in subsample_masks folder\n",
    "mask_files = os.listdir('edited_images/subsample_masks')\n",
    "\n",
    "if not os.path.exists('edited_images/subsample_masks_txt'):\n",
    "    print(\"Making subsample_masks_txt folder\")\n",
    "    os.makedirs('edited_images/subsample_masks_txt')\n",
    "\n",
    "# Iterate through each mask image\n",
    "for mask_file in mask_files:\n",
    "    # Read the image\n",
    "    mask_path = os.path.join('edited_images/subsample_masks', mask_file)\n",
    "\n",
    "    points = convert_to_text(cv2.imread(mask_path))\n",
    "\n",
    "    txt_file = os.path.join('edited_images/subsample_masks_txt',\n",
    "                                os.path.splitext(mask_file)[0] + '.txt')\n",
    "\n",
    "    if points is not None:\n",
    "        with open(txt_file, 'w') as f:\n",
    "            f.write(f\"0 {' '.join(map(str, points))}\")\n",
    "    else:\n",
    "        with open(txt_file, 'w') as f:\n",
    "            pass\n"
   ],
   "id": "9fca5c508e1f3d68",
   "outputs": [
    {
     "name": "stdout",
     "output_type": "stream",
     "text": [
      "Making subsample_masks_txt folder\n"
     ]
    }
   ],
   "execution_count": 6
  }
 ],
 "metadata": {
  "kernelspec": {
   "display_name": "Python 3",
   "language": "python",
   "name": "python3"
  },
  "language_info": {
   "codemirror_mode": {
    "name": "ipython",
    "version": 2
   },
   "file_extension": ".py",
   "mimetype": "text/x-python",
   "name": "python",
   "nbconvert_exporter": "python",
   "pygments_lexer": "ipython2",
   "version": "2.7.6"
  }
 },
 "nbformat": 4,
 "nbformat_minor": 5
}
