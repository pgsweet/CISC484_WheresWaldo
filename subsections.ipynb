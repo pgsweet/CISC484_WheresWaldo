{
 "cells": [
  {
   "cell_type": "raw",
   "source": [],
   "metadata": {
    "collapsed": false
   },
   "id": "50e4cd197abcea8a"
  },
  {
   "cell_type": "code",
   "execution_count": 1,
   "outputs": [],
   "source": [
    "import numpy as np\n",
    "import cv2 as cv"
   ],
   "metadata": {
    "collapsed": false,
    "ExecuteTime": {
     "end_time": "2025-05-10T17:08:39.999797300Z",
     "start_time": "2025-05-10T17:08:39.851088100Z"
    }
   },
   "id": "e2daf235d8810a51"
  },
  {
   "cell_type": "code",
   "execution_count": 2,
   "outputs": [],
   "source": [
    "def get_subsections(img, mask):\n",
    "    # original image size is (2800, 1760)\n",
    "    img_height = img.shape[0]\n",
    "    img_width = img.shape[1]\n",
    "    \n",
    "    crop_height = 192\n",
    "    crop_width = 192\n",
    "    \n",
    "    x = np.random.randint(0, img_width - crop_width)\n",
    "    y = np.random.randint(0, img_height - crop_height)\n",
    "    \n",
    "    cropped_img = img[y: y + crop_height, x: x + crop_width]\n",
    "    cropped_mask = mask[y: y + crop_height, x: x + crop_width]\n",
    "    \n",
    "    return cropped_img, cropped_mask"
   ],
   "metadata": {
    "collapsed": false,
    "ExecuteTime": {
     "end_time": "2025-05-10T17:08:46.314505600Z",
     "start_time": "2025-05-10T17:08:46.292307300Z"
    }
   },
   "id": "2d1fcdc6fa24d092"
  },
  {
   "cell_type": "code",
   "execution_count": null,
   "outputs": [],
   "source": [
    "full_images = []\n",
    "full_image_masks = []\n",
    "numScenes = 18\n",
    "\n",
    "cropped_images = []\n",
    "cropped_masks = []\n",
    "numCrops = 20 #placeholder, can change to anything to get more random subsections\n",
    "\n",
    "for i in range(1, numScenes):\n",
    "    img = cv.imread(f\"./original_images/full_images/{i}.jpg\")\n",
    "    full_images.append(img)\n",
    "    mask = cv.imread(f\"./original_images/full_images_masks/{i}.jpg\")\n",
    "    full_image_masks.append(mask)\n",
    "\n",
    "for i in range(1, numScenes):\n",
    "    for j in range(numCrops):\n",
    "        cropped_img, cropped_mask = get_subsections(full_images[i - 1], full_image_masks[i - 1])\n",
    "        cropped_images.append(cropped_img)\n",
    "        cropped_masks.append(cropped_mask)\n",
    "        \n",
    "for i in range(len(cropped_images)):\n",
    "    \n",
    "        \n",
    "# just for making sure multiple subsections are being taken for each image, press any key (I use enter) instead of closing window otherwise cell gets stuck\n",
    "'''\n",
    "for i in range(numCrops):\n",
    "    cv.imshow(f\"Cropped Image {i}\", cropped_images[i])\n",
    "    cv.imshow(f\"Cropped Mask {i}\", cropped_masks[i])\n",
    "    cv.waitKey(0)\n",
    "    cv.destroyAllWindows()\n",
    "'''"
   ],
   "metadata": {
    "collapsed": false,
    "is_executing": true,
    "ExecuteTime": {
     "start_time": "2025-05-10T17:08:47.624884700Z"
    }
   },
   "id": "b9c5f8f9b20419ae"
  },
  {
   "cell_type": "code",
   "execution_count": 3,
   "outputs": [],
   "source": [],
   "metadata": {
    "collapsed": false,
    "ExecuteTime": {
     "end_time": "2025-05-10T17:05:46.748916400Z",
     "start_time": "2025-05-10T17:05:46.745126400Z"
    }
   },
   "id": "c42e0ddf9acfd59a"
  }
 ],
 "metadata": {
  "kernelspec": {
   "display_name": "Python 3",
   "language": "python",
   "name": "python3"
  },
  "language_info": {
   "codemirror_mode": {
    "name": "ipython",
    "version": 2
   },
   "file_extension": ".py",
   "mimetype": "text/x-python",
   "name": "python",
   "nbconvert_exporter": "python",
   "pygments_lexer": "ipython2",
   "version": "2.7.6"
  }
 },
 "nbformat": 4,
 "nbformat_minor": 5
}
