{
 "cells": [
  {
   "cell_type": "raw",
   "source": [],
   "metadata": {
    "collapsed": false
   },
   "id": "50e4cd197abcea8a"
  },
  {
   "cell_type": "code",
   "source": [
    "import numpy as np\n",
    "import cv2 as cv\n",
    "import random\n",
    "import os"
   ],
   "metadata": {
    "collapsed": false,
    "ExecuteTime": {
     "end_time": "2025-05-12T14:07:32.357283Z",
     "start_time": "2025-05-12T14:07:32.193841Z"
    }
   },
   "id": "e2daf235d8810a51",
   "outputs": [],
   "execution_count": 2
  },
  {
   "cell_type": "code",
   "source": [
    "def get_subsections(img, mask):\n",
    "    # original image size is (2800, 1760)\n",
    "    img_height = img.shape[0]\n",
    "    img_width = img.shape[1]\n",
    "    \n",
    "    crop_height = 192\n",
    "    crop_width = 192\n",
    "    \n",
    "    x = np.random.randint(0, img_width - crop_width)\n",
    "    y = np.random.randint(0, img_height - crop_height)\n",
    "    \n",
    "    cropped_img = img[y: y + crop_height, x: x + crop_width]\n",
    "    cropped_mask = mask[y: y + crop_height, x: x + crop_width]\n",
    "    \n",
    "    return cropped_img, cropped_mask"
   ],
   "metadata": {
    "collapsed": false,
    "ExecuteTime": {
     "end_time": "2025-05-12T14:07:32.966701Z",
     "start_time": "2025-05-12T14:07:32.962701Z"
    }
   },
   "id": "2d1fcdc6fa24d092",
   "outputs": [],
   "execution_count": 3
  },
  {
   "metadata": {
    "ExecuteTime": {
     "end_time": "2025-05-12T14:07:33.884808Z",
     "start_time": "2025-05-12T14:07:33.881949Z"
    }
   },
   "cell_type": "code",
   "source": [
    "def has_white(image):\n",
    "    \"\"\"\n",
    "    Check if image contains any white pixels\n",
    "    Args:\n",
    "        image: numpy array representing an image\n",
    "    Returns:\n",
    "        bool: True if image contains white pixels, False otherwise\n",
    "    \"\"\"\n",
    "    white_threshold = 250\n",
    "\n",
    "    white_pixels = np.all(image >= white_threshold, axis=2)\n",
    "    return np.any(white_pixels)"
   ],
   "id": "813a76e93089dbb8",
   "outputs": [],
   "execution_count": 4
  },
  {
   "cell_type": "code",
   "source": [
    "full_images = []\n",
    "full_image_masks = []\n",
    "numScenes = 18\n",
    "\n",
    "cropped_images = []\n",
    "cropped_masks = []\n",
    "numCrops = 20 #placeholder, can change to anything to get more random subsections\n",
    "waldo_chance = 0.25\n",
    "\n",
    "for i in range(1, numScenes):\n",
    "    img = cv.imread(f\"./original_images/full_images/{i}.jpg\")\n",
    "    full_images.append(img)\n",
    "    mask = cv.imread(f\"./original_images/full_images_masks/{i}.jpg\")\n",
    "    full_image_masks.append(mask)\n",
    "\n",
    "if not os.path.exists(\"edited_images/subsample_images\"):\n",
    "    print(\"Making subsample_images folder\")\n",
    "    os.makedirs(\"edited_images/subsample_images\")\n",
    "if not os.path.exists(\"edited_images/subsample_masks\"):\n",
    "    print(\"Making subsample_masks folder\")\n",
    "    os.makedirs(\"edited_images/subsample_masks\")\n",
    "\n",
    "img_index = 0\n",
    "for i in range(1, numScenes):\n",
    "    print(f\"Scene {i}\")\n",
    "    for j in range(numCrops):\n",
    "        value = random.random()\n",
    "        cropped_img, cropped_mask = get_subsections(full_images[i - 1], full_image_masks[i - 1])\n",
    "\n",
    "        if value < waldo_chance:\n",
    "            while not has_white(cropped_mask):\n",
    "                cropped_img, cropped_mask = get_subsections(full_images[i - 1], full_image_masks[i - 1])\n",
    "\n",
    "        cropped_images.append(cropped_img)\n",
    "        cropped_masks.append(cropped_mask)\n",
    "\n",
    "        cv.imwrite(f\"./edited_images/subsample_images/sample{i}-{j}.jpg\", cropped_images[img_index])\n",
    "        cv.imwrite(f\"./edited_images/subsample_masks/sample{i}-{j}.jpg\", cropped_masks[img_index])\n",
    "        img_index += 1\n",
    "    \n",
    "    \n",
    "        \n",
    "# # just for making sure multiple subsections are being taken for each image, press any key (I use enter) instead of closing window otherwise cell gets stuck\n",
    "# '''\n",
    "# for i in range(numCrops):\n",
    "#     cv.imshow(f\"Cropped Image {i}\", cropped_images[i])\n",
    "#     cv.imshow(f\"Cropped Mask {i}\", cropped_masks[i])\n",
    "#     cv.waitKey(0)\n",
    "#     cv.destroyAllWindows()\n",
    "# '''"
   ],
   "metadata": {
    "collapsed": false,
    "ExecuteTime": {
     "end_time": "2025-05-12T14:24:21.392411Z",
     "start_time": "2025-05-12T14:24:18.417484Z"
    }
   },
   "id": "b9c5f8f9b20419ae",
   "outputs": [
    {
     "name": "stdout",
     "output_type": "stream",
     "text": [
      "Making subsample_images folder\n",
      "Making subsample_masks folder\n",
      "Scene 1\n",
      "Scene 2\n",
      "Scene 3\n",
      "Scene 4\n",
      "Scene 5\n",
      "Scene 6\n",
      "Scene 7\n",
      "Scene 8\n",
      "Scene 9\n",
      "Scene 10\n",
      "Scene 11\n",
      "Scene 12\n",
      "Scene 13\n",
      "Scene 14\n",
      "Scene 15\n",
      "Scene 16\n",
      "Scene 17\n"
     ]
    }
   ],
   "execution_count": 7
  },
  {
   "cell_type": "code",
   "execution_count": null,
   "outputs": [],
   "source": [],
   "metadata": {
    "collapsed": false
   },
   "id": "e6e58818035875de"
  }
 ],
 "metadata": {
  "kernelspec": {
   "display_name": "Python 3",
   "language": "python",
   "name": "python3"
  },
  "language_info": {
   "codemirror_mode": {
    "name": "ipython",
    "version": 2
   },
   "file_extension": ".py",
   "mimetype": "text/x-python",
   "name": "python",
   "nbconvert_exporter": "python",
   "pygments_lexer": "ipython2",
   "version": "2.7.6"
  }
 },
 "nbformat": 4,
 "nbformat_minor": 5
}
