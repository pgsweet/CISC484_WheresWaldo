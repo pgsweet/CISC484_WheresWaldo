{
 "cells": [
  {
   "cell_type": "raw",
   "source": [],
   "metadata": {
    "collapsed": false
   },
   "id": "50e4cd197abcea8a"
  },
  {
   "cell_type": "code",
   "execution_count": 2,
   "outputs": [],
   "source": [
    "import numpy as np\n",
    "import cv2 as cv"
   ],
   "metadata": {
    "collapsed": false,
    "ExecuteTime": {
     "end_time": "2025-05-09T03:22:58.095217300Z",
     "start_time": "2025-05-09T03:22:57.976864900Z"
    }
   },
   "id": "e2daf235d8810a51"
  },
  {
   "cell_type": "code",
   "execution_count": 3,
   "outputs": [],
   "source": [
    "def get_subsections(img, mask):\n",
    "    # original image size is (2800, 1760)\n",
    "    img_height = img.shape[0]\n",
    "    img_width = img.shape[1]\n",
    "    \n",
    "    crop_height = 128\n",
    "    crop_width = 128\n",
    "    \n",
    "    x = np.random.randint(0, img_width - crop_width)\n",
    "    y = np.random.randint(0, img_height - crop_height)\n",
    "    \n",
    "    cropped_img = img[y: y + crop_height, x: x + crop_width]\n",
    "    cropped_mask = mask[y: y + crop_height, x: x + crop_width]\n",
    "    \n",
    "    return cropped_img, cropped_mask"
   ],
   "metadata": {
    "collapsed": false,
    "ExecuteTime": {
     "end_time": "2025-05-09T03:22:58.110940300Z",
     "start_time": "2025-05-09T03:22:58.095217300Z"
    }
   },
   "id": "2d1fcdc6fa24d092"
  },
  {
   "cell_type": "code",
   "execution_count": 4,
   "outputs": [],
   "source": [
    "full_images = []\n",
    "full_image_masks = []\n",
    "numScenes = 18\n",
    "cropped_images = []\n",
    "cropped_masks = []\n",
    "numCrops = 20 #placeholder, can change to anything to get more random subsections\n",
    "\n",
    "for i in range(numScenes):\n",
    "    img = cv.imread(f\"./original_images/full_images/{i}.jpg\")\n",
    "    full_images.append(img)\n",
    "    mask = cv.imread(f\"./original_images/full_images_masks/{i}.jpg\")\n",
    "    full_image_masks.append(mask)\n",
    "\n",
    "for i in range(numScenes):\n",
    "    cropped_img, cropped_mask = get_subsections(full_images[i], full_image_masks[i])\n",
    "    cropped_images.append(cropped_img)\n",
    "    cropped_masks.append(cropped_mask)"
   ],
   "metadata": {
    "collapsed": false,
    "ExecuteTime": {
     "end_time": "2025-05-09T03:22:59.269807400Z",
     "start_time": "2025-05-09T03:22:58.110940300Z"
    }
   },
   "id": "b9c5f8f9b20419ae"
  },
  {
   "cell_type": "code",
   "execution_count": 4,
   "outputs": [],
   "source": [],
   "metadata": {
    "collapsed": false,
    "ExecuteTime": {
     "end_time": "2025-05-09T03:22:59.285806700Z",
     "start_time": "2025-05-09T03:22:59.269807400Z"
    }
   },
   "id": "c42e0ddf9acfd59a"
  }
 ],
 "metadata": {
  "kernelspec": {
   "display_name": "Python 3",
   "language": "python",
   "name": "python3"
  },
  "language_info": {
   "codemirror_mode": {
    "name": "ipython",
    "version": 2
   },
   "file_extension": ".py",
   "mimetype": "text/x-python",
   "name": "python",
   "nbconvert_exporter": "python",
   "pygments_lexer": "ipython2",
   "version": "2.7.6"
  }
 },
 "nbformat": 4,
 "nbformat_minor": 5
}
