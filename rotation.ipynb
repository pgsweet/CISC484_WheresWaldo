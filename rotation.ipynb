{
 "cells": [
  {
   "metadata": {},
   "cell_type": "code",
   "outputs": [],
   "execution_count": null,
   "source": [
    "import scipy as scipy\n",
    "import numpy as np\n",
    "import cv2\n",
    "import random\n",
    "import math"
   ],
   "id": "6e0dd0f1794e8505"
  },
  {
   "cell_type": "code",
   "execution_count": null,
   "id": "initial_id",
   "metadata": {
    "collapsed": true
   },
   "outputs": [],
   "source": [
    "# Define any global variables up here\n",
    "\n",
    "numImages = 18\n",
    "\n",
    "fullImages = []\n",
    "fullImagesMasks = []\n",
    "zoomedWaldo = []\n",
    "zoomedWaldoMasks = []\n",
    "\n",
    "transformedImages = []\n",
    "transformedImagesMasks = []\n",
    "transformedZoomed = []\n",
    "transformedZoomedMasks = []"
   ]
  },
  {
   "metadata": {},
   "cell_type": "code",
   "outputs": [],
   "execution_count": null,
   "source": [
    "# Helper functions\n",
    "\n",
    "# Takes in a path to an immage and converts it to a numpy array\n",
    "#\n",
    "# @param (path): Path to the image\n",
    "# @returns: The image converted to numpy array\n",
    "def convertToArray(path):\n",
    "    imageArray = cv2.imread(path)\n",
    "    return imageArray\n",
    "\n",
    "# Rotates the given image (as numpy array) by the given angle\n",
    "#\n",
    "# @param (image): Image represented as a numypy array\n",
    "# @param (angle): The amount of degrees to rotate the image by\n",
    "# @returns: The image converted to numpy array\n",
    "def rotateImage(image, angle):\n",
    "    height, width = image.shape[:2]\n",
    "    center = (width / 2, height / 2)\n",
    "\n",
    "    rotationMatrix = cv2.getRotationMatrix2D(center, angle, 1)\n",
    "\n",
    "    radians = math.radians(angle)\n",
    "    sin = math.sin(radians)\n",
    "    cos = math.cos(radians)\n",
    "    boundingWidth = int((height * abs(sin)) + (width * abs(cos)))\n",
    "    boudningHeight = int((height * abs(cos)) + (width * abs(sin)))\n",
    "\n",
    "    rotationMatrix[0, 2] += ((boundingWidth / 2) - center[0])\n",
    "    rotationMatrix[1, 2] += ((boudningHeight / 2) - center[1])\n",
    "\n",
    "    rotatedImage = cv2.warpAffine(image, rotationMatrix, (boundingWidth, boudningHeight), flags=cv2.INTER_LINEAR)\n",
    "    return rotatedImage\n",
    "\n",
    "# Manipulates an image and mask by flipping, rotating, and scaling them with the same transformations\n",
    "#\n",
    "# @param (imageArray): Image represented as a numypy array\n",
    "# @param (maskArray): Image mask represented as a numpy array\n",
    "# @returns: Fully changed image and corresponding image mask\n",
    "def manipulateImages(imageArray, maskArray):\n",
    "    # Uncomment these if you want to see the orignal image\n",
    "    # cv2.imshow(\"Image\", imageArray)\n",
    "    # cv2.waitKey(0)\n",
    "\n",
    "    flip = random.randint(-1,1)\n",
    "    angle = random.randint(1, 359)\n",
    "    scaleFactor = random.uniform(0.3, 0.9)\n",
    "\n",
    "    flippedImage = cv2.flip(imageArray, flip)\n",
    "    flippedMask = cv2.flip(maskArray, flip)\n",
    "\n",
    "    rotatedImage = rotateImage(flippedImage, angle)\n",
    "    rotatedMask = rotateImage(flippedMask, angle)\n",
    "\n",
    "    scaledImage = cv2.resize(rotatedImage, (0,0), fx=scaleFactor, fy=scaleFactor)\n",
    "    scaledMask = cv2.resize(rotatedMask, (0,0), fx=scaleFactor, fy=scaleFactor)\n",
    "\n",
    "    # Uncomment these if you want to see the modified image\n",
    "    # cv2.imshow(\"Image\", scaledImage)\n",
    "    # cv2.waitKey(0)\n",
    "\n",
    "    return scaledImage, scaledMask\n"
   ],
   "id": "eae88e2b09f22c16"
  },
  {
   "metadata": {},
   "cell_type": "code",
   "outputs": [],
   "execution_count": null,
   "source": [
    "for i in range(numImages):\n",
    "    fullImages.append(convertToArray(f\"./original_images/full_images/{i}.jpg\"))\n",
    "    fullImagesMasks.append(convertToArray(f\"./original_images/full_images_masks/{i}.jpg\"))\n",
    "    zoomedWaldo.append(convertToArray(f\"./original_images/zoomed_waldo/{i}.jpg\"))\n",
    "    zoomedWaldoMasks.append(convertToArray(f\"./original_images/zoomed_waldo_mask/{i}.jpg\"))\n",
    "\n",
    "for i in range(len(fullImages)):\n",
    "    image, mask = manipulateImages(fullImages[i], fullImagesMasks[i])\n",
    "    transformedImages.append(image)\n",
    "    transformedImagesMasks.append(mask)\n",
    "\n",
    "for i in range(len(zoomedWaldo)):\n",
    "    image, mask = manipulateImages(zoomedWaldo[i], zoomedWaldoMasks[i])\n",
    "    transformedZoomed.append(image)\n",
    "    transformedZoomedMasks.append(mask)"
   ],
   "id": "8cd880828fb77736"
  }
 ],
 "metadata": {
  "kernelspec": {
   "display_name": "Python 3",
   "language": "python",
   "name": "python3"
  },
  "language_info": {
   "codemirror_mode": {
    "name": "ipython",
    "version": 2
   },
   "file_extension": ".py",
   "mimetype": "text/x-python",
   "name": "python",
   "nbconvert_exporter": "python",
   "pygments_lexer": "ipython2",
   "version": "2.7.6"
  }
 },
 "nbformat": 4,
 "nbformat_minor": 5
}
