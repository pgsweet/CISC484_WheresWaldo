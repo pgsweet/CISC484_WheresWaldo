{
 "cells": [
  {
   "metadata": {
    "ExecuteTime": {
     "end_time": "2025-05-12T14:11:24.632811Z",
     "start_time": "2025-05-12T14:11:24.533214Z"
    }
   },
   "cell_type": "code",
   "source": [
    "import scipy as scipy\n",
    "import numpy as np\n",
    "import cv2\n",
    "import random\n",
    "import math\n",
    "import os"
   ],
   "id": "6e0dd0f1794e8505",
   "outputs": [],
   "execution_count": 1
  },
  {
   "cell_type": "code",
   "id": "initial_id",
   "metadata": {
    "collapsed": true,
    "ExecuteTime": {
     "end_time": "2025-05-12T14:11:27.887470Z",
     "start_time": "2025-05-12T14:11:27.883175Z"
    }
   },
   "source": [
    "# Define any global variables up here\n",
    "\n",
    "numImages = 18\n",
    "\n",
    "fullImages = []\n",
    "fullImagesMasks = []\n",
    "zoomedWaldo = []\n",
    "zoomedWaldoMasks = []\n",
    "\n",
    "transformedImages = []\n",
    "transformedImagesMasks = []\n",
    "transformedZoomed = []\n",
    "transformedZoomedMasks = []"
   ],
   "outputs": [],
   "execution_count": 2
  },
  {
   "metadata": {
    "ExecuteTime": {
     "end_time": "2025-05-12T14:11:28.886271Z",
     "start_time": "2025-05-12T14:11:28.879119Z"
    }
   },
   "cell_type": "code",
   "source": [
    "# Helper functions\n",
    "\n",
    "# Takes in a path to an immage and converts it to a numpy array\n",
    "#\n",
    "# @param (path): Path to the image\n",
    "# @returns: The image converted to numpy array\n",
    "def convertToArray(path):\n",
    "    imageArray = cv2.imread(path)\n",
    "    return imageArray\n",
    "\n",
    "\n",
    "# Rotates the given image (as numpy array) by the given angle\n",
    "#\n",
    "# @param (image): Image represented as a numypy array\n",
    "# @param (angle): The amount of degrees to rotate the image by\n",
    "# @returns: The image converted to numpy array\n",
    "def rotateImage(image, angle):\n",
    "    height, width = image.shape[:2]\n",
    "    center = (width / 2, height / 2)\n",
    "\n",
    "    rotationMatrix = cv2.getRotationMatrix2D(center, angle, 1)\n",
    "\n",
    "    radians = math.radians(angle)\n",
    "    sin = math.sin(radians)\n",
    "    cos = math.cos(radians)\n",
    "    boundingWidth = int((height * abs(sin)) + (width * abs(cos)))\n",
    "    boudningHeight = int((height * abs(cos)) + (width * abs(sin)))\n",
    "\n",
    "    rotationMatrix[0, 2] += ((boundingWidth / 2) - center[0])\n",
    "    rotationMatrix[1, 2] += ((boudningHeight / 2) - center[1])\n",
    "\n",
    "    rotatedImage = cv2.warpAffine(image, rotationMatrix, (boundingWidth, boudningHeight), flags=cv2.INTER_LINEAR)\n",
    "    return rotatedImage\n",
    "\n",
    "\n",
    "# Manipulates an image and mask by flipping, rotating, and scaling them with the same transformations\n",
    "#\n",
    "# @param (imageArray): Image represented as a numypy array\n",
    "# @param (maskArray): Image mask represented as a numpy array\n",
    "# @returns: Fully changed image and corresponding image mask\n",
    "def manipulateImages(imageArray, maskArray):\n",
    "    # Uncomment these if you want to see the orignal image\n",
    "    # cv2.imshow(\"Image\", imageArray)\n",
    "    # cv2.waitKey(0)\n",
    "\n",
    "    flip = random.randint(-1, 1)\n",
    "    angle = random.choice([0, 90, 180, 270])\n",
    "    scaleFactor = random.uniform(0.3, 0.9)\n",
    "\n",
    "    flippedImage = cv2.flip(imageArray, flip)\n",
    "    flippedMask = cv2.flip(maskArray, flip)\n",
    "\n",
    "    rotatedImage = rotateImage(flippedImage, angle)\n",
    "    rotatedMask = rotateImage(flippedMask, angle)\n",
    "\n",
    "    # scaledImage = cv2.resize(rotatedImage, (0, 0), fx=scaleFactor, fy=scaleFactor)\n",
    "    # scaledMask = cv2.resize(rotatedMask, (0, 0), fx=scaleFactor, fy=scaleFactor)\n",
    "\n",
    "    # Uncomment these if you want to see the modified image\n",
    "    # cv2.imshow(\"Image\", scaledImage)\n",
    "    # cv2.waitKey(0)\n",
    "\n",
    "    return rotatedImage, rotatedMask\n"
   ],
   "id": "29018b4c0078706",
   "outputs": [],
   "execution_count": 3
  },
  {
   "metadata": {
    "ExecuteTime": {
     "end_time": "2025-05-12T14:24:35.270108Z",
     "start_time": "2025-05-12T14:24:34.572994Z"
    }
   },
   "cell_type": "code",
   "source": [
    "num_crops = 20\n",
    "num_scenes = 18\n",
    "\n",
    "for i in range(1, num_scenes):\n",
    "    print(f\"Scene {i}\")\n",
    "    for j in range(num_crops):\n",
    "        image_path = f\"./edited_images/subsample_images/sample{i}-{j}.jpg\"\n",
    "        mask_path = f\"./edited_images/subsample_masks/sample{i}-{j}.jpg\"\n",
    "\n",
    "        image = cv2.imread(image_path)\n",
    "        mask = cv2.imread(mask_path)\n",
    "\n",
    "        image, mask = manipulateImages(image, mask)\n",
    "\n",
    "        cv2.imwrite(f\"edited_images/subsample_images/sample{i}-{j}.jpg\", image)\n",
    "        cv2.imwrite(f\"edited_images/subsample_masks/sample{i}-{j}.jpg\", mask)"
   ],
   "id": "4d245b5cc7d08cfb",
   "outputs": [
    {
     "name": "stdout",
     "output_type": "stream",
     "text": [
      "Scene 1\n",
      "Scene 2\n",
      "Scene 3\n",
      "Scene 4\n",
      "Scene 5\n",
      "Scene 6\n",
      "Scene 7\n",
      "Scene 8\n",
      "Scene 9\n",
      "Scene 10\n",
      "Scene 11\n",
      "Scene 12\n",
      "Scene 13\n",
      "Scene 14\n",
      "Scene 15\n",
      "Scene 16\n",
      "Scene 17\n"
     ]
    }
   ],
   "execution_count": 11
  }
 ],
 "metadata": {
  "kernelspec": {
   "display_name": "Python 3",
   "language": "python",
   "name": "python3"
  },
  "language_info": {
   "codemirror_mode": {
    "name": "ipython",
    "version": 2
   },
   "file_extension": ".py",
   "mimetype": "text/x-python",
   "name": "python",
   "nbconvert_exporter": "python",
   "pygments_lexer": "ipython2",
   "version": "2.7.6"
  }
 },
 "nbformat": 4,
 "nbformat_minor": 5
}
